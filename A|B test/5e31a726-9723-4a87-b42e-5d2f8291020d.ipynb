{
 "cells": [
  {
   "cell_type": "markdown",
   "id": "bcfa3ac0",
   "metadata": {},
   "source": [
    "# Проектная работа по теме \"A/B-тестирование\""
   ]
  },
  {
   "cell_type": "markdown",
   "id": "2896cf13",
   "metadata": {},
   "source": [
    "## Содержание"
   ]
  },
  {
   "cell_type": "markdown",
   "id": "037cd841",
   "metadata": {},
   "source": [
    "+ [Цель;](#objective)\n",
    "+ [Описание данных;](#describe)\n",
    "+ [Задачи;](#tasks)\n",
    "+ Основной проект:\n",
    "    + [Исследование данных;](#analysis)\n",
    "    + [Оценка корректности проведения теста;](#testcheck)\n",
    "    + [Проведение исследовательского анализа данных;](#analysis2)\n",
    "    + [Оценка результатов A/B-тестирования;](#abtest)\n",
    "    + [Финальные выводы.](#conclusion)"
   ]
  },
  {
   "cell_type": "markdown",
   "id": "b4c3e892",
   "metadata": {},
   "source": [
    "<a id=\"objective\"></a>  \n",
    "## Цель"
   ]
  },
  {
   "cell_type": "markdown",
   "id": "4e49304f",
   "metadata": {},
   "source": [
    "Провести оценку результатов A/B-теста."
   ]
  },
  {
   "cell_type": "markdown",
   "id": "fa96a209",
   "metadata": {},
   "source": [
    "<a id=\"describe\"></a>  \n",
    "## Описание данных"
   ]
  },
  {
   "cell_type": "markdown",
   "id": "df35fe71",
   "metadata": {},
   "source": [
    "**Данные**\\\n",
    "(Из уважения к сотрудникам Яндекс, готовящим датасеты, ссылки на них \"битые\")\n",
    "[final_ab_events.csv](https://disk.yandex.ru/)\n",
    "\n",
    "[ab_project_marketing_events.csv](https://disk.yandex.ru/)\n",
    "\n",
    "[final_ab_new_users.csv](https://disk.yandex.ru/)\n",
    "\n",
    "[final_ab_participants.csv](https://disk.yandex.ru/)\n",
    "\n",
    "### Описание данных\n",
    "\n",
    "`ab_project_marketing_events.csv` — календарь маркетинговых событий на 2020 год.\n",
    "\n",
    "Структура файла:\n",
    "\n",
    "- `name` — название маркетингового события;\n",
    "- `regions` — регионы, в которых будет проводиться рекламная кампания;\n",
    "- `start_dt` — дата начала кампании;\n",
    "- `finish_dt` — дата завершения кампании.\n",
    "\n",
    "`final_ab_new_users.csv` — пользователи, зарегистрировавшиеся с 7 по 21 декабря 2020 года.\n",
    "\n",
    "Структура файла:\n",
    "\n",
    "- `user_id` — идентификатор пользователя;\n",
    "- `first_date` — дата регистрации;\n",
    "- `region` — регион пользователя;\n",
    "- `device` — устройство, с которого происходила регистрация.\n",
    "\n",
    "`final_ab_events.csv` — действия новых пользователей в период с 7 декабря 2020 по 4 января 2021 года.\n",
    "\n",
    "Структура файла:\n",
    "\n",
    "- `user_id` — идентификатор пользователя;\n",
    "- `event_dt` — дата и время покупки;\n",
    "- `event_name` — тип события;\n",
    "- `details` — дополнительные данные о событии. Например, для покупок, `purchase,` в этом поле хранится стоимость покупки в долларах.\n",
    "\n",
    "`final_ab_participants.csv` — таблица участников тестов.\n",
    "\n",
    "Структура файла:\n",
    "\n",
    "- `user_id` — идентификатор пользователя;\n",
    "- `ab_test` — название теста;\n",
    "- `group` — группа пользователя."
   ]
  },
  {
   "cell_type": "markdown",
   "id": "f8cafcd6",
   "metadata": {},
   "source": [
    "<a id=\"tasks\"></a>  \n",
    "## Задачи"
   ]
  },
  {
   "cell_type": "markdown",
   "id": "af4160d0",
   "metadata": {},
   "source": [
    "1) Исследовать данные;\\\n",
    "2) Оценить корректность проведения теста;\\\n",
    "3) Провести исследовательский анализ данных;\\\n",
    "4) Оценить результаты A/B-тестирования;\\\n",
    "5) Сформулировать вывод. "
   ]
  },
  {
   "cell_type": "markdown",
   "id": "6081107f",
   "metadata": {},
   "source": [
    "<a id=\"analysis\"></a>  \n",
    "## Исследование данных"
   ]
  },
  {
   "cell_type": "code",
   "execution_count": 48,
   "id": "19e187fc",
   "metadata": {},
   "outputs": [],
   "source": [
    "#импортируем все нужные бибилиотеки\n",
    "import pandas as pd\n",
    "import datetime as dt\n",
    "import seaborn as sns\n",
    "import plotly.express as px\n",
    "from statsmodels.stats.proportion import proportions_ztest\n",
    "import matplotlib.pyplot as plt\n",
    "from plotly import graph_objects as go\n",
    "from datetime import timedelta\n"
   ]
  },
  {
   "cell_type": "code",
   "execution_count": 49,
   "id": "d5f9f457",
   "metadata": {},
   "outputs": [],
   "source": [
    "#выгрузим данные в датасеты\n",
    "try:\n",
    "    event = pd.read_csv('https://code.s3.yandex.net/datasets/final_ab_events.csv')\n",
    "    marketing_event = pd.read_csv('https://code.s3.yandex.net/datasets/ab_project_marketing_events.csv')\n",
    "    new_user = pd.read_csv('https://code.s3.yandex.net/datasets/final_ab_new_users.csv')\n",
    "    participants = pd.read_csv('https://code.s3.yandex.net/datasets/final_ab_participants.csv')\n",
    "except:\n",
    "    event = pd.read_csv('final_ab_events.csv')\n",
    "    marketing_event = pd.read_csv('ab_project_marketing_events.csv')\n",
    "    new_user = pd.read_csv('final_ab_new_users.csv')\n",
    "    participants = pd.read_csv('final_ab_participants.csv')"
   ]
  },
  {
   "cell_type": "code",
   "execution_count": 50,
   "id": "60e33f27",
   "metadata": {},
   "outputs": [],
   "source": [
    "#Запустим настройки бибилиотеки sns для постройки графиков в дальнейшем\n",
    "sns.set()"
   ]
  },
  {
   "cell_type": "markdown",
   "id": "d89e968b",
   "metadata": {},
   "source": [
    "Выведем первые 5 строк каждого из датасета."
   ]
  },
  {
   "cell_type": "code",
   "execution_count": 51,
   "id": "817f0048",
   "metadata": {},
   "outputs": [
    {
     "data": {
      "text/html": [
       "<div>\n",
       "<style scoped>\n",
       "    .dataframe tbody tr th:only-of-type {\n",
       "        vertical-align: middle;\n",
       "    }\n",
       "\n",
       "    .dataframe tbody tr th {\n",
       "        vertical-align: top;\n",
       "    }\n",
       "\n",
       "    .dataframe thead th {\n",
       "        text-align: right;\n",
       "    }\n",
       "</style>\n",
       "<table border=\"1\" class=\"dataframe\">\n",
       "  <thead>\n",
       "    <tr style=\"text-align: right;\">\n",
       "      <th></th>\n",
       "      <th>user_id</th>\n",
       "      <th>event_dt</th>\n",
       "      <th>event_name</th>\n",
       "      <th>details</th>\n",
       "    </tr>\n",
       "  </thead>\n",
       "  <tbody>\n",
       "    <tr>\n",
       "      <th>0</th>\n",
       "      <td>E1BDDCE0DAFA2679</td>\n",
       "      <td>2020-12-07 20:22:03</td>\n",
       "      <td>purchase</td>\n",
       "      <td>99.99</td>\n",
       "    </tr>\n",
       "    <tr>\n",
       "      <th>1</th>\n",
       "      <td>7B6452F081F49504</td>\n",
       "      <td>2020-12-07 09:22:53</td>\n",
       "      <td>purchase</td>\n",
       "      <td>9.99</td>\n",
       "    </tr>\n",
       "    <tr>\n",
       "      <th>2</th>\n",
       "      <td>9CD9F34546DF254C</td>\n",
       "      <td>2020-12-07 12:59:29</td>\n",
       "      <td>purchase</td>\n",
       "      <td>4.99</td>\n",
       "    </tr>\n",
       "    <tr>\n",
       "      <th>3</th>\n",
       "      <td>96F27A054B191457</td>\n",
       "      <td>2020-12-07 04:02:40</td>\n",
       "      <td>purchase</td>\n",
       "      <td>4.99</td>\n",
       "    </tr>\n",
       "    <tr>\n",
       "      <th>4</th>\n",
       "      <td>1FD7660FDF94CA1F</td>\n",
       "      <td>2020-12-07 10:15:09</td>\n",
       "      <td>purchase</td>\n",
       "      <td>4.99</td>\n",
       "    </tr>\n",
       "  </tbody>\n",
       "</table>\n",
       "</div>"
      ],
      "text/plain": [
       "            user_id             event_dt event_name  details\n",
       "0  E1BDDCE0DAFA2679  2020-12-07 20:22:03   purchase    99.99\n",
       "1  7B6452F081F49504  2020-12-07 09:22:53   purchase     9.99\n",
       "2  9CD9F34546DF254C  2020-12-07 12:59:29   purchase     4.99\n",
       "3  96F27A054B191457  2020-12-07 04:02:40   purchase     4.99\n",
       "4  1FD7660FDF94CA1F  2020-12-07 10:15:09   purchase     4.99"
      ]
     },
     "execution_count": 51,
     "metadata": {},
     "output_type": "execute_result"
    }
   ],
   "source": [
    "event.head(5)"
   ]
  },
  {
   "cell_type": "code",
   "execution_count": 52,
   "id": "71ecaf83",
   "metadata": {},
   "outputs": [
    {
     "data": {
      "text/html": [
       "<div>\n",
       "<style scoped>\n",
       "    .dataframe tbody tr th:only-of-type {\n",
       "        vertical-align: middle;\n",
       "    }\n",
       "\n",
       "    .dataframe tbody tr th {\n",
       "        vertical-align: top;\n",
       "    }\n",
       "\n",
       "    .dataframe thead th {\n",
       "        text-align: right;\n",
       "    }\n",
       "</style>\n",
       "<table border=\"1\" class=\"dataframe\">\n",
       "  <thead>\n",
       "    <tr style=\"text-align: right;\">\n",
       "      <th></th>\n",
       "      <th>name</th>\n",
       "      <th>regions</th>\n",
       "      <th>start_dt</th>\n",
       "      <th>finish_dt</th>\n",
       "    </tr>\n",
       "  </thead>\n",
       "  <tbody>\n",
       "    <tr>\n",
       "      <th>0</th>\n",
       "      <td>Christmas&amp;New Year Promo</td>\n",
       "      <td>EU, N.America</td>\n",
       "      <td>2020-12-25</td>\n",
       "      <td>2021-01-03</td>\n",
       "    </tr>\n",
       "    <tr>\n",
       "      <th>1</th>\n",
       "      <td>St. Valentine's Day Giveaway</td>\n",
       "      <td>EU, CIS, APAC, N.America</td>\n",
       "      <td>2020-02-14</td>\n",
       "      <td>2020-02-16</td>\n",
       "    </tr>\n",
       "    <tr>\n",
       "      <th>2</th>\n",
       "      <td>St. Patric's Day Promo</td>\n",
       "      <td>EU, N.America</td>\n",
       "      <td>2020-03-17</td>\n",
       "      <td>2020-03-19</td>\n",
       "    </tr>\n",
       "    <tr>\n",
       "      <th>3</th>\n",
       "      <td>Easter Promo</td>\n",
       "      <td>EU, CIS, APAC, N.America</td>\n",
       "      <td>2020-04-12</td>\n",
       "      <td>2020-04-19</td>\n",
       "    </tr>\n",
       "    <tr>\n",
       "      <th>4</th>\n",
       "      <td>4th of July Promo</td>\n",
       "      <td>N.America</td>\n",
       "      <td>2020-07-04</td>\n",
       "      <td>2020-07-11</td>\n",
       "    </tr>\n",
       "  </tbody>\n",
       "</table>\n",
       "</div>"
      ],
      "text/plain": [
       "                           name                   regions    start_dt  \\\n",
       "0      Christmas&New Year Promo             EU, N.America  2020-12-25   \n",
       "1  St. Valentine's Day Giveaway  EU, CIS, APAC, N.America  2020-02-14   \n",
       "2        St. Patric's Day Promo             EU, N.America  2020-03-17   \n",
       "3                  Easter Promo  EU, CIS, APAC, N.America  2020-04-12   \n",
       "4             4th of July Promo                 N.America  2020-07-04   \n",
       "\n",
       "    finish_dt  \n",
       "0  2021-01-03  \n",
       "1  2020-02-16  \n",
       "2  2020-03-19  \n",
       "3  2020-04-19  \n",
       "4  2020-07-11  "
      ]
     },
     "execution_count": 52,
     "metadata": {},
     "output_type": "execute_result"
    }
   ],
   "source": [
    "marketing_event.head(5)"
   ]
  },
  {
   "cell_type": "code",
   "execution_count": 53,
   "id": "b4cf6f1a",
   "metadata": {},
   "outputs": [
    {
     "data": {
      "text/html": [
       "<div>\n",
       "<style scoped>\n",
       "    .dataframe tbody tr th:only-of-type {\n",
       "        vertical-align: middle;\n",
       "    }\n",
       "\n",
       "    .dataframe tbody tr th {\n",
       "        vertical-align: top;\n",
       "    }\n",
       "\n",
       "    .dataframe thead th {\n",
       "        text-align: right;\n",
       "    }\n",
       "</style>\n",
       "<table border=\"1\" class=\"dataframe\">\n",
       "  <thead>\n",
       "    <tr style=\"text-align: right;\">\n",
       "      <th></th>\n",
       "      <th>user_id</th>\n",
       "      <th>first_date</th>\n",
       "      <th>region</th>\n",
       "      <th>device</th>\n",
       "    </tr>\n",
       "  </thead>\n",
       "  <tbody>\n",
       "    <tr>\n",
       "      <th>0</th>\n",
       "      <td>D72A72121175D8BE</td>\n",
       "      <td>2020-12-07</td>\n",
       "      <td>EU</td>\n",
       "      <td>PC</td>\n",
       "    </tr>\n",
       "    <tr>\n",
       "      <th>1</th>\n",
       "      <td>F1C668619DFE6E65</td>\n",
       "      <td>2020-12-07</td>\n",
       "      <td>N.America</td>\n",
       "      <td>Android</td>\n",
       "    </tr>\n",
       "    <tr>\n",
       "      <th>2</th>\n",
       "      <td>2E1BF1D4C37EA01F</td>\n",
       "      <td>2020-12-07</td>\n",
       "      <td>EU</td>\n",
       "      <td>PC</td>\n",
       "    </tr>\n",
       "    <tr>\n",
       "      <th>3</th>\n",
       "      <td>50734A22C0C63768</td>\n",
       "      <td>2020-12-07</td>\n",
       "      <td>EU</td>\n",
       "      <td>iPhone</td>\n",
       "    </tr>\n",
       "    <tr>\n",
       "      <th>4</th>\n",
       "      <td>E1BDDCE0DAFA2679</td>\n",
       "      <td>2020-12-07</td>\n",
       "      <td>N.America</td>\n",
       "      <td>iPhone</td>\n",
       "    </tr>\n",
       "  </tbody>\n",
       "</table>\n",
       "</div>"
      ],
      "text/plain": [
       "            user_id  first_date     region   device\n",
       "0  D72A72121175D8BE  2020-12-07         EU       PC\n",
       "1  F1C668619DFE6E65  2020-12-07  N.America  Android\n",
       "2  2E1BF1D4C37EA01F  2020-12-07         EU       PC\n",
       "3  50734A22C0C63768  2020-12-07         EU   iPhone\n",
       "4  E1BDDCE0DAFA2679  2020-12-07  N.America   iPhone"
      ]
     },
     "execution_count": 53,
     "metadata": {},
     "output_type": "execute_result"
    }
   ],
   "source": [
    "new_user.head(5)"
   ]
  },
  {
   "cell_type": "code",
   "execution_count": 54,
   "id": "870455da",
   "metadata": {},
   "outputs": [
    {
     "data": {
      "text/html": [
       "<div>\n",
       "<style scoped>\n",
       "    .dataframe tbody tr th:only-of-type {\n",
       "        vertical-align: middle;\n",
       "    }\n",
       "\n",
       "    .dataframe tbody tr th {\n",
       "        vertical-align: top;\n",
       "    }\n",
       "\n",
       "    .dataframe thead th {\n",
       "        text-align: right;\n",
       "    }\n",
       "</style>\n",
       "<table border=\"1\" class=\"dataframe\">\n",
       "  <thead>\n",
       "    <tr style=\"text-align: right;\">\n",
       "      <th></th>\n",
       "      <th>user_id</th>\n",
       "      <th>group</th>\n",
       "      <th>ab_test</th>\n",
       "    </tr>\n",
       "  </thead>\n",
       "  <tbody>\n",
       "    <tr>\n",
       "      <th>0</th>\n",
       "      <td>D1ABA3E2887B6A73</td>\n",
       "      <td>A</td>\n",
       "      <td>recommender_system_test</td>\n",
       "    </tr>\n",
       "    <tr>\n",
       "      <th>1</th>\n",
       "      <td>A7A3664BD6242119</td>\n",
       "      <td>A</td>\n",
       "      <td>recommender_system_test</td>\n",
       "    </tr>\n",
       "    <tr>\n",
       "      <th>2</th>\n",
       "      <td>DABC14FDDFADD29E</td>\n",
       "      <td>A</td>\n",
       "      <td>recommender_system_test</td>\n",
       "    </tr>\n",
       "    <tr>\n",
       "      <th>3</th>\n",
       "      <td>04988C5DF189632E</td>\n",
       "      <td>A</td>\n",
       "      <td>recommender_system_test</td>\n",
       "    </tr>\n",
       "    <tr>\n",
       "      <th>4</th>\n",
       "      <td>482F14783456D21B</td>\n",
       "      <td>B</td>\n",
       "      <td>recommender_system_test</td>\n",
       "    </tr>\n",
       "  </tbody>\n",
       "</table>\n",
       "</div>"
      ],
      "text/plain": [
       "            user_id group                  ab_test\n",
       "0  D1ABA3E2887B6A73     A  recommender_system_test\n",
       "1  A7A3664BD6242119     A  recommender_system_test\n",
       "2  DABC14FDDFADD29E     A  recommender_system_test\n",
       "3  04988C5DF189632E     A  recommender_system_test\n",
       "4  482F14783456D21B     B  recommender_system_test"
      ]
     },
     "execution_count": 54,
     "metadata": {},
     "output_type": "execute_result"
    }
   ],
   "source": [
    "participants.head(5)"
   ]
  },
  {
   "cell_type": "markdown",
   "id": "dd611301",
   "metadata": {},
   "source": [
    "Исходя из данных таблиц мы видим, что наименования колонок написаны в верном формате и удобны для работы. Оставим им. Посмотрим на пропуски, дубликаты данных и основную информацию по каждому из датасета."
   ]
  },
  {
   "cell_type": "code",
   "execution_count": 55,
   "id": "866c4408",
   "metadata": {},
   "outputs": [],
   "source": [
    "#Создадим функцию, которая бы вызывала метод info, считала бы кол-во записей, прпоуски в каждой из колонок и считала бы кол-во уникальных значений\n",
    "#а так же выводила бы дублирующиеся строки\n",
    "def information(row):\n",
    "    print('Основная информация:')\n",
    "    print()\n",
    "    print(row.info())\n",
    "    print('*'*25)\n",
    "    print(f'Количество записей : {row.shape[0]}')\n",
    "    print('-'*25)\n",
    "    for columns in row:\n",
    "        print(f'Количество пропусков в {columns} : {row[columns].isna().sum()}')\n",
    "    print('-'*25)\n",
    "    for columns in row:\n",
    "        print(f'Количество уникальных значений в колонке {columns} : {row[columns].nunique()}')    \n",
    "    print('*'*25)\n",
    "    print('Повторяющиеся строки:')\n",
    "    print(row[row.duplicated()])"
   ]
  },
  {
   "cell_type": "code",
   "execution_count": 56,
   "id": "1cb9c7fc",
   "metadata": {},
   "outputs": [
    {
     "name": "stdout",
     "output_type": "stream",
     "text": [
      "Основная информация:\n",
      "\n",
      "<class 'pandas.core.frame.DataFrame'>\n",
      "RangeIndex: 18268 entries, 0 to 18267\n",
      "Data columns (total 3 columns):\n",
      " #   Column   Non-Null Count  Dtype \n",
      "---  ------   --------------  ----- \n",
      " 0   user_id  18268 non-null  object\n",
      " 1   group    18268 non-null  object\n",
      " 2   ab_test  18268 non-null  object\n",
      "dtypes: object(3)\n",
      "memory usage: 428.3+ KB\n",
      "None\n",
      "*************************\n",
      "Количество записей : 18268\n",
      "-------------------------\n",
      "Количество пропусков в user_id : 0\n",
      "Количество пропусков в group : 0\n",
      "Количество пропусков в ab_test : 0\n",
      "-------------------------\n",
      "Количество уникальных значений в колонке user_id : 16666\n",
      "Количество уникальных значений в колонке group : 2\n",
      "Количество уникальных значений в колонке ab_test : 2\n",
      "*************************\n",
      "Повторяющиеся строки:\n",
      "Empty DataFrame\n",
      "Columns: [user_id, group, ab_test]\n",
      "Index: []\n"
     ]
    }
   ],
   "source": [
    "information(participants)"
   ]
  },
  {
   "cell_type": "markdown",
   "id": "fae815ee",
   "metadata": {},
   "source": [
    "В датасете, хранящий данные об участниках тестов:\n",
    "+ Всего *18268* строк;\n",
    "+ *Пропуски* - **отсутствуют**;\n",
    "+ Всего 16666 уникальных пользователей. Кол-во записей 18268, значит, **есть дубликаты** в колонке пользователя. \n",
    "+ В колонке с группой всего *2 значения*: A и B, что соответсвует данным по условиям задачи;\n",
    "+ в колонке с названием теста *2 значения* : одно с наименованием теста, который по условиям задачи нужно изучить, второй тест вне нашего обзора.\n",
    "\n",
    "Выведем информацию по дубликатам и выведем уникальные значения по группам и наименованиям тестов."
   ]
  },
  {
   "cell_type": "code",
   "execution_count": 57,
   "id": "cfd0208b",
   "metadata": {},
   "outputs": [
    {
     "name": "stdout",
     "output_type": "stream",
     "text": [
      "Кол-во дублирующихся пользователей : 1602\n"
     ]
    }
   ],
   "source": [
    "print(f'Кол-во дублирующихся пользователей : {participants[\"user_id\"].duplicated().sum()}')"
   ]
  },
  {
   "cell_type": "markdown",
   "id": "db2953b4",
   "metadata": {},
   "source": [
    "**1602** пользователя встречаются несколько раз в датасете. Это может быть вызвано тем, что одни и те же пользователи *пересекаются* в разных группах или разных теста. Далее по работе проверим данную гиппотезу."
   ]
  },
  {
   "cell_type": "code",
   "execution_count": 58,
   "id": "f6f13e8b",
   "metadata": {},
   "outputs": [
    {
     "name": "stdout",
     "output_type": "stream",
     "text": [
      "Уникальные значения в колонке group : ['A', 'B']\n",
      "Уникальные значения в колонке ab_test : ['recommender_system_test', 'interface_eu_test']\n"
     ]
    }
   ],
   "source": [
    "print(f'Уникальные значения в колонке group : {participants[\"group\"].unique().tolist()}')\n",
    "print(f'Уникальные значения в колонке ab_test : {participants[\"ab_test\"].unique().tolist()}')"
   ]
  },
  {
   "cell_type": "markdown",
   "id": "5679a919",
   "metadata": {},
   "source": [
    "Выведем оснувную информацию из датасета с новыми пользователями. "
   ]
  },
  {
   "cell_type": "code",
   "execution_count": 59,
   "id": "84338564",
   "metadata": {},
   "outputs": [
    {
     "name": "stdout",
     "output_type": "stream",
     "text": [
      "Основная информация:\n",
      "\n",
      "<class 'pandas.core.frame.DataFrame'>\n",
      "RangeIndex: 61733 entries, 0 to 61732\n",
      "Data columns (total 4 columns):\n",
      " #   Column      Non-Null Count  Dtype \n",
      "---  ------      --------------  ----- \n",
      " 0   user_id     61733 non-null  object\n",
      " 1   first_date  61733 non-null  object\n",
      " 2   region      61733 non-null  object\n",
      " 3   device      61733 non-null  object\n",
      "dtypes: object(4)\n",
      "memory usage: 1.9+ MB\n",
      "None\n",
      "*************************\n",
      "Количество записей : 61733\n",
      "-------------------------\n",
      "Количество пропусков в user_id : 0\n",
      "Количество пропусков в first_date : 0\n",
      "Количество пропусков в region : 0\n",
      "Количество пропусков в device : 0\n",
      "-------------------------\n",
      "Количество уникальных значений в колонке user_id : 61733\n",
      "Количество уникальных значений в колонке first_date : 17\n",
      "Количество уникальных значений в колонке region : 4\n",
      "Количество уникальных значений в колонке device : 4\n",
      "*************************\n",
      "Повторяющиеся строки:\n",
      "Empty DataFrame\n",
      "Columns: [user_id, first_date, region, device]\n",
      "Index: []\n"
     ]
    }
   ],
   "source": [
    "information(new_user)"
   ]
  },
  {
   "cell_type": "markdown",
   "id": "4ea0befd",
   "metadata": {},
   "source": [
    "В датасете, хранящий данные об новых пользователях:\n",
    "+ Всего *61733* строк;\n",
    "+ *Пропуски* - **отсутствуют**;\n",
    "+ Всего 61733 уникальных пользователей. Кол-во записей 61733, значит, **нет дубликатов** в колонке пользователя;\n",
    "+ В колонке с датой регистрации всего *17 значений*. Некоторые пользователи заходили на сайт в одни и те же дни;\n",
    "+ В колонке с названием регоина *4 значения* : проверим какие именно далее. Некоторые пользователи находятся в одних и тех же регионах;\n",
    "+ В колонке с устройствоим *4 значения*: проверим какие именно далее. Некоторые пользователи заходили с одних и тех же устройств. "
   ]
  },
  {
   "cell_type": "code",
   "execution_count": 60,
   "id": "97722b81",
   "metadata": {},
   "outputs": [
    {
     "name": "stdout",
     "output_type": "stream",
     "text": [
      "Регионы представленные в датасете : ['EU', 'N.America', 'APAC', 'CIS']\n",
      "Устройства представленные в датасете : ['PC', 'Android', 'iPhone', 'Mac']\n"
     ]
    }
   ],
   "source": [
    "print(f'Регионы представленные в датасете : {new_user[\"region\"].unique().tolist()}')\n",
    "print(f'Устройства представленные в датасете : {new_user[\"device\"].unique().tolist()}')"
   ]
  },
  {
   "cell_type": "markdown",
   "id": "91c995b0",
   "metadata": {},
   "source": [
    "Выведем оснувную информацию из датасета с маркетинговыми акциями. "
   ]
  },
  {
   "cell_type": "code",
   "execution_count": 61,
   "id": "fd17598c",
   "metadata": {},
   "outputs": [
    {
     "name": "stdout",
     "output_type": "stream",
     "text": [
      "Основная информация:\n",
      "\n",
      "<class 'pandas.core.frame.DataFrame'>\n",
      "RangeIndex: 14 entries, 0 to 13\n",
      "Data columns (total 4 columns):\n",
      " #   Column     Non-Null Count  Dtype \n",
      "---  ------     --------------  ----- \n",
      " 0   name       14 non-null     object\n",
      " 1   regions    14 non-null     object\n",
      " 2   start_dt   14 non-null     object\n",
      " 3   finish_dt  14 non-null     object\n",
      "dtypes: object(4)\n",
      "memory usage: 576.0+ bytes\n",
      "None\n",
      "*************************\n",
      "Количество записей : 14\n",
      "-------------------------\n",
      "Количество пропусков в name : 0\n",
      "Количество пропусков в regions : 0\n",
      "Количество пропусков в start_dt : 0\n",
      "Количество пропусков в finish_dt : 0\n",
      "-------------------------\n",
      "Количество уникальных значений в колонке name : 14\n",
      "Количество уникальных значений в колонке regions : 6\n",
      "Количество уникальных значений в колонке start_dt : 14\n",
      "Количество уникальных значений в колонке finish_dt : 14\n",
      "*************************\n",
      "Повторяющиеся строки:\n",
      "Empty DataFrame\n",
      "Columns: [name, regions, start_dt, finish_dt]\n",
      "Index: []\n"
     ]
    }
   ],
   "source": [
    "information(marketing_event)"
   ]
  },
  {
   "cell_type": "markdown",
   "id": "b746091b",
   "metadata": {},
   "source": [
    "В датасете, хранящий данные об маркетинговых акциях:\n",
    "+ Всего *14* строк;\n",
    "+ *Пропуски* - **отсутствуют**;\n",
    "+ Всего *14* уникальных наименований акций; \n",
    "+ Всего *6* уникальных наборов регионов распространения;\n",
    "+ Всего 14 дат старта и 14 дат окончания."
   ]
  },
  {
   "cell_type": "markdown",
   "id": "b25f2168",
   "metadata": {},
   "source": [
    "Выведем оснувную информацию из датасета с действиями пользователей."
   ]
  },
  {
   "cell_type": "code",
   "execution_count": 62,
   "id": "38ac654c",
   "metadata": {},
   "outputs": [
    {
     "name": "stdout",
     "output_type": "stream",
     "text": [
      "Основная информация:\n",
      "\n",
      "<class 'pandas.core.frame.DataFrame'>\n",
      "RangeIndex: 440317 entries, 0 to 440316\n",
      "Data columns (total 4 columns):\n",
      " #   Column      Non-Null Count   Dtype  \n",
      "---  ------      --------------   -----  \n",
      " 0   user_id     440317 non-null  object \n",
      " 1   event_dt    440317 non-null  object \n",
      " 2   event_name  440317 non-null  object \n",
      " 3   details     62740 non-null   float64\n",
      "dtypes: float64(1), object(3)\n",
      "memory usage: 13.4+ MB\n",
      "None\n",
      "*************************\n",
      "Количество записей : 440317\n",
      "-------------------------\n",
      "Количество пропусков в user_id : 0\n",
      "Количество пропусков в event_dt : 0\n",
      "Количество пропусков в event_name : 0\n",
      "Количество пропусков в details : 377577\n",
      "-------------------------\n",
      "Количество уникальных значений в колонке user_id : 58703\n",
      "Количество уникальных значений в колонке event_dt : 267268\n",
      "Количество уникальных значений в колонке event_name : 4\n",
      "Количество уникальных значений в колонке details : 4\n",
      "*************************\n",
      "Повторяющиеся строки:\n",
      "Empty DataFrame\n",
      "Columns: [user_id, event_dt, event_name, details]\n",
      "Index: []\n"
     ]
    }
   ],
   "source": [
    "information(event)"
   ]
  },
  {
   "cell_type": "markdown",
   "id": "495b9784",
   "metadata": {},
   "source": [
    "В датасете, хранящий данные об новых пользователях:\n",
    "+ Всего *440317* строк;\n",
    "+ *Пропуски* - **присутствуют** в колонке с дополнительной информацией. Сама по себе колонка не имеет серьезного значения в анализе, а носит характер заметок. В зависимости от действия, оператор вносит различную информацию дополнительную. Так как колонка не имеет существенного веса, пропуски оставляем;\n",
    "+ Всего 58703 уникальных пользователей. Кол-во записей 440317, значит, **есть дубликаты** в колонке пользователя;\n",
    "+ В колонке с датой  *267268 пар значений*. Некоторые пользователи совершали действия в один и тот же день;\n",
    "+ В колонке с названием действия *4 значения* : проверим какие именно далее;\n",
    "+ В колонке с дополнительной информацией *4 значения*: проверим какие именно далее. "
   ]
  },
  {
   "cell_type": "code",
   "execution_count": 63,
   "id": "6fdba712",
   "metadata": {},
   "outputs": [
    {
     "name": "stdout",
     "output_type": "stream",
     "text": [
      "Уникальные значения действий пользователей : ['purchase', 'product_cart', 'product_page', 'login']\n",
      "Уникальные значения в дополнительной информации : [99.99, 9.99, 4.99, 499.99, nan]\n"
     ]
    }
   ],
   "source": [
    "print(f'Уникальные значения действий пользователей : {event[\"event_name\"].unique().tolist()}')\n",
    "print(f'Уникальные значения в дополнительной информации : {event[\"details\"].unique().tolist()}')"
   ]
  },
  {
   "cell_type": "markdown",
   "id": "6d498703",
   "metadata": {},
   "source": [
    "Если присматриваться в *тип данных*, то заметим, что колонки, хранящие информацию о датах выражена в формате **объект**. Преобразуем в формат **дата**."
   ]
  },
  {
   "cell_type": "code",
   "execution_count": 64,
   "id": "eb1d9510",
   "metadata": {},
   "outputs": [],
   "source": [
    "#Преобразуем колонки с датой в формат даты. \n",
    "event['event_dt'] = pd.to_datetime(event['event_dt']).dt.date\n",
    "event['event_dt'] = pd.to_datetime(event['event_dt'])\n",
    "marketing_event['finish_dt'] = pd.to_datetime(marketing_event['finish_dt'])\n",
    "marketing_event['start_dt'] = pd.to_datetime(marketing_event['start_dt'])"
   ]
  },
  {
   "cell_type": "markdown",
   "id": "db426c51",
   "metadata": {},
   "source": [
    "<a id=\"testcheck\"></a>  \n",
    "## Оценка корректности проведения теста"
   ]
  },
  {
   "cell_type": "markdown",
   "id": "56544cd0",
   "metadata": {},
   "source": [
    "Прежде, чем начать проверку, определим идентификаторы пользователей, которые нужны для анализа. Разобьем эту операцию на шаги:\n",
    "1) Возьмем информацию по новым пользователям и отсортируем её по времени и по региону. Так, мы получим информацию по пользователям, которые зарегистрировались в период **до  2020-12-21** и **из Европы**;\\\n",
    "2) Сохранив данные пользователей, отфильтруем данные в датасете с данными участников тестов. Отфилтруем только тех, кто учавствовал в recommender_system_test. Добавим фильтрацию из первого пункта. То есть оставляем таким образом пользователей, которые регистрировались до 2020-12-21, из Европы и **учавствовал в тесте recommender_system_test**;\\\n",
    "3) Следующим шагом будет фильтрация по пользователям из таблицы с действиями. Сгруппируем данные по *количеству* действий и посчитаем тех пользователей, которые совершали **хотя бы одно действие**. Таким образом, собрав все данные в одну таблицу, получим финальный список пользователей. "
   ]
  },
  {
   "cell_type": "code",
   "execution_count": 65,
   "id": "a5c4fa89",
   "metadata": {},
   "outputs": [
    {
     "name": "stdout",
     "output_type": "stream",
     "text": [
      "Количество пользователей после сортировки : 42340\n"
     ]
    }
   ],
   "source": [
    "#отфильтруем из таблицы с пользователями по дате и по региону и сохраним данные в новый датасет\n",
    "new_user_date = new_user[new_user['first_date'] <= '2020-12-21']\n",
    "new_user_eu = new_user_date[new_user_date['region'] == 'EU']\n",
    "print(f'Количество пользователей после сортировки : {new_user_eu[\"user_id\"].nunique()}')"
   ]
  },
  {
   "cell_type": "code",
   "execution_count": 66,
   "id": "a6adbbe4",
   "metadata": {},
   "outputs": [
    {
     "name": "stdout",
     "output_type": "stream",
     "text": [
      "Количество пользователей после сортировки : 6351\n"
     ]
    }
   ],
   "source": [
    "#отфильтруем из таблицы с данными участников тестов\n",
    "participants_test = participants[participants['ab_test'] == 'recommender_system_test']\n",
    "#присоединим в новый датасет два отфильтрованных датасета\n",
    "data_user_eu = new_user_eu.merge(participants_test)\n",
    "print(f'Количество пользователей после сортировки : {data_user_eu[\"user_id\"].nunique()}')"
   ]
  },
  {
   "cell_type": "code",
   "execution_count": 67,
   "id": "22b30dfc",
   "metadata": {},
   "outputs": [
    {
     "data": {
      "text/html": [
       "<div>\n",
       "<style scoped>\n",
       "    .dataframe tbody tr th:only-of-type {\n",
       "        vertical-align: middle;\n",
       "    }\n",
       "\n",
       "    .dataframe tbody tr th {\n",
       "        vertical-align: top;\n",
       "    }\n",
       "\n",
       "    .dataframe thead th {\n",
       "        text-align: right;\n",
       "    }\n",
       "</style>\n",
       "<table border=\"1\" class=\"dataframe\">\n",
       "  <thead>\n",
       "    <tr style=\"text-align: right;\">\n",
       "      <th></th>\n",
       "      <th>user_id</th>\n",
       "      <th>event_dt</th>\n",
       "      <th>event_name</th>\n",
       "      <th>details</th>\n",
       "    </tr>\n",
       "  </thead>\n",
       "  <tbody>\n",
       "    <tr>\n",
       "      <th>0</th>\n",
       "      <td>E1BDDCE0DAFA2679</td>\n",
       "      <td>2020-12-07</td>\n",
       "      <td>purchase</td>\n",
       "      <td>99.99</td>\n",
       "    </tr>\n",
       "    <tr>\n",
       "      <th>1</th>\n",
       "      <td>7B6452F081F49504</td>\n",
       "      <td>2020-12-07</td>\n",
       "      <td>purchase</td>\n",
       "      <td>9.99</td>\n",
       "    </tr>\n",
       "    <tr>\n",
       "      <th>2</th>\n",
       "      <td>9CD9F34546DF254C</td>\n",
       "      <td>2020-12-07</td>\n",
       "      <td>purchase</td>\n",
       "      <td>4.99</td>\n",
       "    </tr>\n",
       "    <tr>\n",
       "      <th>3</th>\n",
       "      <td>96F27A054B191457</td>\n",
       "      <td>2020-12-07</td>\n",
       "      <td>purchase</td>\n",
       "      <td>4.99</td>\n",
       "    </tr>\n",
       "    <tr>\n",
       "      <th>4</th>\n",
       "      <td>1FD7660FDF94CA1F</td>\n",
       "      <td>2020-12-07</td>\n",
       "      <td>purchase</td>\n",
       "      <td>4.99</td>\n",
       "    </tr>\n",
       "    <tr>\n",
       "      <th>...</th>\n",
       "      <td>...</td>\n",
       "      <td>...</td>\n",
       "      <td>...</td>\n",
       "      <td>...</td>\n",
       "    </tr>\n",
       "    <tr>\n",
       "      <th>440312</th>\n",
       "      <td>245E85F65C358E08</td>\n",
       "      <td>2020-12-30</td>\n",
       "      <td>login</td>\n",
       "      <td>NaN</td>\n",
       "    </tr>\n",
       "    <tr>\n",
       "      <th>440313</th>\n",
       "      <td>9385A108F5A0A7A7</td>\n",
       "      <td>2020-12-30</td>\n",
       "      <td>login</td>\n",
       "      <td>NaN</td>\n",
       "    </tr>\n",
       "    <tr>\n",
       "      <th>440314</th>\n",
       "      <td>DB650B7559AC6EAC</td>\n",
       "      <td>2020-12-30</td>\n",
       "      <td>login</td>\n",
       "      <td>NaN</td>\n",
       "    </tr>\n",
       "    <tr>\n",
       "      <th>440315</th>\n",
       "      <td>F80C9BDDEA02E53C</td>\n",
       "      <td>2020-12-30</td>\n",
       "      <td>login</td>\n",
       "      <td>NaN</td>\n",
       "    </tr>\n",
       "    <tr>\n",
       "      <th>440316</th>\n",
       "      <td>7AEC61159B672CC5</td>\n",
       "      <td>2020-12-30</td>\n",
       "      <td>login</td>\n",
       "      <td>NaN</td>\n",
       "    </tr>\n",
       "  </tbody>\n",
       "</table>\n",
       "<p>440317 rows × 4 columns</p>\n",
       "</div>"
      ],
      "text/plain": [
       "                 user_id   event_dt event_name  details\n",
       "0       E1BDDCE0DAFA2679 2020-12-07   purchase    99.99\n",
       "1       7B6452F081F49504 2020-12-07   purchase     9.99\n",
       "2       9CD9F34546DF254C 2020-12-07   purchase     4.99\n",
       "3       96F27A054B191457 2020-12-07   purchase     4.99\n",
       "4       1FD7660FDF94CA1F 2020-12-07   purchase     4.99\n",
       "...                  ...        ...        ...      ...\n",
       "440312  245E85F65C358E08 2020-12-30      login      NaN\n",
       "440313  9385A108F5A0A7A7 2020-12-30      login      NaN\n",
       "440314  DB650B7559AC6EAC 2020-12-30      login      NaN\n",
       "440315  F80C9BDDEA02E53C 2020-12-30      login      NaN\n",
       "440316  7AEC61159B672CC5 2020-12-30      login      NaN\n",
       "\n",
       "[440317 rows x 4 columns]"
      ]
     },
     "execution_count": 67,
     "metadata": {},
     "output_type": "execute_result"
    }
   ],
   "source": [
    "#отфильтруем данные по датасету с действиями пользователей\n",
    "#По условиям задачи временные рамки исследования с 7 декабря 2020 по 4 января 2021. Отфильтруем для начала по дате\n",
    "event_date = event.query('(event_dt >= \"2020-12-07\") & (event_dt <= \"2021-01-04\")')\n",
    "event_date"
   ]
  },
  {
   "cell_type": "code",
   "execution_count": 68,
   "id": "040199dc",
   "metadata": {},
   "outputs": [
    {
     "name": "stdout",
     "output_type": "stream",
     "text": [
      "Количество пользователей после сортировки : 58703\n"
     ]
    }
   ],
   "source": [
    "#теперь сгруппируем по кол-ву действий и отбросим тех, кто не совершал вообще действий.\n",
    "event_raw_pivot = event_date.pivot_table(index='user_id', values='event_name', aggfunc='count').reset_index()\n",
    "event_raw_pivot = event_raw_pivot[event_raw_pivot['event_name'] > 0]\n",
    "event_raw = event_date[event_date['user_id'].isin(data_user_eu['user_id'])]\n",
    "print(f'Количество пользователей после сортировки : {event_raw_pivot[\"user_id\"].nunique()}')"
   ]
  },
  {
   "cell_type": "markdown",
   "id": "ffec03f0",
   "metadata": {},
   "source": [
    "Теперь \"схлопнем\" получившиеся датасеты и оставим только тех пользователей, которые останутся после всех трех фильтраций. "
   ]
  },
  {
   "cell_type": "code",
   "execution_count": 69,
   "id": "0dae69fb",
   "metadata": {},
   "outputs": [
    {
     "name": "stdout",
     "output_type": "stream",
     "text": [
      "Количество пользователей после сортировки : 3481\n"
     ]
    }
   ],
   "source": [
    "data_user_eu = data_user_eu.merge(event_raw, on='user_id')\n",
    "#избавимся от колонки с доп информацией, она нам не понадобится\n",
    "data_user_eu = data_user_eu.drop(columns='details', axis=1)\n",
    "print(f'Количество пользователей после сортировки : {data_user_eu[\"user_id\"].nunique()}')"
   ]
  },
  {
   "cell_type": "code",
   "execution_count": 70,
   "id": "5a4f51ea",
   "metadata": {},
   "outputs": [
    {
     "data": {
      "text/html": [
       "<div>\n",
       "<style scoped>\n",
       "    .dataframe tbody tr th:only-of-type {\n",
       "        vertical-align: middle;\n",
       "    }\n",
       "\n",
       "    .dataframe tbody tr th {\n",
       "        vertical-align: top;\n",
       "    }\n",
       "\n",
       "    .dataframe thead th {\n",
       "        text-align: right;\n",
       "    }\n",
       "</style>\n",
       "<table border=\"1\" class=\"dataframe\">\n",
       "  <thead>\n",
       "    <tr style=\"text-align: right;\">\n",
       "      <th></th>\n",
       "      <th>user_id</th>\n",
       "      <th>first_date</th>\n",
       "      <th>region</th>\n",
       "      <th>device</th>\n",
       "      <th>group</th>\n",
       "      <th>ab_test</th>\n",
       "      <th>event_dt</th>\n",
       "      <th>event_name</th>\n",
       "    </tr>\n",
       "  </thead>\n",
       "  <tbody>\n",
       "    <tr>\n",
       "      <th>0</th>\n",
       "      <td>D72A72121175D8BE</td>\n",
       "      <td>2020-12-07</td>\n",
       "      <td>EU</td>\n",
       "      <td>PC</td>\n",
       "      <td>A</td>\n",
       "      <td>recommender_system_test</td>\n",
       "      <td>2020-12-07</td>\n",
       "      <td>product_page</td>\n",
       "    </tr>\n",
       "    <tr>\n",
       "      <th>1</th>\n",
       "      <td>D72A72121175D8BE</td>\n",
       "      <td>2020-12-07</td>\n",
       "      <td>EU</td>\n",
       "      <td>PC</td>\n",
       "      <td>A</td>\n",
       "      <td>recommender_system_test</td>\n",
       "      <td>2020-12-07</td>\n",
       "      <td>login</td>\n",
       "    </tr>\n",
       "    <tr>\n",
       "      <th>2</th>\n",
       "      <td>DD4352CDCF8C3D57</td>\n",
       "      <td>2020-12-07</td>\n",
       "      <td>EU</td>\n",
       "      <td>Android</td>\n",
       "      <td>B</td>\n",
       "      <td>recommender_system_test</td>\n",
       "      <td>2020-12-07</td>\n",
       "      <td>product_page</td>\n",
       "    </tr>\n",
       "    <tr>\n",
       "      <th>3</th>\n",
       "      <td>DD4352CDCF8C3D57</td>\n",
       "      <td>2020-12-07</td>\n",
       "      <td>EU</td>\n",
       "      <td>Android</td>\n",
       "      <td>B</td>\n",
       "      <td>recommender_system_test</td>\n",
       "      <td>2020-12-08</td>\n",
       "      <td>product_page</td>\n",
       "    </tr>\n",
       "    <tr>\n",
       "      <th>4</th>\n",
       "      <td>DD4352CDCF8C3D57</td>\n",
       "      <td>2020-12-07</td>\n",
       "      <td>EU</td>\n",
       "      <td>Android</td>\n",
       "      <td>B</td>\n",
       "      <td>recommender_system_test</td>\n",
       "      <td>2020-12-10</td>\n",
       "      <td>product_page</td>\n",
       "    </tr>\n",
       "  </tbody>\n",
       "</table>\n",
       "</div>"
      ],
      "text/plain": [
       "            user_id  first_date region   device group  \\\n",
       "0  D72A72121175D8BE  2020-12-07     EU       PC     A   \n",
       "1  D72A72121175D8BE  2020-12-07     EU       PC     A   \n",
       "2  DD4352CDCF8C3D57  2020-12-07     EU  Android     B   \n",
       "3  DD4352CDCF8C3D57  2020-12-07     EU  Android     B   \n",
       "4  DD4352CDCF8C3D57  2020-12-07     EU  Android     B   \n",
       "\n",
       "                   ab_test   event_dt    event_name  \n",
       "0  recommender_system_test 2020-12-07  product_page  \n",
       "1  recommender_system_test 2020-12-07         login  \n",
       "2  recommender_system_test 2020-12-07  product_page  \n",
       "3  recommender_system_test 2020-12-08  product_page  \n",
       "4  recommender_system_test 2020-12-10  product_page  "
      ]
     },
     "execution_count": 70,
     "metadata": {},
     "output_type": "execute_result"
    }
   ],
   "source": [
    "data_user_eu.head(5)"
   ]
  },
  {
   "cell_type": "markdown",
   "id": "6728b56e",
   "metadata": {},
   "source": [
    "Таким образом, после учёта всех условий проекта, финальное количество пользователей равно **3481**. Ожидаемое количество по ТЗ - **6000** пользователей. Можем сделать вывод о том, что *количество исследуемых пользователей не соответветствует ТЗ*."
   ]
  },
  {
   "cell_type": "markdown",
   "id": "6ee2a278",
   "metadata": {},
   "source": [
    "Следующим пунктом проверки ТЗ является проверка *даты остановки новых пользователей*. "
   ]
  },
  {
   "cell_type": "code",
   "execution_count": 71,
   "id": "c2e3cebb",
   "metadata": {},
   "outputs": [
    {
     "name": "stdout",
     "output_type": "stream",
     "text": [
      "Самая поздняя дата регистрации пользователя : 2020-12-21\n"
     ]
    }
   ],
   "source": [
    "#Фильтруем по региону\n",
    "user_check = new_user[new_user['region'] == 'EU']\n",
    "#оставляем только тех пользователей, которые учавствовали в нужно тесте из датасета participants_test\n",
    "user_check = user_check[user_check['user_id'].isin(participants_test['user_id'])]\n",
    "#Выводим самую крайнюю дату регистрации \n",
    "print(f'Самая поздняя дата регистрации пользователя : {max(user_check[\"first_date\"])}')"
   ]
  },
  {
   "cell_type": "markdown",
   "id": "9d3ef992",
   "metadata": {},
   "source": [
    "Таким образом, ТЗ в части проверки даты регистрации *можно считать выполненным*."
   ]
  },
  {
   "cell_type": "markdown",
   "id": "5952e307",
   "metadata": {},
   "source": [
    "Следующим пунктом проверки ТЗ является проверка *15% пользователей из Евросюза участвуют в тесте*. "
   ]
  },
  {
   "cell_type": "code",
   "execution_count": 72,
   "id": "b764466d",
   "metadata": {},
   "outputs": [
    {
     "data": {
      "image/png": "[encoded data removed]",
      "text/plain": [
       "<Figure size 720x720 with 1 Axes>"
      ]
     },
     "metadata": {},
     "output_type": "display_data"
    }
   ],
   "source": [
    "#Ранее мы уже отсортировали пользователей из Европы, которые регистрировались в период исследования. Теперь сравним кол-во пользователей\n",
    "#которые регистрировались в эти же периоды, но являлись участниками теста. \n",
    "#Построим круговую диагрмму\n",
    "#Сохраним в список сначала число пользователей из Европы, которые НЕ участвуют в тесте, потом тех, кто участвует и построим диаграмму\n",
    "qty_users = [(new_user_eu['user_id'].nunique() - user_check['user_id'].nunique()), user_check['user_id'].nunique()]\n",
    "\n",
    "labels = ['EU users not in test', 'EU users in test']\n",
    "plt.figure(figsize =(10,10))\n",
    "plt.pie(qty_users, labels=labels, autopct='%1.1f%%',rotatelabels=True)\n",
    "plt.title('График отношения числа пользователей из Европы в тесте к общему числу пользователей из Европы')\n",
    "None"
   ]
  },
  {
   "cell_type": "markdown",
   "id": "998e011e",
   "metadata": {},
   "source": [
    "На основе данного графика мы видим, что порядка **15%** новых пользоваталей из Европы участвуют в тесте среде всех пользователей из Европы. Таким образом, ТЗ в части доли новых пользователей *выполненно*. "
   ]
  },
  {
   "cell_type": "markdown",
   "id": "16f91329",
   "metadata": {},
   "source": [
    "ТЗ по части изменения конверсии мы рассмотрим далее по проекту."
   ]
  },
  {
   "cell_type": "markdown",
   "id": "ef5603ab",
   "metadata": {},
   "source": [
    "Проверим, не совпадало ли время проведения теста с временем проводимых маркетинговых операций."
   ]
  },
  {
   "cell_type": "code",
   "execution_count": 73,
   "id": "9a07bc7d",
   "metadata": {},
   "outputs": [
    {
     "name": "stdout",
     "output_type": "stream",
     "text": [
      "Промо проводимые в пределах теста:\n"
     ]
    },
    {
     "data": {
      "text/html": [
       "<div>\n",
       "<style scoped>\n",
       "    .dataframe tbody tr th:only-of-type {\n",
       "        vertical-align: middle;\n",
       "    }\n",
       "\n",
       "    .dataframe tbody tr th {\n",
       "        vertical-align: top;\n",
       "    }\n",
       "\n",
       "    .dataframe thead th {\n",
       "        text-align: right;\n",
       "    }\n",
       "</style>\n",
       "<table border=\"1\" class=\"dataframe\">\n",
       "  <thead>\n",
       "    <tr style=\"text-align: right;\">\n",
       "      <th></th>\n",
       "      <th>name</th>\n",
       "      <th>regions</th>\n",
       "      <th>start_dt</th>\n",
       "      <th>finish_dt</th>\n",
       "    </tr>\n",
       "  </thead>\n",
       "  <tbody>\n",
       "    <tr>\n",
       "      <th>0</th>\n",
       "      <td>Christmas&amp;New Year Promo</td>\n",
       "      <td>EU, N.America</td>\n",
       "      <td>2020-12-25</td>\n",
       "      <td>2021-01-03</td>\n",
       "    </tr>\n",
       "  </tbody>\n",
       "</table>\n",
       "</div>"
      ],
      "text/plain": [
       "                       name        regions   start_dt  finish_dt\n",
       "0  Christmas&New Year Promo  EU, N.America 2020-12-25 2021-01-03"
      ]
     },
     "metadata": {},
     "output_type": "display_data"
    },
    {
     "name": "stdout",
     "output_type": "stream",
     "text": [
      "\n",
      "Промо проводимые дольше времени проведения теста:\n"
     ]
    },
    {
     "data": {
      "text/html": [
       "<div>\n",
       "<style scoped>\n",
       "    .dataframe tbody tr th:only-of-type {\n",
       "        vertical-align: middle;\n",
       "    }\n",
       "\n",
       "    .dataframe tbody tr th {\n",
       "        vertical-align: top;\n",
       "    }\n",
       "\n",
       "    .dataframe thead th {\n",
       "        text-align: right;\n",
       "    }\n",
       "</style>\n",
       "<table border=\"1\" class=\"dataframe\">\n",
       "  <thead>\n",
       "    <tr style=\"text-align: right;\">\n",
       "      <th></th>\n",
       "      <th>name</th>\n",
       "      <th>regions</th>\n",
       "      <th>start_dt</th>\n",
       "      <th>finish_dt</th>\n",
       "    </tr>\n",
       "  </thead>\n",
       "  <tbody>\n",
       "  </tbody>\n",
       "</table>\n",
       "</div>"
      ],
      "text/plain": [
       "Empty DataFrame\n",
       "Columns: [name, regions, start_dt, finish_dt]\n",
       "Index: []"
      ]
     },
     "metadata": {},
     "output_type": "display_data"
    }
   ],
   "source": [
    "#отфильтруем данные по региону и оставим только те, которые проходили в Евросоюзе. так же отфильтруем по дате:\n",
    "#старт или финиш промо должны быть в диапазоне прводения теста.\n",
    "#Исключим так же ситуацию, при которой промо проводилось ранее даты проведения теста и закончилась позже даты окончания\n",
    "#Фильтруем по региону\n",
    "marketing_event_eu = marketing_event[marketing_event['regions'].str.contains('EU')]\n",
    "#Фильтруем по дате\n",
    "marketing_event_eu = marketing_event_eu.query('(\"2020-12-07\" <= finish_dt <= \"2021-01-04\") or (\"2020-12-07\" <= start_dt <= \"2021-01-04\")')\n",
    "#Фильтруем исключения по дате \n",
    "marketing_event_eu_a = marketing_event_eu.query('(\"2020-12-07\" >= start_dt) & (finish_dt >= \"2021-01-04\")')\n",
    "print('Промо проводимые в пределах теста:')\n",
    "display(marketing_event_eu)\n",
    "print()\n",
    "print('Промо проводимые дольше времени проведения теста:')\n",
    "display(marketing_event_eu_a)"
   ]
  },
  {
   "cell_type": "markdown",
   "id": "5bca37f8",
   "metadata": {},
   "source": [
    "Таким образом, рождественская и новогодняя промо проводилась *во время* проведения теста. Этот факт мог сильно повлиять на поведение пользователей. "
   ]
  },
  {
   "cell_type": "markdown",
   "id": "184157b5",
   "metadata": {},
   "source": [
    "Проверим, есть ли пересечение пользователей в тестах. "
   ]
  },
  {
   "cell_type": "code",
   "execution_count": 74,
   "id": "8c5269f7",
   "metadata": {},
   "outputs": [
    {
     "name": "stdout",
     "output_type": "stream",
     "text": [
      "Число пользователей проходящих в двух тестах : 887\n"
     ]
    }
   ],
   "source": [
    "#Оставляем в сырых данных только пользователей, которые удовлетворяли условиям\n",
    "participants_test_check = participants[participants['user_id'].isin(data_user_eu['user_id'])]\n",
    "#группируем по пользователям и считаем количество тестов.\n",
    "participants_test_check = participants_test_check.pivot_table(index='user_id', values='ab_test', aggfunc='count').reset_index()\n",
    "print(f'Число пользователей проходящих в двух тестах : {participants_test_check[participants_test_check[\"ab_test\"] > 1].shape[0]}')\n",
    "participants_test_check = participants_test_check[participants_test_check['ab_test'] > 1]"
   ]
  },
  {
   "cell_type": "markdown",
   "id": "6cbe45a2",
   "metadata": {},
   "source": [
    "Пересечения в тестах **есть**. Мы не знаем, какие вводные данные у второго теста, поэтому говорить о том, что нахождение пользователя в двух тестах сразу *не влияет на результат* мы не можем. Проверим, есть пользователи, которые находятся сразу в двух группах. "
   ]
  },
  {
   "cell_type": "code",
   "execution_count": 75,
   "id": "08549272",
   "metadata": {},
   "outputs": [
    {
     "name": "stdout",
     "output_type": "stream",
     "text": [
      "Число пользователей проходящих в двух тестах : 887\n"
     ]
    }
   ],
   "source": [
    "#повторим процедуру , но посчитаем группы\n",
    "participants_ab_check = participants[participants['user_id'].isin(data_user_eu['user_id'])]\n",
    "participants_ab_check = participants_ab_check.pivot_table(index='user_id', values='group', aggfunc='count').reset_index()\n",
    "print(f'Число пользователей проходящих в двух тестах : {participants_ab_check[participants_ab_check[\"group\"] > 1].shape[0]}')\n",
    "participants_ab_check = participants_ab_check[participants_ab_check['group'] > 1]"
   ]
  },
  {
   "cell_type": "markdown",
   "id": "199c9919",
   "metadata": {},
   "source": [
    "Пересечения так же есть и в группах, причем такое же количество. Этот факт сильно влияет на результат теста, поэтому для удобства уберем этих пользователей из финального списка пользователей. Но для начала сверим списки этих двух фильтров: являются ли эти юзеры одними и теми же. "
   ]
  },
  {
   "cell_type": "code",
   "execution_count": 76,
   "id": "eea5c87c",
   "metadata": {},
   "outputs": [
    {
     "data": {
      "text/plain": [
       "ab_test    0\n",
       "group      0\n",
       "dtype: int64"
      ]
     },
     "execution_count": 76,
     "metadata": {},
     "output_type": "execute_result"
    }
   ],
   "source": [
    "#Соединим два датасета между собой и посчитаем нули в полученных ячейках. Если нулей не будет, значит пользователи находятся\n",
    "#в обеих  группах теста и в двух тестах одновременно. \n",
    "participants_check = participants_test_check.merge(participants_ab_check, on='user_id')\n",
    "participants_check[['ab_test', 'group']].isna().sum()"
   ]
  },
  {
   "cell_type": "markdown",
   "id": "37e2af2c",
   "metadata": {},
   "source": [
    "Таким образом, пользователи, *находящиеся в двух тестах* одновременно находятся в *двух тестовых группах* одновременно. Другими словами, категоризация этих пользователей зависит от проводимого теста: в одном тесте они подходят под криетрии группы **А**, а при другом **B**. Такое пересечение сильно влияет на результат A/B теста, поэтому уберем этих пользователей из корректной группы сравниваемых пользователей. "
   ]
  },
  {
   "cell_type": "code",
   "execution_count": 77,
   "id": "c1653263",
   "metadata": {},
   "outputs": [
    {
     "name": "stdout",
     "output_type": "stream",
     "text": [
      "Количество пользователей после сортировки : 2594\n"
     ]
    }
   ],
   "source": [
    "data_user_eu = data_user_eu[~data_user_eu['user_id'].isin(participants_check['user_id'])]\n",
    "print(f'Количество пользователей после сортировки : {data_user_eu[\"user_id\"].nunique()}')"
   ]
  },
  {
   "cell_type": "markdown",
   "id": "20d64416",
   "metadata": {},
   "source": [
    "Следующая проверка - это равномерность распределения пользователей по группам. "
   ]
  },
  {
   "cell_type": "code",
   "execution_count": 78,
   "id": "4c3051a2",
   "metadata": {},
   "outputs": [
    {
     "data": {
      "text/html": [
       "<div>\n",
       "<style scoped>\n",
       "    .dataframe tbody tr th:only-of-type {\n",
       "        vertical-align: middle;\n",
       "    }\n",
       "\n",
       "    .dataframe tbody tr th {\n",
       "        vertical-align: top;\n",
       "    }\n",
       "\n",
       "    .dataframe thead th {\n",
       "        text-align: right;\n",
       "    }\n",
       "</style>\n",
       "<table border=\"1\" class=\"dataframe\">\n",
       "  <thead>\n",
       "    <tr style=\"text-align: right;\">\n",
       "      <th></th>\n",
       "      <th>group</th>\n",
       "      <th>user_id</th>\n",
       "    </tr>\n",
       "  </thead>\n",
       "  <tbody>\n",
       "    <tr>\n",
       "      <th>0</th>\n",
       "      <td>A</td>\n",
       "      <td>1939</td>\n",
       "    </tr>\n",
       "    <tr>\n",
       "      <th>1</th>\n",
       "      <td>B</td>\n",
       "      <td>655</td>\n",
       "    </tr>\n",
       "  </tbody>\n",
       "</table>\n",
       "</div>"
      ],
      "text/plain": [
       "  group  user_id\n",
       "0     A     1939\n",
       "1     B      655"
      ]
     },
     "metadata": {},
     "output_type": "display_data"
    },
    {
     "data": {
      "application/vnd.plotly.v1+json": {
       "config": {
        "plotlyServerURL": "https://plot.ly"
       },
       "data": [
        {
         "domain": {
          "x": [
           0,
           1
          ],
          "y": [
           0,
           1
          ]
         },
         "hovertemplate": "group=%{label}<br>user_id=%{value}<extra></extra>",
         "labels": [
          "A",
          "B"
         ],
         "legendgroup": "",
         "name": "",
         "showlegend": true,
         "type": "pie",
         "values": [
          1939,
          655
         ]
        }
       ],
       "layout": {
        "legend": {
         "tracegroupgap": 0
        },
        "template": {
         "data": {
          "bar": [
           {
            "error_x": {
             "color": "#2a3f5f"
            },
            "error_y": {
             "color": "#2a3f5f"
            },
            "marker": {
             "line": {
              "color": "#E5ECF6",
              "width": 0.5
             },
             "pattern": {
              "fillmode": "overlay",
              "size": 10,
              "solidity": 0.2
             }
            },
            "type": "bar"
           }
          ],
          "barpolar": [
           {
            "marker": {
             "line": {
              "color": "#E5ECF6",
              "width": 0.5
             },
             "pattern": {
              "fillmode": "overlay",
              "size": 10,
              "solidity": 0.2
             }
            },
            "type": "barpolar"
           }
          ],
          "carpet": [
           {
            "aaxis": {
             "endlinecolor": "#2a3f5f",
             "gridcolor": "white",
             "linecolor": "white",
             "minorgridcolor": "white",
             "startlinecolor": "#2a3f5f"
            },
            "baxis": {
             "endlinecolor": "#2a3f5f",
             "gridcolor": "white",
             "linecolor": "white",
             "minorgridcolor": "white",
             "startlinecolor": "#2a3f5f"
            },
            "type": "carpet"
           }
          ],
          "choropleth": [
           {
            "colorbar": {
             "outlinewidth": 0,
             "ticks": ""
            },
            "type": "choropleth"
           }
          ],
          "contour": [
           {
            "colorbar": {
             "outlinewidth": 0,
             "ticks": ""
            },
            "colorscale": [
             [
              0,
              "#0d0887"
             ],
             [
              0.1111111111111111,
              "#46039f"
             ],
             [
              0.2222222222222222,
              "#7201a8"
             ],
             [
              0.3333333333333333,
              "#9c179e"
             ],
             [
              0.4444444444444444,
              "#bd3786"
             ],
             [
              0.5555555555555556,
              "#d8576b"
             ],
             [
              0.6666666666666666,
              "#ed7953"
             ],
             [
              0.7777777777777778,
              "#fb9f3a"
             ],
             [
              0.8888888888888888,
              "#fdca26"
             ],
             [
              1,
              "#f0f921"
             ]
            ],
            "type": "contour"
           }
          ],
          "contourcarpet": [
           {
            "colorbar": {
             "outlinewidth": 0,
             "ticks": ""
            },
            "type": "contourcarpet"
           }
          ],
          "heatmap": [
           {
            "colorbar": {
             "outlinewidth": 0,
             "ticks": ""
            },
            "colorscale": [
             [
              0,
              "#0d0887"
             ],
             [
              0.1111111111111111,
              "#46039f"
             ],
             [
              0.2222222222222222,
              "#7201a8"
             ],
             [
              0.3333333333333333,
              "#9c179e"
             ],
             [
              0.4444444444444444,
              "#bd3786"
             ],
             [
              0.5555555555555556,
              "#d8576b"
             ],
             [
              0.6666666666666666,
              "#ed7953"
             ],
             [
              0.7777777777777778,
              "#fb9f3a"
             ],
             [
              0.8888888888888888,
              "#fdca26"
             ],
             [
              1,
              "#f0f921"
             ]
            ],
            "type": "heatmap"
           }
          ],
          "heatmapgl": [
           {
            "colorbar": {
             "outlinewidth": 0,
             "ticks": ""
            },
            "colorscale": [
             [
              0,
              "#0d0887"
             ],
             [
              0.1111111111111111,
              "#46039f"
             ],
             [
              0.2222222222222222,
              "#7201a8"
             ],
             [
              0.3333333333333333,
              "#9c179e"
             ],
             [
              0.4444444444444444,
              "#bd3786"
             ],
             [
              0.5555555555555556,
              "#d8576b"
             ],
             [
              0.6666666666666666,
              "#ed7953"
             ],
             [
              0.7777777777777778,
              "#fb9f3a"
             ],
             [
              0.8888888888888888,
              "#fdca26"
             ],
             [
              1,
              "#f0f921"
             ]
            ],
            "type": "heatmapgl"
           }
          ],
          "histogram": [
           {
            "marker": {
             "pattern": {
              "fillmode": "overlay",
              "size": 10,
              "solidity": 0.2
             }
            },
            "type": "histogram"
           }
          ],
          "histogram2d": [
           {
            "colorbar": {
             "outlinewidth": 0,
             "ticks": ""
            },
            "colorscale": [
             [
              0,
              "#0d0887"
             ],
             [
              0.1111111111111111,
              "#46039f"
             ],
             [
              0.2222222222222222,
              "#7201a8"
             ],
             [
              0.3333333333333333,
              "#9c179e"
             ],
             [
              0.4444444444444444,
              "#bd3786"
             ],
             [
              0.5555555555555556,
              "#d8576b"
             ],
             [
              0.6666666666666666,
              "#ed7953"
             ],
             [
              0.7777777777777778,
              "#fb9f3a"
             ],
             [
              0.8888888888888888,
              "#fdca26"
             ],
             [
              1,
              "#f0f921"
             ]
            ],
            "type": "histogram2d"
           }
          ],
          "histogram2dcontour": [
           {
            "colorbar": {
             "outlinewidth": 0,
             "ticks": ""
            },
            "colorscale": [
             [
              0,
              "#0d0887"
             ],
             [
              0.1111111111111111,
              "#46039f"
             ],
             [
              0.2222222222222222,
              "#7201a8"
             ],
             [
              0.3333333333333333,
              "#9c179e"
             ],
             [
              0.4444444444444444,
              "#bd3786"
             ],
             [
              0.5555555555555556,
              "#d8576b"
             ],
             [
              0.6666666666666666,
              "#ed7953"
             ],
             [
              0.7777777777777778,
              "#fb9f3a"
             ],
             [
              0.8888888888888888,
              "#fdca26"
             ],
             [
              1,
              "#f0f921"
             ]
            ],
            "type": "histogram2dcontour"
           }
          ],
          "mesh3d": [
           {
            "colorbar": {
             "outlinewidth": 0,
             "ticks": ""
            },
            "type": "mesh3d"
           }
          ],
          "parcoords": [
           {
            "line": {
             "colorbar": {
              "outlinewidth": 0,
              "ticks": ""
             }
            },
            "type": "parcoords"
           }
          ],
          "pie": [
           {
            "automargin": true,
            "type": "pie"
           }
          ],
          "scatter": [
           {
            "marker": {
             "colorbar": {
              "outlinewidth": 0,
              "ticks": ""
             }
            },
            "type": "scatter"
           }
          ],
          "scatter3d": [
           {
            "line": {
             "colorbar": {
              "outlinewidth": 0,
              "ticks": ""
             }
            },
            "marker": {
             "colorbar": {
              "outlinewidth": 0,
              "ticks": ""
             }
            },
            "type": "scatter3d"
           }
          ],
          "scattercarpet": [
           {
            "marker": {
             "colorbar": {
              "outlinewidth": 0,
              "ticks": ""
             }
            },
            "type": "scattercarpet"
           }
          ],
          "scattergeo": [
           {
            "marker": {
             "colorbar": {
              "outlinewidth": 0,
              "ticks": ""
             }
            },
            "type": "scattergeo"
           }
          ],
          "scattergl": [
           {
            "marker": {
             "colorbar": {
              "outlinewidth": 0,
              "ticks": ""
             }
            },
            "type": "scattergl"
           }
          ],
          "scattermapbox": [
           {
            "marker": {
             "colorbar": {
              "outlinewidth": 0,
              "ticks": ""
             }
            },
            "type": "scattermapbox"
           }
          ],
          "scatterpolar": [
           {
            "marker": {
             "colorbar": {
              "outlinewidth": 0,
              "ticks": ""
             }
            },
            "type": "scatterpolar"
           }
          ],
          "scatterpolargl": [
           {
            "marker": {
             "colorbar": {
              "outlinewidth": 0,
              "ticks": ""
             }
            },
            "type": "scatterpolargl"
           }
          ],
          "scatterternary": [
           {
            "marker": {
             "colorbar": {
              "outlinewidth": 0,
              "ticks": ""
             }
            },
            "type": "scatterternary"
           }
          ],
          "surface": [
           {
            "colorbar": {
             "outlinewidth": 0,
             "ticks": ""
            },
            "colorscale": [
             [
              0,
              "#0d0887"
             ],
             [
              0.1111111111111111,
              "#46039f"
             ],
             [
              0.2222222222222222,
              "#7201a8"
             ],
             [
              0.3333333333333333,
              "#9c179e"
             ],
             [
              0.4444444444444444,
              "#bd3786"
             ],
             [
              0.5555555555555556,
              "#d8576b"
             ],
             [
              0.6666666666666666,
              "#ed7953"
             ],
             [
              0.7777777777777778,
              "#fb9f3a"
             ],
             [
              0.8888888888888888,
              "#fdca26"
             ],
             [
              1,
              "#f0f921"
             ]
            ],
            "type": "surface"
           }
          ],
          "table": [
           {
            "cells": {
             "fill": {
              "color": "#EBF0F8"
             },
             "line": {
              "color": "white"
             }
            },
            "header": {
             "fill": {
              "color": "#C8D4E3"
             },
             "line": {
              "color": "white"
             }
            },
            "type": "table"
           }
          ]
         },
         "layout": {
          "annotationdefaults": {
           "arrowcolor": "#2a3f5f",
           "arrowhead": 0,
           "arrowwidth": 1
          },
          "autotypenumbers": "strict",
          "coloraxis": {
           "colorbar": {
            "outlinewidth": 0,
            "ticks": ""
           }
          },
          "colorscale": {
           "diverging": [
            [
             0,
             "#8e0152"
            ],
            [
             0.1,
             "#c51b7d"
            ],
            [
             0.2,
             "#de77ae"
            ],
            [
             0.3,
             "#f1b6da"
            ],
            [
             0.4,
             "#fde0ef"
            ],
            [
             0.5,
             "#f7f7f7"
            ],
            [
             0.6,
             "#e6f5d0"
            ],
            [
             0.7,
             "#b8e186"
            ],
            [
             0.8,
             "#7fbc41"
            ],
            [
             0.9,
             "#4d9221"
            ],
            [
             1,
             "#276419"
            ]
           ],
           "sequential": [
            [
             0,
             "#0d0887"
            ],
            [
             0.1111111111111111,
             "#46039f"
            ],
            [
             0.2222222222222222,
             "#7201a8"
            ],
            [
             0.3333333333333333,
             "#9c179e"
            ],
            [
             0.4444444444444444,
             "#bd3786"
            ],
            [
             0.5555555555555556,
             "#d8576b"
            ],
            [
             0.6666666666666666,
             "#ed7953"
            ],
            [
             0.7777777777777778,
             "#fb9f3a"
            ],
            [
             0.8888888888888888,
             "#fdca26"
            ],
            [
             1,
             "#f0f921"
            ]
           ],
           "sequentialminus": [
            [
             0,
             "#0d0887"
            ],
            [
             0.1111111111111111,
             "#46039f"
            ],
            [
             0.2222222222222222,
             "#7201a8"
            ],
            [
             0.3333333333333333,
             "#9c179e"
            ],
            [
             0.4444444444444444,
             "#bd3786"
            ],
            [
             0.5555555555555556,
             "#d8576b"
            ],
            [
             0.6666666666666666,
             "#ed7953"
            ],
            [
             0.7777777777777778,
             "#fb9f3a"
            ],
            [
             0.8888888888888888,
             "#fdca26"
            ],
            [
             1,
             "#f0f921"
            ]
           ]
          },
          "colorway": [
           "#636efa",
           "#EF553B",
           "#00cc96",
           "#ab63fa",
           "#FFA15A",
           "#19d3f3",
           "#FF6692",
           "#B6E880",
           "#FF97FF",
           "#FECB52"
          ],
          "font": {
           "color": "#2a3f5f"
          },
          "geo": {
           "bgcolor": "white",
           "lakecolor": "white",
           "landcolor": "#E5ECF6",
           "showlakes": true,
           "showland": true,
           "subunitcolor": "white"
          },
          "hoverlabel": {
           "align": "left"
          },
          "hovermode": "closest",
          "mapbox": {
           "style": "light"
          },
          "paper_bgcolor": "white",
          "plot_bgcolor": "#E5ECF6",
          "polar": {
           "angularaxis": {
            "gridcolor": "white",
            "linecolor": "white",
            "ticks": ""
           },
           "bgcolor": "#E5ECF6",
           "radialaxis": {
            "gridcolor": "white",
            "linecolor": "white",
            "ticks": ""
           }
          },
          "scene": {
           "xaxis": {
            "backgroundcolor": "#E5ECF6",
            "gridcolor": "white",
            "gridwidth": 2,
            "linecolor": "white",
            "showbackground": true,
            "ticks": "",
            "zerolinecolor": "white"
           },
           "yaxis": {
            "backgroundcolor": "#E5ECF6",
            "gridcolor": "white",
            "gridwidth": 2,
            "linecolor": "white",
            "showbackground": true,
            "ticks": "",
            "zerolinecolor": "white"
           },
           "zaxis": {
            "backgroundcolor": "#E5ECF6",
            "gridcolor": "white",
            "gridwidth": 2,
            "linecolor": "white",
            "showbackground": true,
            "ticks": "",
            "zerolinecolor": "white"
           }
          },
          "shapedefaults": {
           "line": {
            "color": "#2a3f5f"
           }
          },
          "ternary": {
           "aaxis": {
            "gridcolor": "white",
            "linecolor": "white",
            "ticks": ""
           },
           "baxis": {
            "gridcolor": "white",
            "linecolor": "white",
            "ticks": ""
           },
           "bgcolor": "#E5ECF6",
           "caxis": {
            "gridcolor": "white",
            "linecolor": "white",
            "ticks": ""
           }
          },
          "title": {
           "x": 0.05
          },
          "xaxis": {
           "automargin": true,
           "gridcolor": "white",
           "linecolor": "white",
           "ticks": "",
           "title": {
            "standoff": 15
           },
           "zerolinecolor": "white",
           "zerolinewidth": 2
          },
          "yaxis": {
           "automargin": true,
           "gridcolor": "white",
           "linecolor": "white",
           "ticks": "",
           "title": {
            "standoff": 15
           },
           "zerolinecolor": "white",
           "zerolinewidth": 2
          }
         }
        },
        "title": {
         "text": "График сравнения количества пользователей по группам"
        }
       }
      },
      "text/html": [
       "<div>                            <div id=\"32b56fff-d468-4381-bb1c-03781214ac4f\" class=\"plotly-graph-div\" style=\"height:525px; width:100%;\"></div>            <script type=\"text/javascript\">                require([\"plotly\"], function(Plotly) {                    window.PLOTLYENV=window.PLOTLYENV || {};                                    if (document.getElementById(\"32b56fff-d468-4381-bb1c-03781214ac4f\")) {                    Plotly.newPlot(                        \"32b56fff-d468-4381-bb1c-03781214ac4f\",                        [{\"domain\":{\"x\":[0.0,1.0],\"y\":[0.0,1.0]},\"hovertemplate\":\"group=%{label}<br>user_id=%{value}<extra></extra>\",\"labels\":[\"A\",\"B\"],\"legendgroup\":\"\",\"name\":\"\",\"showlegend\":true,\"values\":[1939,655],\"type\":\"pie\"}],                        {\"template\":{\"data\":{\"bar\":[{\"error_x\":{\"color\":\"#2a3f5f\"},\"error_y\":{\"color\":\"#2a3f5f\"},\"marker\":{\"line\":{\"color\":\"#E5ECF6\",\"width\":0.5},\"pattern\":{\"fillmode\":\"overlay\",\"size\":10,\"solidity\":0.2}},\"type\":\"bar\"}],\"barpolar\":[{\"marker\":{\"line\":{\"color\":\"#E5ECF6\",\"width\":0.5},\"pattern\":{\"fillmode\":\"overlay\",\"size\":10,\"solidity\":0.2}},\"type\":\"barpolar\"}],\"carpet\":[{\"aaxis\":{\"endlinecolor\":\"#2a3f5f\",\"gridcolor\":\"white\",\"linecolor\":\"white\",\"minorgridcolor\":\"white\",\"startlinecolor\":\"#2a3f5f\"},\"baxis\":{\"endlinecolor\":\"#2a3f5f\",\"gridcolor\":\"white\",\"linecolor\":\"white\",\"minorgridcolor\":\"white\",\"startlinecolor\":\"#2a3f5f\"},\"type\":\"carpet\"}],\"choropleth\":[{\"colorbar\":{\"outlinewidth\":0,\"ticks\":\"\"},\"type\":\"choropleth\"}],\"contour\":[{\"colorbar\":{\"outlinewidth\":0,\"ticks\":\"\"},\"colorscale\":[[0.0,\"#0d0887\"],[0.1111111111111111,\"#46039f\"],[0.2222222222222222,\"#7201a8\"],[0.3333333333333333,\"#9c179e\"],[0.4444444444444444,\"#bd3786\"],[0.5555555555555556,\"#d8576b\"],[0.6666666666666666,\"#ed7953\"],[0.7777777777777778,\"#fb9f3a\"],[0.8888888888888888,\"#fdca26\"],[1.0,\"#f0f921\"]],\"type\":\"contour\"}],\"contourcarpet\":[{\"colorbar\":{\"outlinewidth\":0,\"ticks\":\"\"},\"type\":\"contourcarpet\"}],\"heatmap\":[{\"colorbar\":{\"outlinewidth\":0,\"ticks\":\"\"},\"colorscale\":[[0.0,\"#0d0887\"],[0.1111111111111111,\"#46039f\"],[0.2222222222222222,\"#7201a8\"],[0.3333333333333333,\"#9c179e\"],[0.4444444444444444,\"#bd3786\"],[0.5555555555555556,\"#d8576b\"],[0.6666666666666666,\"#ed7953\"],[0.7777777777777778,\"#fb9f3a\"],[0.8888888888888888,\"#fdca26\"],[1.0,\"#f0f921\"]],\"type\":\"heatmap\"}],\"heatmapgl\":[{\"colorbar\":{\"outlinewidth\":0,\"ticks\":\"\"},\"colorscale\":[[0.0,\"#0d0887\"],[0.1111111111111111,\"#46039f\"],[0.2222222222222222,\"#7201a8\"],[0.3333333333333333,\"#9c179e\"],[0.4444444444444444,\"#bd3786\"],[0.5555555555555556,\"#d8576b\"],[0.6666666666666666,\"#ed7953\"],[0.7777777777777778,\"#fb9f3a\"],[0.8888888888888888,\"#fdca26\"],[1.0,\"#f0f921\"]],\"type\":\"heatmapgl\"}],\"histogram\":[{\"marker\":{\"pattern\":{\"fillmode\":\"overlay\",\"size\":10,\"solidity\":0.2}},\"type\":\"histogram\"}],\"histogram2d\":[{\"colorbar\":{\"outlinewidth\":0,\"ticks\":\"\"},\"colorscale\":[[0.0,\"#0d0887\"],[0.1111111111111111,\"#46039f\"],[0.2222222222222222,\"#7201a8\"],[0.3333333333333333,\"#9c179e\"],[0.4444444444444444,\"#bd3786\"],[0.5555555555555556,\"#d8576b\"],[0.6666666666666666,\"#ed7953\"],[0.7777777777777778,\"#fb9f3a\"],[0.8888888888888888,\"#fdca26\"],[1.0,\"#f0f921\"]],\"type\":\"histogram2d\"}],\"histogram2dcontour\":[{\"colorbar\":{\"outlinewidth\":0,\"ticks\":\"\"},\"colorscale\":[[0.0,\"#0d0887\"],[0.1111111111111111,\"#46039f\"],[0.2222222222222222,\"#7201a8\"],[0.3333333333333333,\"#9c179e\"],[0.4444444444444444,\"#bd3786\"],[0.5555555555555556,\"#d8576b\"],[0.6666666666666666,\"#ed7953\"],[0.7777777777777778,\"#fb9f3a\"],[0.8888888888888888,\"#fdca26\"],[1.0,\"#f0f921\"]],\"type\":\"histogram2dcontour\"}],\"mesh3d\":[{\"colorbar\":{\"outlinewidth\":0,\"ticks\":\"\"},\"type\":\"mesh3d\"}],\"parcoords\":[{\"line\":{\"colorbar\":{\"outlinewidth\":0,\"ticks\":\"\"}},\"type\":\"parcoords\"}],\"pie\":[{\"automargin\":true,\"type\":\"pie\"}],\"scatter\":[{\"marker\":{\"colorbar\":{\"outlinewidth\":0,\"ticks\":\"\"}},\"type\":\"scatter\"}],\"scatter3d\":[{\"line\":{\"colorbar\":{\"outlinewidth\":0,\"ticks\":\"\"}},\"marker\":{\"colorbar\":{\"outlinewidth\":0,\"ticks\":\"\"}},\"type\":\"scatter3d\"}],\"scattercarpet\":[{\"marker\":{\"colorbar\":{\"outlinewidth\":0,\"ticks\":\"\"}},\"type\":\"scattercarpet\"}],\"scattergeo\":[{\"marker\":{\"colorbar\":{\"outlinewidth\":0,\"ticks\":\"\"}},\"type\":\"scattergeo\"}],\"scattergl\":[{\"marker\":{\"colorbar\":{\"outlinewidth\":0,\"ticks\":\"\"}},\"type\":\"scattergl\"}],\"scattermapbox\":[{\"marker\":{\"colorbar\":{\"outlinewidth\":0,\"ticks\":\"\"}},\"type\":\"scattermapbox\"}],\"scatterpolar\":[{\"marker\":{\"colorbar\":{\"outlinewidth\":0,\"ticks\":\"\"}},\"type\":\"scatterpolar\"}],\"scatterpolargl\":[{\"marker\":{\"colorbar\":{\"outlinewidth\":0,\"ticks\":\"\"}},\"type\":\"scatterpolargl\"}],\"scatterternary\":[{\"marker\":{\"colorbar\":{\"outlinewidth\":0,\"ticks\":\"\"}},\"type\":\"scatterternary\"}],\"surface\":[{\"colorbar\":{\"outlinewidth\":0,\"ticks\":\"\"},\"colorscale\":[[0.0,\"#0d0887\"],[0.1111111111111111,\"#46039f\"],[0.2222222222222222,\"#7201a8\"],[0.3333333333333333,\"#9c179e\"],[0.4444444444444444,\"#bd3786\"],[0.5555555555555556,\"#d8576b\"],[0.6666666666666666,\"#ed7953\"],[0.7777777777777778,\"#fb9f3a\"],[0.8888888888888888,\"#fdca26\"],[1.0,\"#f0f921\"]],\"type\":\"surface\"}],\"table\":[{\"cells\":{\"fill\":{\"color\":\"#EBF0F8\"},\"line\":{\"color\":\"white\"}},\"header\":{\"fill\":{\"color\":\"#C8D4E3\"},\"line\":{\"color\":\"white\"}},\"type\":\"table\"}]},\"layout\":{\"annotationdefaults\":{\"arrowcolor\":\"#2a3f5f\",\"arrowhead\":0,\"arrowwidth\":1},\"autotypenumbers\":\"strict\",\"coloraxis\":{\"colorbar\":{\"outlinewidth\":0,\"ticks\":\"\"}},\"colorscale\":{\"diverging\":[[0,\"#8e0152\"],[0.1,\"#c51b7d\"],[0.2,\"#de77ae\"],[0.3,\"#f1b6da\"],[0.4,\"#fde0ef\"],[0.5,\"#f7f7f7\"],[0.6,\"#e6f5d0\"],[0.7,\"#b8e186\"],[0.8,\"#7fbc41\"],[0.9,\"#4d9221\"],[1,\"#276419\"]],\"sequential\":[[0.0,\"#0d0887\"],[0.1111111111111111,\"#46039f\"],[0.2222222222222222,\"#7201a8\"],[0.3333333333333333,\"#9c179e\"],[0.4444444444444444,\"#bd3786\"],[0.5555555555555556,\"#d8576b\"],[0.6666666666666666,\"#ed7953\"],[0.7777777777777778,\"#fb9f3a\"],[0.8888888888888888,\"#fdca26\"],[1.0,\"#f0f921\"]],\"sequentialminus\":[[0.0,\"#0d0887\"],[0.1111111111111111,\"#46039f\"],[0.2222222222222222,\"#7201a8\"],[0.3333333333333333,\"#9c179e\"],[0.4444444444444444,\"#bd3786\"],[0.5555555555555556,\"#d8576b\"],[0.6666666666666666,\"#ed7953\"],[0.7777777777777778,\"#fb9f3a\"],[0.8888888888888888,\"#fdca26\"],[1.0,\"#f0f921\"]]},\"colorway\":[\"#636efa\",\"#EF553B\",\"#00cc96\",\"#ab63fa\",\"#FFA15A\",\"#19d3f3\",\"#FF6692\",\"#B6E880\",\"#FF97FF\",\"#FECB52\"],\"font\":{\"color\":\"#2a3f5f\"},\"geo\":{\"bgcolor\":\"white\",\"lakecolor\":\"white\",\"landcolor\":\"#E5ECF6\",\"showlakes\":true,\"showland\":true,\"subunitcolor\":\"white\"},\"hoverlabel\":{\"align\":\"left\"},\"hovermode\":\"closest\",\"mapbox\":{\"style\":\"light\"},\"paper_bgcolor\":\"white\",\"plot_bgcolor\":\"#E5ECF6\",\"polar\":{\"angularaxis\":{\"gridcolor\":\"white\",\"linecolor\":\"white\",\"ticks\":\"\"},\"bgcolor\":\"#E5ECF6\",\"radialaxis\":{\"gridcolor\":\"white\",\"linecolor\":\"white\",\"ticks\":\"\"}},\"scene\":{\"xaxis\":{\"backgroundcolor\":\"#E5ECF6\",\"gridcolor\":\"white\",\"gridwidth\":2,\"linecolor\":\"white\",\"showbackground\":true,\"ticks\":\"\",\"zerolinecolor\":\"white\"},\"yaxis\":{\"backgroundcolor\":\"#E5ECF6\",\"gridcolor\":\"white\",\"gridwidth\":2,\"linecolor\":\"white\",\"showbackground\":true,\"ticks\":\"\",\"zerolinecolor\":\"white\"},\"zaxis\":{\"backgroundcolor\":\"#E5ECF6\",\"gridcolor\":\"white\",\"gridwidth\":2,\"linecolor\":\"white\",\"showbackground\":true,\"ticks\":\"\",\"zerolinecolor\":\"white\"}},\"shapedefaults\":{\"line\":{\"color\":\"#2a3f5f\"}},\"ternary\":{\"aaxis\":{\"gridcolor\":\"white\",\"linecolor\":\"white\",\"ticks\":\"\"},\"baxis\":{\"gridcolor\":\"white\",\"linecolor\":\"white\",\"ticks\":\"\"},\"bgcolor\":\"#E5ECF6\",\"caxis\":{\"gridcolor\":\"white\",\"linecolor\":\"white\",\"ticks\":\"\"}},\"title\":{\"x\":0.05},\"xaxis\":{\"automargin\":true,\"gridcolor\":\"white\",\"linecolor\":\"white\",\"ticks\":\"\",\"title\":{\"standoff\":15},\"zerolinecolor\":\"white\",\"zerolinewidth\":2},\"yaxis\":{\"automargin\":true,\"gridcolor\":\"white\",\"linecolor\":\"white\",\"ticks\":\"\",\"title\":{\"standoff\":15},\"zerolinecolor\":\"white\",\"zerolinewidth\":2}}},\"legend\":{\"tracegroupgap\":0},\"title\":{\"text\":\"\\u0413\\u0440\\u0430\\u0444\\u0438\\u043a \\u0441\\u0440\\u0430\\u0432\\u043d\\u0435\\u043d\\u0438\\u044f \\u043a\\u043e\\u043b\\u0438\\u0447\\u0435\\u0441\\u0442\\u0432\\u0430 \\u043f\\u043e\\u043b\\u044c\\u0437\\u043e\\u0432\\u0430\\u0442\\u0435\\u043b\\u0435\\u0439 \\u043f\\u043e \\u0433\\u0440\\u0443\\u043f\\u043f\\u0430\\u043c\"}},                        {\"responsive\": true}                    ).then(function(){\n",
       "                            \n",
       "var gd = document.getElementById('32b56fff-d468-4381-bb1c-03781214ac4f');\n",
       "var x = new MutationObserver(function (mutations, observer) {{\n",
       "        var display = window.getComputedStyle(gd).display;\n",
       "        if (!display || display === 'none') {{\n",
       "            console.log([gd, 'removed!']);\n",
       "            Plotly.purge(gd);\n",
       "            observer.disconnect();\n",
       "        }}\n",
       "}});\n",
       "\n",
       "// Listen for the removal of the full notebook cells\n",
       "var notebookContainer = gd.closest('#notebook-container');\n",
       "if (notebookContainer) {{\n",
       "    x.observe(notebookContainer, {childList: true});\n",
       "}}\n",
       "\n",
       "// Listen for the clearing of the current output cell\n",
       "var outputEl = gd.closest('.output');\n",
       "if (outputEl) {{\n",
       "    x.observe(outputEl, {childList: true});\n",
       "}}\n",
       "\n",
       "                        })                };                });            </script>        </div>"
      ]
     },
     "metadata": {},
     "output_type": "display_data"
    }
   ],
   "source": [
    "#Сгруппируем по группе и посчитаем уникальное число пользователей в каждой из них.\n",
    "data_user_eu_group = data_user_eu.pivot_table(index='group', values='user_id', aggfunc='nunique').reset_index().\\\n",
    "    sort_values(by='user_id', ascending=False)\n",
    "display(data_user_eu_group)\n",
    "#Визуаилизируем\n",
    "fig = px.pie(data_user_eu_group, values='user_id', names='group', title='График сравнения количества пользователей по группам')\n",
    "fig.show()"
   ]
  },
  {
   "cell_type": "markdown",
   "id": "c89b2267",
   "metadata": {},
   "source": [
    "Исходя из полученных данных, можем указать на **неравномерность** распределения по группам : число пользователей из группы *А* **больше** группы *B* на порядок - *75%* против *25%* пользователей соответственно. Равномерность распредления долей мы проверим далее по проекту. "
   ]
  },
  {
   "cell_type": "markdown",
   "id": "f33dd550",
   "metadata": {},
   "source": [
    "Посмотрим, как менялось количество действий в каждой из группы по времени."
   ]
  },
  {
   "cell_type": "code",
   "execution_count": 79,
   "id": "dbfb39d7",
   "metadata": {},
   "outputs": [],
   "source": [
    "#сгруппируем данные по дате действия и по группе и посчитаем число пользователей\n",
    "data_user_eu_dt = data_user_eu.pivot_table(index=['event_dt', 'group'], values='event_name', aggfunc='count').reset_index()\n",
    "data_user_eu_dt['event_dt'] = data_user_eu_dt['event_dt'].dt.date"
   ]
  },
  {
   "cell_type": "code",
   "execution_count": 80,
   "id": "6801ee02",
   "metadata": {},
   "outputs": [
    {
     "data": {
      "image/png": "[encoded data removed]",
      "text/plain": [
       "<Figure size 1080x576 with 1 Axes>"
      ]
     },
     "metadata": {},
     "output_type": "display_data"
    }
   ],
   "source": [
    "#построим график изменения с течением времени изменения количества действий\n",
    "plt.figure(figsize=(15,8))\n",
    "sns.barplot(data=data_user_eu_dt, x='event_dt', y='event_name', hue='group')\n",
    "plt.title('График изменения количества действий с течением времени по каждой группе')\n",
    "plt.xlabel('Дата')\n",
    "plt.ylabel('Кол-во действий')\n",
    "plt.xticks(rotation=75)\n",
    "plt.show()"
   ]
  },
  {
   "cell_type": "markdown",
   "id": "d8abf4e4",
   "metadata": {},
   "source": [
    "На основании графика мы видим, что с *7 декабря 2020 по 10 декабря* число действий в среднем было равно между группами.\\\n",
    "с *11 декабря* начинается падение действий группы **B**, а с *14 декабря* виден резкий рост количества действий группы *А* и достигает своего пика *21 декабря*. После чего начинает своё падение и заканчивается *29 декабря*. Стоит отметить, что после *29 декабря* не было совершено ни одного действия исследуемых пользователей.\\\n",
    "За весь период исследования группа *B* не показывала существенного роста количества действий. Это может быть следствием нескольких причин:\n",
    "\n",
    "1) Число пользователей из группы *А* начало расти с *14 декабря* и тем самым общее число действие выросло;\\\n",
    "2) Пользователи, регистрирующиеся в начале исследования пробовали новую систему, которая не понравилась или имела технические проблемы, решали совершать покупки в старой системе;\\\n",
    "3) Число новых пользователей группы *B* росло равномерно, но огромное число пользователей уходило после процесса регистрации. \n",
    "\n",
    "В любом случае, на данном графике видна неэффективность перемен, на что стоит обратить внимание руководство. "
   ]
  },
  {
   "cell_type": "markdown",
   "id": "74af20c2",
   "metadata": {},
   "source": [
    "Проверим ситуацию, при которой пользователи совершали действия более, чем за 14 дней после даты регистрации. "
   ]
  },
  {
   "cell_type": "code",
   "execution_count": 81,
   "id": "2fa3bf3a",
   "metadata": {},
   "outputs": [
    {
     "name": "stdout",
     "output_type": "stream",
     "text": [
      "Пользователей, чья продуктовая воронка выходит за пределы 14 дней : 191 штук\n"
     ]
    }
   ],
   "source": [
    "#Добавим новый столбец с числом дней, прошедших с момента регистрации пользователя и отфильтруем те строки, в которых дней прошло больше 14\n",
    "data_user_eu['first_date'] = data_user_eu['first_date'].astype('datetime64')\n",
    "data_user_eu['days'] = data_user_eu['event_dt'] - data_user_eu['first_date']\n",
    "data_user_eu_out = data_user_eu[abs(data_user_eu[\"event_dt\"]-data_user_eu[\"first_date\"])>timedelta(days=14)]\n",
    "print(f'Пользователей, чья продуктовая воронка выходит за пределы 14 дней : {data_user_eu_out[\"user_id\"].nunique()} штук')"
   ]
  },
  {
   "cell_type": "markdown",
   "id": "426b4f55",
   "metadata": {},
   "source": [
    "Целых 191 пользователь совершал действия, которые выходили за рамки ТЗ. Но нам необходимо не удалить таких пользователей, а только такие действия."
   ]
  },
  {
   "cell_type": "code",
   "execution_count": 82,
   "id": "430e91bc",
   "metadata": {},
   "outputs": [],
   "source": [
    "#Оставляем только те строки, действия которые не выходят за рамки 14 дней.\n",
    "data_user_eu = data_user_eu[data_user_eu['days'] <= timedelta(days=14)]"
   ]
  },
  {
   "cell_type": "markdown",
   "id": "44c72e8f",
   "metadata": {},
   "source": [
    "<a id=\"analysis2\"></a>  \n",
    "## Проведение исследовательского анализа данных"
   ]
  },
  {
   "cell_type": "markdown",
   "id": "bd4b2224",
   "metadata": {},
   "source": [
    "Исследовательский анализ начнем с проверки равномерности распределения количества событий на одного пользователя. "
   ]
  },
  {
   "cell_type": "code",
   "execution_count": 83,
   "id": "3f43cb6a",
   "metadata": {},
   "outputs": [
    {
     "data": {
      "image/png": "[encoded data removed]",
      "text/plain": [
       "<Figure size 777.6x432 with 1 Axes>"
      ]
     },
     "metadata": {},
     "output_type": "display_data"
    }
   ],
   "source": [
    "#Сгруппируем данные по пользователям и группам и посчитаем количество действий на каждого\n",
    "data_user_eu_event = data_user_eu.pivot_table(index=['user_id', 'group'], values='event_name', aggfunc='count').reset_index().\\\n",
    "    sort_values(by='event_name', ascending=False)\n",
    "#Нарисуем график для удобства \n",
    "sns.catplot(data=data_user_eu_event, x=\"group\", y = 'event_name', kind=\"box\", height=6, aspect= 1.8)\n",
    "plt.title('График распределения количества действий по категорям')\n",
    "plt.xlabel('Категория')\n",
    "plt.ylabel('Количество действий')\n",
    "plt.show()"
   ]
  },
  {
   "cell_type": "code",
   "execution_count": 84,
   "id": "1906265f",
   "metadata": {},
   "outputs": [
    {
     "name": "stdout",
     "output_type": "stream",
     "text": [
      "Распределение количества действий в группе B\n"
     ]
    },
    {
     "data": {
      "text/plain": [
       "count    655.00000\n",
       "mean       5.49313\n",
       "std        3.34822\n",
       "min        1.00000\n",
       "25%        3.00000\n",
       "50%        4.00000\n",
       "75%        7.50000\n",
       "max       24.00000\n",
       "Name: event_name, dtype: float64"
      ]
     },
     "metadata": {},
     "output_type": "display_data"
    },
    {
     "name": "stdout",
     "output_type": "stream",
     "text": [
      "Медианное значение:4.0\n",
      "\n",
      "Распределение количества действий в группе A\n"
     ]
    },
    {
     "data": {
      "text/plain": [
       "count    1939.000000\n",
       "mean        6.956679\n",
       "std         3.862334\n",
       "min         1.000000\n",
       "25%         4.000000\n",
       "50%         6.000000\n",
       "75%         9.000000\n",
       "max        24.000000\n",
       "Name: event_name, dtype: float64"
      ]
     },
     "metadata": {},
     "output_type": "display_data"
    },
    {
     "name": "stdout",
     "output_type": "stream",
     "text": [
      "Медианное значение:6.0\n",
      "\n"
     ]
    }
   ],
   "source": [
    "#Добавим методом describe распределение по каждой группе\n",
    "groups = data_user_eu_event['group'].unique()\n",
    "for groupa in groups:\n",
    "    print(f'Распределение количества действий в группе {groupa}')\n",
    "    display(data_user_eu_event[data_user_eu_event['group'] == groupa]['event_name'].describe())\n",
    "    print(f'Медианное значение:{data_user_eu_event[data_user_eu_event[\"group\"] == groupa][\"event_name\"].median()}')\n",
    "    print()"
   ]
  },
  {
   "cell_type": "markdown",
   "id": "32133a2a",
   "metadata": {},
   "source": [
    "На основании полученного графика можем сделать вывод о том, что в *в среднем* число действий клиентов группы *А* и группы *B* **различаются**. Так как на первом графике мы видим, что присутствуют *аномальные выбросы* в части количества действий, правильным будет выбрать медианное значение. Таким образом, в среднем пользователи группы *А* совершают **больше** действий, чем группа **B** на 2 действия. На данном этапе можно уже сделать предположение, что пользователи группы *А* намного вероятнее доходят до стадии *покупки*. Однако по анализу у нас всего 4 действия. Такое несовпадение количества может говорить о том, что пользователи первой группы в среднем больше пользуются сайтом и чаще просматривают различные карточки продуктов, в отличае от группы *B*. Либо интерфейс сайта не понятен пользователям, поэтому им приходится повторять одни и те же действия и так далее. "
   ]
  },
  {
   "cell_type": "markdown",
   "id": "c92cdedc",
   "metadata": {},
   "source": [
    "Исследуем продуктовую воронку всех пользователей. "
   ]
  },
  {
   "cell_type": "code",
   "execution_count": 85,
   "id": "8bbad5e0",
   "metadata": {},
   "outputs": [],
   "source": [
    "#Сгруппируем данные по названию действия и посчитаем уникальное число пользователей их совершивших\n",
    "\n",
    "data_user_eu_trace = data_user_eu.pivot_table(index='event_name', values='user_id', aggfunc='nunique').reset_index()\n",
    "#Создадим функцию, которая бы возвращала порядковый номер действия в соответствие с логикой покупки\n",
    "def order(row):\n",
    "    if row == 'login':\n",
    "        return 1\n",
    "    elif row == 'product_page':\n",
    "        return 2\n",
    "    elif row == 'product_cart':\n",
    "        return 3\n",
    "    else:\n",
    "        return 4\n",
    "#создадим колонку с порядковым номером\n",
    "data_user_eu_trace['order'] = data_user_eu_trace['event_name'].apply(order)    \n",
    "#отфильтруем по порядкову номеру действия\n",
    "data_user_eu_trace = data_user_eu_trace.sort_values(by='order')"
   ]
  },
  {
   "cell_type": "code",
   "execution_count": 86,
   "id": "6cb8ee29",
   "metadata": {},
   "outputs": [
    {
     "data": {
      "application/vnd.plotly.v1+json": {
       "config": {
        "plotlyServerURL": "https://plot.ly"
       },
       "data": [
        {
         "marker": {
          "color": "#3274a1"
         },
         "textinfo": "value+percent initial",
         "type": "funnel",
         "x": [
          2593,
          1632,
          773,
          804
         ],
         "y": [
          "login",
          "product_page",
          "product_cart",
          "purchase"
         ]
        }
       ],
       "layout": {
        "height": 500,
        "template": {
         "data": {
          "bar": [
           {
            "error_x": {
             "color": "rgb(36,36,36)"
            },
            "error_y": {
             "color": "rgb(36,36,36)"
            },
            "marker": {
             "line": {
              "color": "white",
              "width": 0.5
             },
             "pattern": {
              "fillmode": "overlay",
              "size": 10,
              "solidity": 0.2
             }
            },
            "type": "bar"
           }
          ],
          "barpolar": [
           {
            "marker": {
             "line": {
              "color": "white",
              "width": 0.5
             },
             "pattern": {
              "fillmode": "overlay",
              "size": 10,
              "solidity": 0.2
             }
            },
            "type": "barpolar"
           }
          ],
          "carpet": [
           {
            "aaxis": {
             "endlinecolor": "rgb(36,36,36)",
             "gridcolor": "white",
             "linecolor": "white",
             "minorgridcolor": "white",
             "startlinecolor": "rgb(36,36,36)"
            },
            "baxis": {
             "endlinecolor": "rgb(36,36,36)",
             "gridcolor": "white",
             "linecolor": "white",
             "minorgridcolor": "white",
             "startlinecolor": "rgb(36,36,36)"
            },
            "type": "carpet"
           }
          ],
          "choropleth": [
           {
            "colorbar": {
             "outlinewidth": 1,
             "tickcolor": "rgb(36,36,36)",
             "ticks": "outside"
            },
            "type": "choropleth"
           }
          ],
          "contour": [
           {
            "colorbar": {
             "outlinewidth": 1,
             "tickcolor": "rgb(36,36,36)",
             "ticks": "outside"
            },
            "colorscale": [
             [
              0,
              "#440154"
             ],
             [
              0.1111111111111111,
              "#482878"
             ],
             [
              0.2222222222222222,
              "#3e4989"
             ],
             [
              0.3333333333333333,
              "#31688e"
             ],
             [
              0.4444444444444444,
              "#26828e"
             ],
             [
              0.5555555555555556,
              "#1f9e89"
             ],
             [
              0.6666666666666666,
              "#35b779"
             ],
             [
              0.7777777777777778,
              "#6ece58"
             ],
             [
              0.8888888888888888,
              "#b5de2b"
             ],
             [
              1,
              "#fde725"
             ]
            ],
            "type": "contour"
           }
          ],
          "contourcarpet": [
           {
            "colorbar": {
             "outlinewidth": 1,
             "tickcolor": "rgb(36,36,36)",
             "ticks": "outside"
            },
            "type": "contourcarpet"
           }
          ],
          "heatmap": [
           {
            "colorbar": {
             "outlinewidth": 1,
             "tickcolor": "rgb(36,36,36)",
             "ticks": "outside"
            },
            "colorscale": [
             [
              0,
              "#440154"
             ],
             [
              0.1111111111111111,
              "#482878"
             ],
             [
              0.2222222222222222,
              "#3e4989"
             ],
             [
              0.3333333333333333,
              "#31688e"
             ],
             [
              0.4444444444444444,
              "#26828e"
             ],
             [
              0.5555555555555556,
              "#1f9e89"
             ],
             [
              0.6666666666666666,
              "#35b779"
             ],
             [
              0.7777777777777778,
              "#6ece58"
             ],
             [
              0.8888888888888888,
              "#b5de2b"
             ],
             [
              1,
              "#fde725"
             ]
            ],
            "type": "heatmap"
           }
          ],
          "heatmapgl": [
           {
            "colorbar": {
             "outlinewidth": 1,
             "tickcolor": "rgb(36,36,36)",
             "ticks": "outside"
            },
            "colorscale": [
             [
              0,
              "#440154"
             ],
             [
              0.1111111111111111,
              "#482878"
             ],
             [
              0.2222222222222222,
              "#3e4989"
             ],
             [
              0.3333333333333333,
              "#31688e"
             ],
             [
              0.4444444444444444,
              "#26828e"
             ],
             [
              0.5555555555555556,
              "#1f9e89"
             ],
             [
              0.6666666666666666,
              "#35b779"
             ],
             [
              0.7777777777777778,
              "#6ece58"
             ],
             [
              0.8888888888888888,
              "#b5de2b"
             ],
             [
              1,
              "#fde725"
             ]
            ],
            "type": "heatmapgl"
           }
          ],
          "histogram": [
           {
            "marker": {
             "line": {
              "color": "white",
              "width": 0.6
             }
            },
            "type": "histogram"
           }
          ],
          "histogram2d": [
           {
            "colorbar": {
             "outlinewidth": 1,
             "tickcolor": "rgb(36,36,36)",
             "ticks": "outside"
            },
            "colorscale": [
             [
              0,
              "#440154"
             ],
             [
              0.1111111111111111,
              "#482878"
             ],
             [
              0.2222222222222222,
              "#3e4989"
             ],
             [
              0.3333333333333333,
              "#31688e"
             ],
             [
              0.4444444444444444,
              "#26828e"
             ],
             [
              0.5555555555555556,
              "#1f9e89"
             ],
             [
              0.6666666666666666,
              "#35b779"
             ],
             [
              0.7777777777777778,
              "#6ece58"
             ],
             [
              0.8888888888888888,
              "#b5de2b"
             ],
             [
              1,
              "#fde725"
             ]
            ],
            "type": "histogram2d"
           }
          ],
          "histogram2dcontour": [
           {
            "colorbar": {
             "outlinewidth": 1,
             "tickcolor": "rgb(36,36,36)",
             "ticks": "outside"
            },
            "colorscale": [
             [
              0,
              "#440154"
             ],
             [
              0.1111111111111111,
              "#482878"
             ],
             [
              0.2222222222222222,
              "#3e4989"
             ],
             [
              0.3333333333333333,
              "#31688e"
             ],
             [
              0.4444444444444444,
              "#26828e"
             ],
             [
              0.5555555555555556,
              "#1f9e89"
             ],
             [
              0.6666666666666666,
              "#35b779"
             ],
             [
              0.7777777777777778,
              "#6ece58"
             ],
             [
              0.8888888888888888,
              "#b5de2b"
             ],
             [
              1,
              "#fde725"
             ]
            ],
            "type": "histogram2dcontour"
           }
          ],
          "mesh3d": [
           {
            "colorbar": {
             "outlinewidth": 1,
             "tickcolor": "rgb(36,36,36)",
             "ticks": "outside"
            },
            "type": "mesh3d"
           }
          ],
          "parcoords": [
           {
            "line": {
             "colorbar": {
              "outlinewidth": 1,
              "tickcolor": "rgb(36,36,36)",
              "ticks": "outside"
             }
            },
            "type": "parcoords"
           }
          ],
          "pie": [
           {
            "automargin": true,
            "type": "pie"
           }
          ],
          "scatter": [
           {
            "marker": {
             "colorbar": {
              "outlinewidth": 1,
              "tickcolor": "rgb(36,36,36)",
              "ticks": "outside"
             }
            },
            "type": "scatter"
           }
          ],
          "scatter3d": [
           {
            "line": {
             "colorbar": {
              "outlinewidth": 1,
              "tickcolor": "rgb(36,36,36)",
              "ticks": "outside"
             }
            },
            "marker": {
             "colorbar": {
              "outlinewidth": 1,
              "tickcolor": "rgb(36,36,36)",
              "ticks": "outside"
             }
            },
            "type": "scatter3d"
           }
          ],
          "scattercarpet": [
           {
            "marker": {
             "colorbar": {
              "outlinewidth": 1,
              "tickcolor": "rgb(36,36,36)",
              "ticks": "outside"
             }
            },
            "type": "scattercarpet"
           }
          ],
          "scattergeo": [
           {
            "marker": {
             "colorbar": {
              "outlinewidth": 1,
              "tickcolor": "rgb(36,36,36)",
              "ticks": "outside"
             }
            },
            "type": "scattergeo"
           }
          ],
          "scattergl": [
           {
            "marker": {
             "colorbar": {
              "outlinewidth": 1,
              "tickcolor": "rgb(36,36,36)",
              "ticks": "outside"
             }
            },
            "type": "scattergl"
           }
          ],
          "scattermapbox": [
           {
            "marker": {
             "colorbar": {
              "outlinewidth": 1,
              "tickcolor": "rgb(36,36,36)",
              "ticks": "outside"
             }
            },
            "type": "scattermapbox"
           }
          ],
          "scatterpolar": [
           {
            "marker": {
             "colorbar": {
              "outlinewidth": 1,
              "tickcolor": "rgb(36,36,36)",
              "ticks": "outside"
             }
            },
            "type": "scatterpolar"
           }
          ],
          "scatterpolargl": [
           {
            "marker": {
             "colorbar": {
              "outlinewidth": 1,
              "tickcolor": "rgb(36,36,36)",
              "ticks": "outside"
             }
            },
            "type": "scatterpolargl"
           }
          ],
          "scatterternary": [
           {
            "marker": {
             "colorbar": {
              "outlinewidth": 1,
              "tickcolor": "rgb(36,36,36)",
              "ticks": "outside"
             }
            },
            "type": "scatterternary"
           }
          ],
          "surface": [
           {
            "colorbar": {
             "outlinewidth": 1,
             "tickcolor": "rgb(36,36,36)",
             "ticks": "outside"
            },
            "colorscale": [
             [
              0,
              "#440154"
             ],
             [
              0.1111111111111111,
              "#482878"
             ],
             [
              0.2222222222222222,
              "#3e4989"
             ],
             [
              0.3333333333333333,
              "#31688e"
             ],
             [
              0.4444444444444444,
              "#26828e"
             ],
             [
              0.5555555555555556,
              "#1f9e89"
             ],
             [
              0.6666666666666666,
              "#35b779"
             ],
             [
              0.7777777777777778,
              "#6ece58"
             ],
             [
              0.8888888888888888,
              "#b5de2b"
             ],
             [
              1,
              "#fde725"
             ]
            ],
            "type": "surface"
           }
          ],
          "table": [
           {
            "cells": {
             "fill": {
              "color": "rgb(237,237,237)"
             },
             "line": {
              "color": "white"
             }
            },
            "header": {
             "fill": {
              "color": "rgb(217,217,217)"
             },
             "line": {
              "color": "white"
             }
            },
            "type": "table"
           }
          ]
         },
         "layout": {
          "annotationdefaults": {
           "arrowhead": 0,
           "arrowwidth": 1
          },
          "autotypenumbers": "strict",
          "coloraxis": {
           "colorbar": {
            "outlinewidth": 1,
            "tickcolor": "rgb(36,36,36)",
            "ticks": "outside"
           }
          },
          "colorscale": {
           "diverging": [
            [
             0,
             "rgb(103,0,31)"
            ],
            [
             0.1,
             "rgb(178,24,43)"
            ],
            [
             0.2,
             "rgb(214,96,77)"
            ],
            [
             0.3,
             "rgb(244,165,130)"
            ],
            [
             0.4,
             "rgb(253,219,199)"
            ],
            [
             0.5,
             "rgb(247,247,247)"
            ],
            [
             0.6,
             "rgb(209,229,240)"
            ],
            [
             0.7,
             "rgb(146,197,222)"
            ],
            [
             0.8,
             "rgb(67,147,195)"
            ],
            [
             0.9,
             "rgb(33,102,172)"
            ],
            [
             1,
             "rgb(5,48,97)"
            ]
           ],
           "sequential": [
            [
             0,
             "#440154"
            ],
            [
             0.1111111111111111,
             "#482878"
            ],
            [
             0.2222222222222222,
             "#3e4989"
            ],
            [
             0.3333333333333333,
             "#31688e"
            ],
            [
             0.4444444444444444,
             "#26828e"
            ],
            [
             0.5555555555555556,
             "#1f9e89"
            ],
            [
             0.6666666666666666,
             "#35b779"
            ],
            [
             0.7777777777777778,
             "#6ece58"
            ],
            [
             0.8888888888888888,
             "#b5de2b"
            ],
            [
             1,
             "#fde725"
            ]
           ],
           "sequentialminus": [
            [
             0,
             "#440154"
            ],
            [
             0.1111111111111111,
             "#482878"
            ],
            [
             0.2222222222222222,
             "#3e4989"
            ],
            [
             0.3333333333333333,
             "#31688e"
            ],
            [
             0.4444444444444444,
             "#26828e"
            ],
            [
             0.5555555555555556,
             "#1f9e89"
            ],
            [
             0.6666666666666666,
             "#35b779"
            ],
            [
             0.7777777777777778,
             "#6ece58"
            ],
            [
             0.8888888888888888,
             "#b5de2b"
            ],
            [
             1,
             "#fde725"
            ]
           ]
          },
          "colorway": [
           "#1F77B4",
           "#FF7F0E",
           "#2CA02C",
           "#D62728",
           "#9467BD",
           "#8C564B",
           "#E377C2",
           "#7F7F7F",
           "#BCBD22",
           "#17BECF"
          ],
          "font": {
           "color": "rgb(36,36,36)"
          },
          "geo": {
           "bgcolor": "white",
           "lakecolor": "white",
           "landcolor": "white",
           "showlakes": true,
           "showland": true,
           "subunitcolor": "white"
          },
          "hoverlabel": {
           "align": "left"
          },
          "hovermode": "closest",
          "mapbox": {
           "style": "light"
          },
          "paper_bgcolor": "white",
          "plot_bgcolor": "white",
          "polar": {
           "angularaxis": {
            "gridcolor": "rgb(232,232,232)",
            "linecolor": "rgb(36,36,36)",
            "showgrid": false,
            "showline": true,
            "ticks": "outside"
           },
           "bgcolor": "white",
           "radialaxis": {
            "gridcolor": "rgb(232,232,232)",
            "linecolor": "rgb(36,36,36)",
            "showgrid": false,
            "showline": true,
            "ticks": "outside"
           }
          },
          "scene": {
           "xaxis": {
            "backgroundcolor": "white",
            "gridcolor": "rgb(232,232,232)",
            "gridwidth": 2,
            "linecolor": "rgb(36,36,36)",
            "showbackground": true,
            "showgrid": false,
            "showline": true,
            "ticks": "outside",
            "zeroline": false,
            "zerolinecolor": "rgb(36,36,36)"
           },
           "yaxis": {
            "backgroundcolor": "white",
            "gridcolor": "rgb(232,232,232)",
            "gridwidth": 2,
            "linecolor": "rgb(36,36,36)",
            "showbackground": true,
            "showgrid": false,
            "showline": true,
            "ticks": "outside",
            "zeroline": false,
            "zerolinecolor": "rgb(36,36,36)"
           },
           "zaxis": {
            "backgroundcolor": "white",
            "gridcolor": "rgb(232,232,232)",
            "gridwidth": 2,
            "linecolor": "rgb(36,36,36)",
            "showbackground": true,
            "showgrid": false,
            "showline": true,
            "ticks": "outside",
            "zeroline": false,
            "zerolinecolor": "rgb(36,36,36)"
           }
          },
          "shapedefaults": {
           "fillcolor": "black",
           "line": {
            "width": 0
           },
           "opacity": 0.3
          },
          "ternary": {
           "aaxis": {
            "gridcolor": "rgb(232,232,232)",
            "linecolor": "rgb(36,36,36)",
            "showgrid": false,
            "showline": true,
            "ticks": "outside"
           },
           "baxis": {
            "gridcolor": "rgb(232,232,232)",
            "linecolor": "rgb(36,36,36)",
            "showgrid": false,
            "showline": true,
            "ticks": "outside"
           },
           "bgcolor": "white",
           "caxis": {
            "gridcolor": "rgb(232,232,232)",
            "linecolor": "rgb(36,36,36)",
            "showgrid": false,
            "showline": true,
            "ticks": "outside"
           }
          },
          "title": {
           "x": 0.05
          },
          "xaxis": {
           "automargin": true,
           "gridcolor": "rgb(232,232,232)",
           "linecolor": "rgb(36,36,36)",
           "showgrid": false,
           "showline": true,
           "ticks": "outside",
           "title": {
            "standoff": 15
           },
           "zeroline": false,
           "zerolinecolor": "rgb(36,36,36)"
          },
          "yaxis": {
           "automargin": true,
           "gridcolor": "rgb(232,232,232)",
           "linecolor": "rgb(36,36,36)",
           "showgrid": false,
           "showline": true,
           "ticks": "outside",
           "title": {
            "standoff": 15
           },
           "zeroline": false,
           "zerolinecolor": "rgb(36,36,36)"
          }
         }
        },
        "title": {
         "text": "Воронка общая"
        },
        "width": 900
       }
      },
      "text/html": [
       "<div>                            <div id=\"4cb1ffcc-411d-437c-9922-a56f5b858ede\" class=\"plotly-graph-div\" style=\"height:500px; width:900px;\"></div>            <script type=\"text/javascript\">                require([\"plotly\"], function(Plotly) {                    window.PLOTLYENV=window.PLOTLYENV || {};                                    if (document.getElementById(\"4cb1ffcc-411d-437c-9922-a56f5b858ede\")) {                    Plotly.newPlot(                        \"4cb1ffcc-411d-437c-9922-a56f5b858ede\",                        [{\"marker\":{\"color\":\"#3274a1\"},\"textinfo\":\"value+percent initial\",\"x\":[2593,1632,773,804],\"y\":[\"login\",\"product_page\",\"product_cart\",\"purchase\"],\"type\":\"funnel\"}],                        {\"template\":{\"data\":{\"barpolar\":[{\"marker\":{\"line\":{\"color\":\"white\",\"width\":0.5},\"pattern\":{\"fillmode\":\"overlay\",\"size\":10,\"solidity\":0.2}},\"type\":\"barpolar\"}],\"bar\":[{\"error_x\":{\"color\":\"rgb(36,36,36)\"},\"error_y\":{\"color\":\"rgb(36,36,36)\"},\"marker\":{\"line\":{\"color\":\"white\",\"width\":0.5},\"pattern\":{\"fillmode\":\"overlay\",\"size\":10,\"solidity\":0.2}},\"type\":\"bar\"}],\"carpet\":[{\"aaxis\":{\"endlinecolor\":\"rgb(36,36,36)\",\"gridcolor\":\"white\",\"linecolor\":\"white\",\"minorgridcolor\":\"white\",\"startlinecolor\":\"rgb(36,36,36)\"},\"baxis\":{\"endlinecolor\":\"rgb(36,36,36)\",\"gridcolor\":\"white\",\"linecolor\":\"white\",\"minorgridcolor\":\"white\",\"startlinecolor\":\"rgb(36,36,36)\"},\"type\":\"carpet\"}],\"choropleth\":[{\"colorbar\":{\"outlinewidth\":1,\"tickcolor\":\"rgb(36,36,36)\",\"ticks\":\"outside\"},\"type\":\"choropleth\"}],\"contourcarpet\":[{\"colorbar\":{\"outlinewidth\":1,\"tickcolor\":\"rgb(36,36,36)\",\"ticks\":\"outside\"},\"type\":\"contourcarpet\"}],\"contour\":[{\"colorbar\":{\"outlinewidth\":1,\"tickcolor\":\"rgb(36,36,36)\",\"ticks\":\"outside\"},\"colorscale\":[[0.0,\"#440154\"],[0.1111111111111111,\"#482878\"],[0.2222222222222222,\"#3e4989\"],[0.3333333333333333,\"#31688e\"],[0.4444444444444444,\"#26828e\"],[0.5555555555555556,\"#1f9e89\"],[0.6666666666666666,\"#35b779\"],[0.7777777777777778,\"#6ece58\"],[0.8888888888888888,\"#b5de2b\"],[1.0,\"#fde725\"]],\"type\":\"contour\"}],\"heatmapgl\":[{\"colorbar\":{\"outlinewidth\":1,\"tickcolor\":\"rgb(36,36,36)\",\"ticks\":\"outside\"},\"colorscale\":[[0.0,\"#440154\"],[0.1111111111111111,\"#482878\"],[0.2222222222222222,\"#3e4989\"],[0.3333333333333333,\"#31688e\"],[0.4444444444444444,\"#26828e\"],[0.5555555555555556,\"#1f9e89\"],[0.6666666666666666,\"#35b779\"],[0.7777777777777778,\"#6ece58\"],[0.8888888888888888,\"#b5de2b\"],[1.0,\"#fde725\"]],\"type\":\"heatmapgl\"}],\"heatmap\":[{\"colorbar\":{\"outlinewidth\":1,\"tickcolor\":\"rgb(36,36,36)\",\"ticks\":\"outside\"},\"colorscale\":[[0.0,\"#440154\"],[0.1111111111111111,\"#482878\"],[0.2222222222222222,\"#3e4989\"],[0.3333333333333333,\"#31688e\"],[0.4444444444444444,\"#26828e\"],[0.5555555555555556,\"#1f9e89\"],[0.6666666666666666,\"#35b779\"],[0.7777777777777778,\"#6ece58\"],[0.8888888888888888,\"#b5de2b\"],[1.0,\"#fde725\"]],\"type\":\"heatmap\"}],\"histogram2dcontour\":[{\"colorbar\":{\"outlinewidth\":1,\"tickcolor\":\"rgb(36,36,36)\",\"ticks\":\"outside\"},\"colorscale\":[[0.0,\"#440154\"],[0.1111111111111111,\"#482878\"],[0.2222222222222222,\"#3e4989\"],[0.3333333333333333,\"#31688e\"],[0.4444444444444444,\"#26828e\"],[0.5555555555555556,\"#1f9e89\"],[0.6666666666666666,\"#35b779\"],[0.7777777777777778,\"#6ece58\"],[0.8888888888888888,\"#b5de2b\"],[1.0,\"#fde725\"]],\"type\":\"histogram2dcontour\"}],\"histogram2d\":[{\"colorbar\":{\"outlinewidth\":1,\"tickcolor\":\"rgb(36,36,36)\",\"ticks\":\"outside\"},\"colorscale\":[[0.0,\"#440154\"],[0.1111111111111111,\"#482878\"],[0.2222222222222222,\"#3e4989\"],[0.3333333333333333,\"#31688e\"],[0.4444444444444444,\"#26828e\"],[0.5555555555555556,\"#1f9e89\"],[0.6666666666666666,\"#35b779\"],[0.7777777777777778,\"#6ece58\"],[0.8888888888888888,\"#b5de2b\"],[1.0,\"#fde725\"]],\"type\":\"histogram2d\"}],\"histogram\":[{\"marker\":{\"line\":{\"color\":\"white\",\"width\":0.6}},\"type\":\"histogram\"}],\"mesh3d\":[{\"colorbar\":{\"outlinewidth\":1,\"tickcolor\":\"rgb(36,36,36)\",\"ticks\":\"outside\"},\"type\":\"mesh3d\"}],\"parcoords\":[{\"line\":{\"colorbar\":{\"outlinewidth\":1,\"tickcolor\":\"rgb(36,36,36)\",\"ticks\":\"outside\"}},\"type\":\"parcoords\"}],\"pie\":[{\"automargin\":true,\"type\":\"pie\"}],\"scatter3d\":[{\"line\":{\"colorbar\":{\"outlinewidth\":1,\"tickcolor\":\"rgb(36,36,36)\",\"ticks\":\"outside\"}},\"marker\":{\"colorbar\":{\"outlinewidth\":1,\"tickcolor\":\"rgb(36,36,36)\",\"ticks\":\"outside\"}},\"type\":\"scatter3d\"}],\"scattercarpet\":[{\"marker\":{\"colorbar\":{\"outlinewidth\":1,\"tickcolor\":\"rgb(36,36,36)\",\"ticks\":\"outside\"}},\"type\":\"scattercarpet\"}],\"scattergeo\":[{\"marker\":{\"colorbar\":{\"outlinewidth\":1,\"tickcolor\":\"rgb(36,36,36)\",\"ticks\":\"outside\"}},\"type\":\"scattergeo\"}],\"scattergl\":[{\"marker\":{\"colorbar\":{\"outlinewidth\":1,\"tickcolor\":\"rgb(36,36,36)\",\"ticks\":\"outside\"}},\"type\":\"scattergl\"}],\"scattermapbox\":[{\"marker\":{\"colorbar\":{\"outlinewidth\":1,\"tickcolor\":\"rgb(36,36,36)\",\"ticks\":\"outside\"}},\"type\":\"scattermapbox\"}],\"scatterpolargl\":[{\"marker\":{\"colorbar\":{\"outlinewidth\":1,\"tickcolor\":\"rgb(36,36,36)\",\"ticks\":\"outside\"}},\"type\":\"scatterpolargl\"}],\"scatterpolar\":[{\"marker\":{\"colorbar\":{\"outlinewidth\":1,\"tickcolor\":\"rgb(36,36,36)\",\"ticks\":\"outside\"}},\"type\":\"scatterpolar\"}],\"scatter\":[{\"marker\":{\"colorbar\":{\"outlinewidth\":1,\"tickcolor\":\"rgb(36,36,36)\",\"ticks\":\"outside\"}},\"type\":\"scatter\"}],\"scatterternary\":[{\"marker\":{\"colorbar\":{\"outlinewidth\":1,\"tickcolor\":\"rgb(36,36,36)\",\"ticks\":\"outside\"}},\"type\":\"scatterternary\"}],\"surface\":[{\"colorbar\":{\"outlinewidth\":1,\"tickcolor\":\"rgb(36,36,36)\",\"ticks\":\"outside\"},\"colorscale\":[[0.0,\"#440154\"],[0.1111111111111111,\"#482878\"],[0.2222222222222222,\"#3e4989\"],[0.3333333333333333,\"#31688e\"],[0.4444444444444444,\"#26828e\"],[0.5555555555555556,\"#1f9e89\"],[0.6666666666666666,\"#35b779\"],[0.7777777777777778,\"#6ece58\"],[0.8888888888888888,\"#b5de2b\"],[1.0,\"#fde725\"]],\"type\":\"surface\"}],\"table\":[{\"cells\":{\"fill\":{\"color\":\"rgb(237,237,237)\"},\"line\":{\"color\":\"white\"}},\"header\":{\"fill\":{\"color\":\"rgb(217,217,217)\"},\"line\":{\"color\":\"white\"}},\"type\":\"table\"}]},\"layout\":{\"annotationdefaults\":{\"arrowhead\":0,\"arrowwidth\":1},\"autotypenumbers\":\"strict\",\"coloraxis\":{\"colorbar\":{\"outlinewidth\":1,\"tickcolor\":\"rgb(36,36,36)\",\"ticks\":\"outside\"}},\"colorscale\":{\"diverging\":[[0.0,\"rgb(103,0,31)\"],[0.1,\"rgb(178,24,43)\"],[0.2,\"rgb(214,96,77)\"],[0.3,\"rgb(244,165,130)\"],[0.4,\"rgb(253,219,199)\"],[0.5,\"rgb(247,247,247)\"],[0.6,\"rgb(209,229,240)\"],[0.7,\"rgb(146,197,222)\"],[0.8,\"rgb(67,147,195)\"],[0.9,\"rgb(33,102,172)\"],[1.0,\"rgb(5,48,97)\"]],\"sequential\":[[0.0,\"#440154\"],[0.1111111111111111,\"#482878\"],[0.2222222222222222,\"#3e4989\"],[0.3333333333333333,\"#31688e\"],[0.4444444444444444,\"#26828e\"],[0.5555555555555556,\"#1f9e89\"],[0.6666666666666666,\"#35b779\"],[0.7777777777777778,\"#6ece58\"],[0.8888888888888888,\"#b5de2b\"],[1.0,\"#fde725\"]],\"sequentialminus\":[[0.0,\"#440154\"],[0.1111111111111111,\"#482878\"],[0.2222222222222222,\"#3e4989\"],[0.3333333333333333,\"#31688e\"],[0.4444444444444444,\"#26828e\"],[0.5555555555555556,\"#1f9e89\"],[0.6666666666666666,\"#35b779\"],[0.7777777777777778,\"#6ece58\"],[0.8888888888888888,\"#b5de2b\"],[1.0,\"#fde725\"]]},\"colorway\":[\"#1F77B4\",\"#FF7F0E\",\"#2CA02C\",\"#D62728\",\"#9467BD\",\"#8C564B\",\"#E377C2\",\"#7F7F7F\",\"#BCBD22\",\"#17BECF\"],\"font\":{\"color\":\"rgb(36,36,36)\"},\"geo\":{\"bgcolor\":\"white\",\"lakecolor\":\"white\",\"landcolor\":\"white\",\"showlakes\":true,\"showland\":true,\"subunitcolor\":\"white\"},\"hoverlabel\":{\"align\":\"left\"},\"hovermode\":\"closest\",\"mapbox\":{\"style\":\"light\"},\"paper_bgcolor\":\"white\",\"plot_bgcolor\":\"white\",\"polar\":{\"angularaxis\":{\"gridcolor\":\"rgb(232,232,232)\",\"linecolor\":\"rgb(36,36,36)\",\"showgrid\":false,\"showline\":true,\"ticks\":\"outside\"},\"bgcolor\":\"white\",\"radialaxis\":{\"gridcolor\":\"rgb(232,232,232)\",\"linecolor\":\"rgb(36,36,36)\",\"showgrid\":false,\"showline\":true,\"ticks\":\"outside\"}},\"scene\":{\"xaxis\":{\"backgroundcolor\":\"white\",\"gridcolor\":\"rgb(232,232,232)\",\"gridwidth\":2,\"linecolor\":\"rgb(36,36,36)\",\"showbackground\":true,\"showgrid\":false,\"showline\":true,\"ticks\":\"outside\",\"zeroline\":false,\"zerolinecolor\":\"rgb(36,36,36)\"},\"yaxis\":{\"backgroundcolor\":\"white\",\"gridcolor\":\"rgb(232,232,232)\",\"gridwidth\":2,\"linecolor\":\"rgb(36,36,36)\",\"showbackground\":true,\"showgrid\":false,\"showline\":true,\"ticks\":\"outside\",\"zeroline\":false,\"zerolinecolor\":\"rgb(36,36,36)\"},\"zaxis\":{\"backgroundcolor\":\"white\",\"gridcolor\":\"rgb(232,232,232)\",\"gridwidth\":2,\"linecolor\":\"rgb(36,36,36)\",\"showbackground\":true,\"showgrid\":false,\"showline\":true,\"ticks\":\"outside\",\"zeroline\":false,\"zerolinecolor\":\"rgb(36,36,36)\"}},\"shapedefaults\":{\"fillcolor\":\"black\",\"line\":{\"width\":0},\"opacity\":0.3},\"ternary\":{\"aaxis\":{\"gridcolor\":\"rgb(232,232,232)\",\"linecolor\":\"rgb(36,36,36)\",\"showgrid\":false,\"showline\":true,\"ticks\":\"outside\"},\"baxis\":{\"gridcolor\":\"rgb(232,232,232)\",\"linecolor\":\"rgb(36,36,36)\",\"showgrid\":false,\"showline\":true,\"ticks\":\"outside\"},\"bgcolor\":\"white\",\"caxis\":{\"gridcolor\":\"rgb(232,232,232)\",\"linecolor\":\"rgb(36,36,36)\",\"showgrid\":false,\"showline\":true,\"ticks\":\"outside\"}},\"title\":{\"x\":0.05},\"xaxis\":{\"automargin\":true,\"gridcolor\":\"rgb(232,232,232)\",\"linecolor\":\"rgb(36,36,36)\",\"showgrid\":false,\"showline\":true,\"ticks\":\"outside\",\"title\":{\"standoff\":15},\"zeroline\":false,\"zerolinecolor\":\"rgb(36,36,36)\"},\"yaxis\":{\"automargin\":true,\"gridcolor\":\"rgb(232,232,232)\",\"linecolor\":\"rgb(36,36,36)\",\"showgrid\":false,\"showline\":true,\"ticks\":\"outside\",\"title\":{\"standoff\":15},\"zeroline\":false,\"zerolinecolor\":\"rgb(36,36,36)\"}}},\"title\":{\"text\":\"\\u0412\\u043e\\u0440\\u043e\\u043d\\u043a\\u0430 \\u043e\\u0431\\u0449\\u0430\\u044f\"},\"width\":900,\"height\":500},                        {\"responsive\": true}                    ).then(function(){\n",
       "                            \n",
       "var gd = document.getElementById('4cb1ffcc-411d-437c-9922-a56f5b858ede');\n",
       "var x = new MutationObserver(function (mutations, observer) {{\n",
       "        var display = window.getComputedStyle(gd).display;\n",
       "        if (!display || display === 'none') {{\n",
       "            console.log([gd, 'removed!']);\n",
       "            Plotly.purge(gd);\n",
       "            observer.disconnect();\n",
       "        }}\n",
       "}});\n",
       "\n",
       "// Listen for the removal of the full notebook cells\n",
       "var notebookContainer = gd.closest('#notebook-container');\n",
       "if (notebookContainer) {{\n",
       "    x.observe(notebookContainer, {childList: true});\n",
       "}}\n",
       "\n",
       "// Listen for the clearing of the current output cell\n",
       "var outputEl = gd.closest('.output');\n",
       "if (outputEl) {{\n",
       "    x.observe(outputEl, {childList: true});\n",
       "}}\n",
       "\n",
       "                        })                };                });            </script>        </div>"
      ]
     },
     "metadata": {},
     "output_type": "display_data"
    }
   ],
   "source": [
    "#построим график\n",
    "fig = go.Figure()\n",
    "fig.add_trace(go.Funnel(\n",
    "    \n",
    "    y = data_user_eu_trace['event_name'],\n",
    "    x = data_user_eu_trace['user_id'],\n",
    "    marker = {\"color\": \"#3274a1\"},\n",
    "    textinfo = \"value+percent initial\"))\n",
    "fig.update_layout(\n",
    "    template = \"simple_white\",\n",
    "    title={'text': \"Воронка общая\"},\n",
    "    width=900,\n",
    "    height=500\n",
    ")\n",
    "\n",
    "fig.show()"
   ]
  },
  {
   "cell_type": "markdown",
   "id": "ddb2bb9c",
   "metadata": {},
   "source": [
    "Исходя из построенной воронки можем сделать выводы о тестовой группе:\n",
    "\n",
    "1) 31% пользователей доходит до стадии *покупка*;\\\n",
    "2) Некоторые пользователи доходят до стадии *покупка* **обходя** продуктовую корзину;\\\n",
    "3) 63% пользователей доходят до стадии страницы покупки."
   ]
  },
  {
   "cell_type": "markdown",
   "id": "5163fe02",
   "metadata": {},
   "source": [
    "Рассмотрим воронку по каждой из группы.\\\n",
    "Для группы А"
   ]
  },
  {
   "cell_type": "code",
   "execution_count": 87,
   "id": "8bc9cb66",
   "metadata": {},
   "outputs": [
    {
     "data": {
      "application/vnd.plotly.v1+json": {
       "config": {
        "plotlyServerURL": "https://plot.ly"
       },
       "data": [
        {
         "marker": {
          "color": "#3274a1"
         },
         "textinfo": "value+percent initial",
         "type": "funnel",
         "x": [
          1939,
          1265,
          589,
          613
         ],
         "y": [
          "login",
          "product_page",
          "product_cart",
          "purchase"
         ]
        }
       ],
       "layout": {
        "height": 500,
        "template": {
         "data": {
          "bar": [
           {
            "error_x": {
             "color": "rgb(36,36,36)"
            },
            "error_y": {
             "color": "rgb(36,36,36)"
            },
            "marker": {
             "line": {
              "color": "white",
              "width": 0.5
             },
             "pattern": {
              "fillmode": "overlay",
              "size": 10,
              "solidity": 0.2
             }
            },
            "type": "bar"
           }
          ],
          "barpolar": [
           {
            "marker": {
             "line": {
              "color": "white",
              "width": 0.5
             },
             "pattern": {
              "fillmode": "overlay",
              "size": 10,
              "solidity": 0.2
             }
            },
            "type": "barpolar"
           }
          ],
          "carpet": [
           {
            "aaxis": {
             "endlinecolor": "rgb(36,36,36)",
             "gridcolor": "white",
             "linecolor": "white",
             "minorgridcolor": "white",
             "startlinecolor": "rgb(36,36,36)"
            },
            "baxis": {
             "endlinecolor": "rgb(36,36,36)",
             "gridcolor": "white",
             "linecolor": "white",
             "minorgridcolor": "white",
             "startlinecolor": "rgb(36,36,36)"
            },
            "type": "carpet"
           }
          ],
          "choropleth": [
           {
            "colorbar": {
             "outlinewidth": 1,
             "tickcolor": "rgb(36,36,36)",
             "ticks": "outside"
            },
            "type": "choropleth"
           }
          ],
          "contour": [
           {
            "colorbar": {
             "outlinewidth": 1,
             "tickcolor": "rgb(36,36,36)",
             "ticks": "outside"
            },
            "colorscale": [
             [
              0,
              "#440154"
             ],
             [
              0.1111111111111111,
              "#482878"
             ],
             [
              0.2222222222222222,
              "#3e4989"
             ],
             [
              0.3333333333333333,
              "#31688e"
             ],
             [
              0.4444444444444444,
              "#26828e"
             ],
             [
              0.5555555555555556,
              "#1f9e89"
             ],
             [
              0.6666666666666666,
              "#35b779"
             ],
             [
              0.7777777777777778,
              "#6ece58"
             ],
             [
              0.8888888888888888,
              "#b5de2b"
             ],
             [
              1,
              "#fde725"
             ]
            ],
            "type": "contour"
           }
          ],
          "contourcarpet": [
           {
            "colorbar": {
             "outlinewidth": 1,
             "tickcolor": "rgb(36,36,36)",
             "ticks": "outside"
            },
            "type": "contourcarpet"
           }
          ],
          "heatmap": [
           {
            "colorbar": {
             "outlinewidth": 1,
             "tickcolor": "rgb(36,36,36)",
             "ticks": "outside"
            },
            "colorscale": [
             [
              0,
              "#440154"
             ],
             [
              0.1111111111111111,
              "#482878"
             ],
             [
              0.2222222222222222,
              "#3e4989"
             ],
             [
              0.3333333333333333,
              "#31688e"
             ],
             [
              0.4444444444444444,
              "#26828e"
             ],
             [
              0.5555555555555556,
              "#1f9e89"
             ],
             [
              0.6666666666666666,
              "#35b779"
             ],
             [
              0.7777777777777778,
              "#6ece58"
             ],
             [
              0.8888888888888888,
              "#b5de2b"
             ],
             [
              1,
              "#fde725"
             ]
            ],
            "type": "heatmap"
           }
          ],
          "heatmapgl": [
           {
            "colorbar": {
             "outlinewidth": 1,
             "tickcolor": "rgb(36,36,36)",
             "ticks": "outside"
            },
            "colorscale": [
             [
              0,
              "#440154"
             ],
             [
              0.1111111111111111,
              "#482878"
             ],
             [
              0.2222222222222222,
              "#3e4989"
             ],
             [
              0.3333333333333333,
              "#31688e"
             ],
             [
              0.4444444444444444,
              "#26828e"
             ],
             [
              0.5555555555555556,
              "#1f9e89"
             ],
             [
              0.6666666666666666,
              "#35b779"
             ],
             [
              0.7777777777777778,
              "#6ece58"
             ],
             [
              0.8888888888888888,
              "#b5de2b"
             ],
             [
              1,
              "#fde725"
             ]
            ],
            "type": "heatmapgl"
           }
          ],
          "histogram": [
           {
            "marker": {
             "line": {
              "color": "white",
              "width": 0.6
             }
            },
            "type": "histogram"
           }
          ],
          "histogram2d": [
           {
            "colorbar": {
             "outlinewidth": 1,
             "tickcolor": "rgb(36,36,36)",
             "ticks": "outside"
            },
            "colorscale": [
             [
              0,
              "#440154"
             ],
             [
              0.1111111111111111,
              "#482878"
             ],
             [
              0.2222222222222222,
              "#3e4989"
             ],
             [
              0.3333333333333333,
              "#31688e"
             ],
             [
              0.4444444444444444,
              "#26828e"
             ],
             [
              0.5555555555555556,
              "#1f9e89"
             ],
             [
              0.6666666666666666,
              "#35b779"
             ],
             [
              0.7777777777777778,
              "#6ece58"
             ],
             [
              0.8888888888888888,
              "#b5de2b"
             ],
             [
              1,
              "#fde725"
             ]
            ],
            "type": "histogram2d"
           }
          ],
          "histogram2dcontour": [
           {
            "colorbar": {
             "outlinewidth": 1,
             "tickcolor": "rgb(36,36,36)",
             "ticks": "outside"
            },
            "colorscale": [
             [
              0,
              "#440154"
             ],
             [
              0.1111111111111111,
              "#482878"
             ],
             [
              0.2222222222222222,
              "#3e4989"
             ],
             [
              0.3333333333333333,
              "#31688e"
             ],
             [
              0.4444444444444444,
              "#26828e"
             ],
             [
              0.5555555555555556,
              "#1f9e89"
             ],
             [
              0.6666666666666666,
              "#35b779"
             ],
             [
              0.7777777777777778,
              "#6ece58"
             ],
             [
              0.8888888888888888,
              "#b5de2b"
             ],
             [
              1,
              "#fde725"
             ]
            ],
            "type": "histogram2dcontour"
           }
          ],
          "mesh3d": [
           {
            "colorbar": {
             "outlinewidth": 1,
             "tickcolor": "rgb(36,36,36)",
             "ticks": "outside"
            },
            "type": "mesh3d"
           }
          ],
          "parcoords": [
           {
            "line": {
             "colorbar": {
              "outlinewidth": 1,
              "tickcolor": "rgb(36,36,36)",
              "ticks": "outside"
             }
            },
            "type": "parcoords"
           }
          ],
          "pie": [
           {
            "automargin": true,
            "type": "pie"
           }
          ],
          "scatter": [
           {
            "marker": {
             "colorbar": {
              "outlinewidth": 1,
              "tickcolor": "rgb(36,36,36)",
              "ticks": "outside"
             }
            },
            "type": "scatter"
           }
          ],
          "scatter3d": [
           {
            "line": {
             "colorbar": {
              "outlinewidth": 1,
              "tickcolor": "rgb(36,36,36)",
              "ticks": "outside"
             }
            },
            "marker": {
             "colorbar": {
              "outlinewidth": 1,
              "tickcolor": "rgb(36,36,36)",
              "ticks": "outside"
             }
            },
            "type": "scatter3d"
           }
          ],
          "scattercarpet": [
           {
            "marker": {
             "colorbar": {
              "outlinewidth": 1,
              "tickcolor": "rgb(36,36,36)",
              "ticks": "outside"
             }
            },
            "type": "scattercarpet"
           }
          ],
          "scattergeo": [
           {
            "marker": {
             "colorbar": {
              "outlinewidth": 1,
              "tickcolor": "rgb(36,36,36)",
              "ticks": "outside"
             }
            },
            "type": "scattergeo"
           }
          ],
          "scattergl": [
           {
            "marker": {
             "colorbar": {
              "outlinewidth": 1,
              "tickcolor": "rgb(36,36,36)",
              "ticks": "outside"
             }
            },
            "type": "scattergl"
           }
          ],
          "scattermapbox": [
           {
            "marker": {
             "colorbar": {
              "outlinewidth": 1,
              "tickcolor": "rgb(36,36,36)",
              "ticks": "outside"
             }
            },
            "type": "scattermapbox"
           }
          ],
          "scatterpolar": [
           {
            "marker": {
             "colorbar": {
              "outlinewidth": 1,
              "tickcolor": "rgb(36,36,36)",
              "ticks": "outside"
             }
            },
            "type": "scatterpolar"
           }
          ],
          "scatterpolargl": [
           {
            "marker": {
             "colorbar": {
              "outlinewidth": 1,
              "tickcolor": "rgb(36,36,36)",
              "ticks": "outside"
             }
            },
            "type": "scatterpolargl"
           }
          ],
          "scatterternary": [
           {
            "marker": {
             "colorbar": {
              "outlinewidth": 1,
              "tickcolor": "rgb(36,36,36)",
              "ticks": "outside"
             }
            },
            "type": "scatterternary"
           }
          ],
          "surface": [
           {
            "colorbar": {
             "outlinewidth": 1,
             "tickcolor": "rgb(36,36,36)",
             "ticks": "outside"
            },
            "colorscale": [
             [
              0,
              "#440154"
             ],
             [
              0.1111111111111111,
              "#482878"
             ],
             [
              0.2222222222222222,
              "#3e4989"
             ],
             [
              0.3333333333333333,
              "#31688e"
             ],
             [
              0.4444444444444444,
              "#26828e"
             ],
             [
              0.5555555555555556,
              "#1f9e89"
             ],
             [
              0.6666666666666666,
              "#35b779"
             ],
             [
              0.7777777777777778,
              "#6ece58"
             ],
             [
              0.8888888888888888,
              "#b5de2b"
             ],
             [
              1,
              "#fde725"
             ]
            ],
            "type": "surface"
           }
          ],
          "table": [
           {
            "cells": {
             "fill": {
              "color": "rgb(237,237,237)"
             },
             "line": {
              "color": "white"
             }
            },
            "header": {
             "fill": {
              "color": "rgb(217,217,217)"
             },
             "line": {
              "color": "white"
             }
            },
            "type": "table"
           }
          ]
         },
         "layout": {
          "annotationdefaults": {
           "arrowhead": 0,
           "arrowwidth": 1
          },
          "autotypenumbers": "strict",
          "coloraxis": {
           "colorbar": {
            "outlinewidth": 1,
            "tickcolor": "rgb(36,36,36)",
            "ticks": "outside"
           }
          },
          "colorscale": {
           "diverging": [
            [
             0,
             "rgb(103,0,31)"
            ],
            [
             0.1,
             "rgb(178,24,43)"
            ],
            [
             0.2,
             "rgb(214,96,77)"
            ],
            [
             0.3,
             "rgb(244,165,130)"
            ],
            [
             0.4,
             "rgb(253,219,199)"
            ],
            [
             0.5,
             "rgb(247,247,247)"
            ],
            [
             0.6,
             "rgb(209,229,240)"
            ],
            [
             0.7,
             "rgb(146,197,222)"
            ],
            [
             0.8,
             "rgb(67,147,195)"
            ],
            [
             0.9,
             "rgb(33,102,172)"
            ],
            [
             1,
             "rgb(5,48,97)"
            ]
           ],
           "sequential": [
            [
             0,
             "#440154"
            ],
            [
             0.1111111111111111,
             "#482878"
            ],
            [
             0.2222222222222222,
             "#3e4989"
            ],
            [
             0.3333333333333333,
             "#31688e"
            ],
            [
             0.4444444444444444,
             "#26828e"
            ],
            [
             0.5555555555555556,
             "#1f9e89"
            ],
            [
             0.6666666666666666,
             "#35b779"
            ],
            [
             0.7777777777777778,
             "#6ece58"
            ],
            [
             0.8888888888888888,
             "#b5de2b"
            ],
            [
             1,
             "#fde725"
            ]
           ],
           "sequentialminus": [
            [
             0,
             "#440154"
            ],
            [
             0.1111111111111111,
             "#482878"
            ],
            [
             0.2222222222222222,
             "#3e4989"
            ],
            [
             0.3333333333333333,
             "#31688e"
            ],
            [
             0.4444444444444444,
             "#26828e"
            ],
            [
             0.5555555555555556,
             "#1f9e89"
            ],
            [
             0.6666666666666666,
             "#35b779"
            ],
            [
             0.7777777777777778,
             "#6ece58"
            ],
            [
             0.8888888888888888,
             "#b5de2b"
            ],
            [
             1,
             "#fde725"
            ]
           ]
          },
          "colorway": [
           "#1F77B4",
           "#FF7F0E",
           "#2CA02C",
           "#D62728",
           "#9467BD",
           "#8C564B",
           "#E377C2",
           "#7F7F7F",
           "#BCBD22",
           "#17BECF"
          ],
          "font": {
           "color": "rgb(36,36,36)"
          },
          "geo": {
           "bgcolor": "white",
           "lakecolor": "white",
           "landcolor": "white",
           "showlakes": true,
           "showland": true,
           "subunitcolor": "white"
          },
          "hoverlabel": {
           "align": "left"
          },
          "hovermode": "closest",
          "mapbox": {
           "style": "light"
          },
          "paper_bgcolor": "white",
          "plot_bgcolor": "white",
          "polar": {
           "angularaxis": {
            "gridcolor": "rgb(232,232,232)",
            "linecolor": "rgb(36,36,36)",
            "showgrid": false,
            "showline": true,
            "ticks": "outside"
           },
           "bgcolor": "white",
           "radialaxis": {
            "gridcolor": "rgb(232,232,232)",
            "linecolor": "rgb(36,36,36)",
            "showgrid": false,
            "showline": true,
            "ticks": "outside"
           }
          },
          "scene": {
           "xaxis": {
            "backgroundcolor": "white",
            "gridcolor": "rgb(232,232,232)",
            "gridwidth": 2,
            "linecolor": "rgb(36,36,36)",
            "showbackground": true,
            "showgrid": false,
            "showline": true,
            "ticks": "outside",
            "zeroline": false,
            "zerolinecolor": "rgb(36,36,36)"
           },
           "yaxis": {
            "backgroundcolor": "white",
            "gridcolor": "rgb(232,232,232)",
            "gridwidth": 2,
            "linecolor": "rgb(36,36,36)",
            "showbackground": true,
            "showgrid": false,
            "showline": true,
            "ticks": "outside",
            "zeroline": false,
            "zerolinecolor": "rgb(36,36,36)"
           },
           "zaxis": {
            "backgroundcolor": "white",
            "gridcolor": "rgb(232,232,232)",
            "gridwidth": 2,
            "linecolor": "rgb(36,36,36)",
            "showbackground": true,
            "showgrid": false,
            "showline": true,
            "ticks": "outside",
            "zeroline": false,
            "zerolinecolor": "rgb(36,36,36)"
           }
          },
          "shapedefaults": {
           "fillcolor": "black",
           "line": {
            "width": 0
           },
           "opacity": 0.3
          },
          "ternary": {
           "aaxis": {
            "gridcolor": "rgb(232,232,232)",
            "linecolor": "rgb(36,36,36)",
            "showgrid": false,
            "showline": true,
            "ticks": "outside"
           },
           "baxis": {
            "gridcolor": "rgb(232,232,232)",
            "linecolor": "rgb(36,36,36)",
            "showgrid": false,
            "showline": true,
            "ticks": "outside"
           },
           "bgcolor": "white",
           "caxis": {
            "gridcolor": "rgb(232,232,232)",
            "linecolor": "rgb(36,36,36)",
            "showgrid": false,
            "showline": true,
            "ticks": "outside"
           }
          },
          "title": {
           "x": 0.05
          },
          "xaxis": {
           "automargin": true,
           "gridcolor": "rgb(232,232,232)",
           "linecolor": "rgb(36,36,36)",
           "showgrid": false,
           "showline": true,
           "ticks": "outside",
           "title": {
            "standoff": 15
           },
           "zeroline": false,
           "zerolinecolor": "rgb(36,36,36)"
          },
          "yaxis": {
           "automargin": true,
           "gridcolor": "rgb(232,232,232)",
           "linecolor": "rgb(36,36,36)",
           "showgrid": false,
           "showline": true,
           "ticks": "outside",
           "title": {
            "standoff": 15
           },
           "zeroline": false,
           "zerolinecolor": "rgb(36,36,36)"
          }
         }
        },
        "title": {
         "text": "Воронка группы А"
        },
        "width": 900
       }
      },
      "text/html": [
       "<div>                            <div id=\"c1bad2d2-b30e-435b-8da9-7124e9a96119\" class=\"plotly-graph-div\" style=\"height:500px; width:900px;\"></div>            <script type=\"text/javascript\">                require([\"plotly\"], function(Plotly) {                    window.PLOTLYENV=window.PLOTLYENV || {};                                    if (document.getElementById(\"c1bad2d2-b30e-435b-8da9-7124e9a96119\")) {                    Plotly.newPlot(                        \"c1bad2d2-b30e-435b-8da9-7124e9a96119\",                        [{\"marker\":{\"color\":\"#3274a1\"},\"textinfo\":\"value+percent initial\",\"x\":[1939,1265,589,613],\"y\":[\"login\",\"product_page\",\"product_cart\",\"purchase\"],\"type\":\"funnel\"}],                        {\"template\":{\"data\":{\"barpolar\":[{\"marker\":{\"line\":{\"color\":\"white\",\"width\":0.5},\"pattern\":{\"fillmode\":\"overlay\",\"size\":10,\"solidity\":0.2}},\"type\":\"barpolar\"}],\"bar\":[{\"error_x\":{\"color\":\"rgb(36,36,36)\"},\"error_y\":{\"color\":\"rgb(36,36,36)\"},\"marker\":{\"line\":{\"color\":\"white\",\"width\":0.5},\"pattern\":{\"fillmode\":\"overlay\",\"size\":10,\"solidity\":0.2}},\"type\":\"bar\"}],\"carpet\":[{\"aaxis\":{\"endlinecolor\":\"rgb(36,36,36)\",\"gridcolor\":\"white\",\"linecolor\":\"white\",\"minorgridcolor\":\"white\",\"startlinecolor\":\"rgb(36,36,36)\"},\"baxis\":{\"endlinecolor\":\"rgb(36,36,36)\",\"gridcolor\":\"white\",\"linecolor\":\"white\",\"minorgridcolor\":\"white\",\"startlinecolor\":\"rgb(36,36,36)\"},\"type\":\"carpet\"}],\"choropleth\":[{\"colorbar\":{\"outlinewidth\":1,\"tickcolor\":\"rgb(36,36,36)\",\"ticks\":\"outside\"},\"type\":\"choropleth\"}],\"contourcarpet\":[{\"colorbar\":{\"outlinewidth\":1,\"tickcolor\":\"rgb(36,36,36)\",\"ticks\":\"outside\"},\"type\":\"contourcarpet\"}],\"contour\":[{\"colorbar\":{\"outlinewidth\":1,\"tickcolor\":\"rgb(36,36,36)\",\"ticks\":\"outside\"},\"colorscale\":[[0.0,\"#440154\"],[0.1111111111111111,\"#482878\"],[0.2222222222222222,\"#3e4989\"],[0.3333333333333333,\"#31688e\"],[0.4444444444444444,\"#26828e\"],[0.5555555555555556,\"#1f9e89\"],[0.6666666666666666,\"#35b779\"],[0.7777777777777778,\"#6ece58\"],[0.8888888888888888,\"#b5de2b\"],[1.0,\"#fde725\"]],\"type\":\"contour\"}],\"heatmapgl\":[{\"colorbar\":{\"outlinewidth\":1,\"tickcolor\":\"rgb(36,36,36)\",\"ticks\":\"outside\"},\"colorscale\":[[0.0,\"#440154\"],[0.1111111111111111,\"#482878\"],[0.2222222222222222,\"#3e4989\"],[0.3333333333333333,\"#31688e\"],[0.4444444444444444,\"#26828e\"],[0.5555555555555556,\"#1f9e89\"],[0.6666666666666666,\"#35b779\"],[0.7777777777777778,\"#6ece58\"],[0.8888888888888888,\"#b5de2b\"],[1.0,\"#fde725\"]],\"type\":\"heatmapgl\"}],\"heatmap\":[{\"colorbar\":{\"outlinewidth\":1,\"tickcolor\":\"rgb(36,36,36)\",\"ticks\":\"outside\"},\"colorscale\":[[0.0,\"#440154\"],[0.1111111111111111,\"#482878\"],[0.2222222222222222,\"#3e4989\"],[0.3333333333333333,\"#31688e\"],[0.4444444444444444,\"#26828e\"],[0.5555555555555556,\"#1f9e89\"],[0.6666666666666666,\"#35b779\"],[0.7777777777777778,\"#6ece58\"],[0.8888888888888888,\"#b5de2b\"],[1.0,\"#fde725\"]],\"type\":\"heatmap\"}],\"histogram2dcontour\":[{\"colorbar\":{\"outlinewidth\":1,\"tickcolor\":\"rgb(36,36,36)\",\"ticks\":\"outside\"},\"colorscale\":[[0.0,\"#440154\"],[0.1111111111111111,\"#482878\"],[0.2222222222222222,\"#3e4989\"],[0.3333333333333333,\"#31688e\"],[0.4444444444444444,\"#26828e\"],[0.5555555555555556,\"#1f9e89\"],[0.6666666666666666,\"#35b779\"],[0.7777777777777778,\"#6ece58\"],[0.8888888888888888,\"#b5de2b\"],[1.0,\"#fde725\"]],\"type\":\"histogram2dcontour\"}],\"histogram2d\":[{\"colorbar\":{\"outlinewidth\":1,\"tickcolor\":\"rgb(36,36,36)\",\"ticks\":\"outside\"},\"colorscale\":[[0.0,\"#440154\"],[0.1111111111111111,\"#482878\"],[0.2222222222222222,\"#3e4989\"],[0.3333333333333333,\"#31688e\"],[0.4444444444444444,\"#26828e\"],[0.5555555555555556,\"#1f9e89\"],[0.6666666666666666,\"#35b779\"],[0.7777777777777778,\"#6ece58\"],[0.8888888888888888,\"#b5de2b\"],[1.0,\"#fde725\"]],\"type\":\"histogram2d\"}],\"histogram\":[{\"marker\":{\"line\":{\"color\":\"white\",\"width\":0.6}},\"type\":\"histogram\"}],\"mesh3d\":[{\"colorbar\":{\"outlinewidth\":1,\"tickcolor\":\"rgb(36,36,36)\",\"ticks\":\"outside\"},\"type\":\"mesh3d\"}],\"parcoords\":[{\"line\":{\"colorbar\":{\"outlinewidth\":1,\"tickcolor\":\"rgb(36,36,36)\",\"ticks\":\"outside\"}},\"type\":\"parcoords\"}],\"pie\":[{\"automargin\":true,\"type\":\"pie\"}],\"scatter3d\":[{\"line\":{\"colorbar\":{\"outlinewidth\":1,\"tickcolor\":\"rgb(36,36,36)\",\"ticks\":\"outside\"}},\"marker\":{\"colorbar\":{\"outlinewidth\":1,\"tickcolor\":\"rgb(36,36,36)\",\"ticks\":\"outside\"}},\"type\":\"scatter3d\"}],\"scattercarpet\":[{\"marker\":{\"colorbar\":{\"outlinewidth\":1,\"tickcolor\":\"rgb(36,36,36)\",\"ticks\":\"outside\"}},\"type\":\"scattercarpet\"}],\"scattergeo\":[{\"marker\":{\"colorbar\":{\"outlinewidth\":1,\"tickcolor\":\"rgb(36,36,36)\",\"ticks\":\"outside\"}},\"type\":\"scattergeo\"}],\"scattergl\":[{\"marker\":{\"colorbar\":{\"outlinewidth\":1,\"tickcolor\":\"rgb(36,36,36)\",\"ticks\":\"outside\"}},\"type\":\"scattergl\"}],\"scattermapbox\":[{\"marker\":{\"colorbar\":{\"outlinewidth\":1,\"tickcolor\":\"rgb(36,36,36)\",\"ticks\":\"outside\"}},\"type\":\"scattermapbox\"}],\"scatterpolargl\":[{\"marker\":{\"colorbar\":{\"outlinewidth\":1,\"tickcolor\":\"rgb(36,36,36)\",\"ticks\":\"outside\"}},\"type\":\"scatterpolargl\"}],\"scatterpolar\":[{\"marker\":{\"colorbar\":{\"outlinewidth\":1,\"tickcolor\":\"rgb(36,36,36)\",\"ticks\":\"outside\"}},\"type\":\"scatterpolar\"}],\"scatter\":[{\"marker\":{\"colorbar\":{\"outlinewidth\":1,\"tickcolor\":\"rgb(36,36,36)\",\"ticks\":\"outside\"}},\"type\":\"scatter\"}],\"scatterternary\":[{\"marker\":{\"colorbar\":{\"outlinewidth\":1,\"tickcolor\":\"rgb(36,36,36)\",\"ticks\":\"outside\"}},\"type\":\"scatterternary\"}],\"surface\":[{\"colorbar\":{\"outlinewidth\":1,\"tickcolor\":\"rgb(36,36,36)\",\"ticks\":\"outside\"},\"colorscale\":[[0.0,\"#440154\"],[0.1111111111111111,\"#482878\"],[0.2222222222222222,\"#3e4989\"],[0.3333333333333333,\"#31688e\"],[0.4444444444444444,\"#26828e\"],[0.5555555555555556,\"#1f9e89\"],[0.6666666666666666,\"#35b779\"],[0.7777777777777778,\"#6ece58\"],[0.8888888888888888,\"#b5de2b\"],[1.0,\"#fde725\"]],\"type\":\"surface\"}],\"table\":[{\"cells\":{\"fill\":{\"color\":\"rgb(237,237,237)\"},\"line\":{\"color\":\"white\"}},\"header\":{\"fill\":{\"color\":\"rgb(217,217,217)\"},\"line\":{\"color\":\"white\"}},\"type\":\"table\"}]},\"layout\":{\"annotationdefaults\":{\"arrowhead\":0,\"arrowwidth\":1},\"autotypenumbers\":\"strict\",\"coloraxis\":{\"colorbar\":{\"outlinewidth\":1,\"tickcolor\":\"rgb(36,36,36)\",\"ticks\":\"outside\"}},\"colorscale\":{\"diverging\":[[0.0,\"rgb(103,0,31)\"],[0.1,\"rgb(178,24,43)\"],[0.2,\"rgb(214,96,77)\"],[0.3,\"rgb(244,165,130)\"],[0.4,\"rgb(253,219,199)\"],[0.5,\"rgb(247,247,247)\"],[0.6,\"rgb(209,229,240)\"],[0.7,\"rgb(146,197,222)\"],[0.8,\"rgb(67,147,195)\"],[0.9,\"rgb(33,102,172)\"],[1.0,\"rgb(5,48,97)\"]],\"sequential\":[[0.0,\"#440154\"],[0.1111111111111111,\"#482878\"],[0.2222222222222222,\"#3e4989\"],[0.3333333333333333,\"#31688e\"],[0.4444444444444444,\"#26828e\"],[0.5555555555555556,\"#1f9e89\"],[0.6666666666666666,\"#35b779\"],[0.7777777777777778,\"#6ece58\"],[0.8888888888888888,\"#b5de2b\"],[1.0,\"#fde725\"]],\"sequentialminus\":[[0.0,\"#440154\"],[0.1111111111111111,\"#482878\"],[0.2222222222222222,\"#3e4989\"],[0.3333333333333333,\"#31688e\"],[0.4444444444444444,\"#26828e\"],[0.5555555555555556,\"#1f9e89\"],[0.6666666666666666,\"#35b779\"],[0.7777777777777778,\"#6ece58\"],[0.8888888888888888,\"#b5de2b\"],[1.0,\"#fde725\"]]},\"colorway\":[\"#1F77B4\",\"#FF7F0E\",\"#2CA02C\",\"#D62728\",\"#9467BD\",\"#8C564B\",\"#E377C2\",\"#7F7F7F\",\"#BCBD22\",\"#17BECF\"],\"font\":{\"color\":\"rgb(36,36,36)\"},\"geo\":{\"bgcolor\":\"white\",\"lakecolor\":\"white\",\"landcolor\":\"white\",\"showlakes\":true,\"showland\":true,\"subunitcolor\":\"white\"},\"hoverlabel\":{\"align\":\"left\"},\"hovermode\":\"closest\",\"mapbox\":{\"style\":\"light\"},\"paper_bgcolor\":\"white\",\"plot_bgcolor\":\"white\",\"polar\":{\"angularaxis\":{\"gridcolor\":\"rgb(232,232,232)\",\"linecolor\":\"rgb(36,36,36)\",\"showgrid\":false,\"showline\":true,\"ticks\":\"outside\"},\"bgcolor\":\"white\",\"radialaxis\":{\"gridcolor\":\"rgb(232,232,232)\",\"linecolor\":\"rgb(36,36,36)\",\"showgrid\":false,\"showline\":true,\"ticks\":\"outside\"}},\"scene\":{\"xaxis\":{\"backgroundcolor\":\"white\",\"gridcolor\":\"rgb(232,232,232)\",\"gridwidth\":2,\"linecolor\":\"rgb(36,36,36)\",\"showbackground\":true,\"showgrid\":false,\"showline\":true,\"ticks\":\"outside\",\"zeroline\":false,\"zerolinecolor\":\"rgb(36,36,36)\"},\"yaxis\":{\"backgroundcolor\":\"white\",\"gridcolor\":\"rgb(232,232,232)\",\"gridwidth\":2,\"linecolor\":\"rgb(36,36,36)\",\"showbackground\":true,\"showgrid\":false,\"showline\":true,\"ticks\":\"outside\",\"zeroline\":false,\"zerolinecolor\":\"rgb(36,36,36)\"},\"zaxis\":{\"backgroundcolor\":\"white\",\"gridcolor\":\"rgb(232,232,232)\",\"gridwidth\":2,\"linecolor\":\"rgb(36,36,36)\",\"showbackground\":true,\"showgrid\":false,\"showline\":true,\"ticks\":\"outside\",\"zeroline\":false,\"zerolinecolor\":\"rgb(36,36,36)\"}},\"shapedefaults\":{\"fillcolor\":\"black\",\"line\":{\"width\":0},\"opacity\":0.3},\"ternary\":{\"aaxis\":{\"gridcolor\":\"rgb(232,232,232)\",\"linecolor\":\"rgb(36,36,36)\",\"showgrid\":false,\"showline\":true,\"ticks\":\"outside\"},\"baxis\":{\"gridcolor\":\"rgb(232,232,232)\",\"linecolor\":\"rgb(36,36,36)\",\"showgrid\":false,\"showline\":true,\"ticks\":\"outside\"},\"bgcolor\":\"white\",\"caxis\":{\"gridcolor\":\"rgb(232,232,232)\",\"linecolor\":\"rgb(36,36,36)\",\"showgrid\":false,\"showline\":true,\"ticks\":\"outside\"}},\"title\":{\"x\":0.05},\"xaxis\":{\"automargin\":true,\"gridcolor\":\"rgb(232,232,232)\",\"linecolor\":\"rgb(36,36,36)\",\"showgrid\":false,\"showline\":true,\"ticks\":\"outside\",\"title\":{\"standoff\":15},\"zeroline\":false,\"zerolinecolor\":\"rgb(36,36,36)\"},\"yaxis\":{\"automargin\":true,\"gridcolor\":\"rgb(232,232,232)\",\"linecolor\":\"rgb(36,36,36)\",\"showgrid\":false,\"showline\":true,\"ticks\":\"outside\",\"title\":{\"standoff\":15},\"zeroline\":false,\"zerolinecolor\":\"rgb(36,36,36)\"}}},\"title\":{\"text\":\"\\u0412\\u043e\\u0440\\u043e\\u043d\\u043a\\u0430 \\u0433\\u0440\\u0443\\u043f\\u043f\\u044b \\u0410\"},\"width\":900,\"height\":500},                        {\"responsive\": true}                    ).then(function(){\n",
       "                            \n",
       "var gd = document.getElementById('c1bad2d2-b30e-435b-8da9-7124e9a96119');\n",
       "var x = new MutationObserver(function (mutations, observer) {{\n",
       "        var display = window.getComputedStyle(gd).display;\n",
       "        if (!display || display === 'none') {{\n",
       "            console.log([gd, 'removed!']);\n",
       "            Plotly.purge(gd);\n",
       "            observer.disconnect();\n",
       "        }}\n",
       "}});\n",
       "\n",
       "// Listen for the removal of the full notebook cells\n",
       "var notebookContainer = gd.closest('#notebook-container');\n",
       "if (notebookContainer) {{\n",
       "    x.observe(notebookContainer, {childList: true});\n",
       "}}\n",
       "\n",
       "// Listen for the clearing of the current output cell\n",
       "var outputEl = gd.closest('.output');\n",
       "if (outputEl) {{\n",
       "    x.observe(outputEl, {childList: true});\n",
       "}}\n",
       "\n",
       "                        })                };                });            </script>        </div>"
      ]
     },
     "metadata": {},
     "output_type": "display_data"
    }
   ],
   "source": [
    "data_user_eu_trace_a = data_user_eu[data_user_eu['group'] == 'A'].\\\n",
    "    pivot_table(index='event_name', values='user_id', aggfunc='nunique').reset_index()\n",
    "data_user_eu_trace_a['order'] = data_user_eu_trace_a['event_name'].apply(order)\n",
    "data_user_eu_trace_a = data_user_eu_trace_a.sort_values(by='order')\n",
    "\n",
    "fig = go.Figure()\n",
    "fig.add_trace(go.Funnel(\n",
    "    \n",
    "    y = data_user_eu_trace_a['event_name'],\n",
    "    x = data_user_eu_trace_a['user_id'],\n",
    "    marker = {\"color\": \"#3274a1\"},\n",
    "    textinfo = \"value+percent initial\"))\n",
    "fig.update_layout(\n",
    "    template = \"simple_white\",\n",
    "    title={'text': \"Воронка группы А\"},\n",
    "    width=900,\n",
    "    height=500\n",
    ")\n",
    "\n",
    "fig.show()"
   ]
  },
  {
   "cell_type": "markdown",
   "id": "2bc6383c",
   "metadata": {},
   "source": [
    "Для группы B."
   ]
  },
  {
   "cell_type": "code",
   "execution_count": 88,
   "id": "e434a937",
   "metadata": {},
   "outputs": [
    {
     "data": {
      "application/vnd.plotly.v1+json": {
       "config": {
        "plotlyServerURL": "https://plot.ly"
       },
       "data": [
        {
         "marker": {
          "color": "#3274a1"
         },
         "textinfo": "value+percent initial",
         "type": "funnel",
         "x": [
          654,
          367,
          184,
          191
         ],
         "y": [
          "login",
          "product_page",
          "product_cart",
          "purchase"
         ]
        }
       ],
       "layout": {
        "height": 500,
        "template": {
         "data": {
          "bar": [
           {
            "error_x": {
             "color": "rgb(36,36,36)"
            },
            "error_y": {
             "color": "rgb(36,36,36)"
            },
            "marker": {
             "line": {
              "color": "white",
              "width": 0.5
             },
             "pattern": {
              "fillmode": "overlay",
              "size": 10,
              "solidity": 0.2
             }
            },
            "type": "bar"
           }
          ],
          "barpolar": [
           {
            "marker": {
             "line": {
              "color": "white",
              "width": 0.5
             },
             "pattern": {
              "fillmode": "overlay",
              "size": 10,
              "solidity": 0.2
             }
            },
            "type": "barpolar"
           }
          ],
          "carpet": [
           {
            "aaxis": {
             "endlinecolor": "rgb(36,36,36)",
             "gridcolor": "white",
             "linecolor": "white",
             "minorgridcolor": "white",
             "startlinecolor": "rgb(36,36,36)"
            },
            "baxis": {
             "endlinecolor": "rgb(36,36,36)",
             "gridcolor": "white",
             "linecolor": "white",
             "minorgridcolor": "white",
             "startlinecolor": "rgb(36,36,36)"
            },
            "type": "carpet"
           }
          ],
          "choropleth": [
           {
            "colorbar": {
             "outlinewidth": 1,
             "tickcolor": "rgb(36,36,36)",
             "ticks": "outside"
            },
            "type": "choropleth"
           }
          ],
          "contour": [
           {
            "colorbar": {
             "outlinewidth": 1,
             "tickcolor": "rgb(36,36,36)",
             "ticks": "outside"
            },
            "colorscale": [
             [
              0,
              "#440154"
             ],
             [
              0.1111111111111111,
              "#482878"
             ],
             [
              0.2222222222222222,
              "#3e4989"
             ],
             [
              0.3333333333333333,
              "#31688e"
             ],
             [
              0.4444444444444444,
              "#26828e"
             ],
             [
              0.5555555555555556,
              "#1f9e89"
             ],
             [
              0.6666666666666666,
              "#35b779"
             ],
             [
              0.7777777777777778,
              "#6ece58"
             ],
             [
              0.8888888888888888,
              "#b5de2b"
             ],
             [
              1,
              "#fde725"
             ]
            ],
            "type": "contour"
           }
          ],
          "contourcarpet": [
           {
            "colorbar": {
             "outlinewidth": 1,
             "tickcolor": "rgb(36,36,36)",
             "ticks": "outside"
            },
            "type": "contourcarpet"
           }
          ],
          "heatmap": [
           {
            "colorbar": {
             "outlinewidth": 1,
             "tickcolor": "rgb(36,36,36)",
             "ticks": "outside"
            },
            "colorscale": [
             [
              0,
              "#440154"
             ],
             [
              0.1111111111111111,
              "#482878"
             ],
             [
              0.2222222222222222,
              "#3e4989"
             ],
             [
              0.3333333333333333,
              "#31688e"
             ],
             [
              0.4444444444444444,
              "#26828e"
             ],
             [
              0.5555555555555556,
              "#1f9e89"
             ],
             [
              0.6666666666666666,
              "#35b779"
             ],
             [
              0.7777777777777778,
              "#6ece58"
             ],
             [
              0.8888888888888888,
              "#b5de2b"
             ],
             [
              1,
              "#fde725"
             ]
            ],
            "type": "heatmap"
           }
          ],
          "heatmapgl": [
           {
            "colorbar": {
             "outlinewidth": 1,
             "tickcolor": "rgb(36,36,36)",
             "ticks": "outside"
            },
            "colorscale": [
             [
              0,
              "#440154"
             ],
             [
              0.1111111111111111,
              "#482878"
             ],
             [
              0.2222222222222222,
              "#3e4989"
             ],
             [
              0.3333333333333333,
              "#31688e"
             ],
             [
              0.4444444444444444,
              "#26828e"
             ],
             [
              0.5555555555555556,
              "#1f9e89"
             ],
             [
              0.6666666666666666,
              "#35b779"
             ],
             [
              0.7777777777777778,
              "#6ece58"
             ],
             [
              0.8888888888888888,
              "#b5de2b"
             ],
             [
              1,
              "#fde725"
             ]
            ],
            "type": "heatmapgl"
           }
          ],
          "histogram": [
           {
            "marker": {
             "line": {
              "color": "white",
              "width": 0.6
             }
            },
            "type": "histogram"
           }
          ],
          "histogram2d": [
           {
            "colorbar": {
             "outlinewidth": 1,
             "tickcolor": "rgb(36,36,36)",
             "ticks": "outside"
            },
            "colorscale": [
             [
              0,
              "#440154"
             ],
             [
              0.1111111111111111,
              "#482878"
             ],
             [
              0.2222222222222222,
              "#3e4989"
             ],
             [
              0.3333333333333333,
              "#31688e"
             ],
             [
              0.4444444444444444,
              "#26828e"
             ],
             [
              0.5555555555555556,
              "#1f9e89"
             ],
             [
              0.6666666666666666,
              "#35b779"
             ],
             [
              0.7777777777777778,
              "#6ece58"
             ],
             [
              0.8888888888888888,
              "#b5de2b"
             ],
             [
              1,
              "#fde725"
             ]
            ],
            "type": "histogram2d"
           }
          ],
          "histogram2dcontour": [
           {
            "colorbar": {
             "outlinewidth": 1,
             "tickcolor": "rgb(36,36,36)",
             "ticks": "outside"
            },
            "colorscale": [
             [
              0,
              "#440154"
             ],
             [
              0.1111111111111111,
              "#482878"
             ],
             [
              0.2222222222222222,
              "#3e4989"
             ],
             [
              0.3333333333333333,
              "#31688e"
             ],
             [
              0.4444444444444444,
              "#26828e"
             ],
             [
              0.5555555555555556,
              "#1f9e89"
             ],
             [
              0.6666666666666666,
              "#35b779"
             ],
             [
              0.7777777777777778,
              "#6ece58"
             ],
             [
              0.8888888888888888,
              "#b5de2b"
             ],
             [
              1,
              "#fde725"
             ]
            ],
            "type": "histogram2dcontour"
           }
          ],
          "mesh3d": [
           {
            "colorbar": {
             "outlinewidth": 1,
             "tickcolor": "rgb(36,36,36)",
             "ticks": "outside"
            },
            "type": "mesh3d"
           }
          ],
          "parcoords": [
           {
            "line": {
             "colorbar": {
              "outlinewidth": 1,
              "tickcolor": "rgb(36,36,36)",
              "ticks": "outside"
             }
            },
            "type": "parcoords"
           }
          ],
          "pie": [
           {
            "automargin": true,
            "type": "pie"
           }
          ],
          "scatter": [
           {
            "marker": {
             "colorbar": {
              "outlinewidth": 1,
              "tickcolor": "rgb(36,36,36)",
              "ticks": "outside"
             }
            },
            "type": "scatter"
           }
          ],
          "scatter3d": [
           {
            "line": {
             "colorbar": {
              "outlinewidth": 1,
              "tickcolor": "rgb(36,36,36)",
              "ticks": "outside"
             }
            },
            "marker": {
             "colorbar": {
              "outlinewidth": 1,
              "tickcolor": "rgb(36,36,36)",
              "ticks": "outside"
             }
            },
            "type": "scatter3d"
           }
          ],
          "scattercarpet": [
           {
            "marker": {
             "colorbar": {
              "outlinewidth": 1,
              "tickcolor": "rgb(36,36,36)",
              "ticks": "outside"
             }
            },
            "type": "scattercarpet"
           }
          ],
          "scattergeo": [
           {
            "marker": {
             "colorbar": {
              "outlinewidth": 1,
              "tickcolor": "rgb(36,36,36)",
              "ticks": "outside"
             }
            },
            "type": "scattergeo"
           }
          ],
          "scattergl": [
           {
            "marker": {
             "colorbar": {
              "outlinewidth": 1,
              "tickcolor": "rgb(36,36,36)",
              "ticks": "outside"
             }
            },
            "type": "scattergl"
           }
          ],
          "scattermapbox": [
           {
            "marker": {
             "colorbar": {
              "outlinewidth": 1,
              "tickcolor": "rgb(36,36,36)",
              "ticks": "outside"
             }
            },
            "type": "scattermapbox"
           }
          ],
          "scatterpolar": [
           {
            "marker": {
             "colorbar": {
              "outlinewidth": 1,
              "tickcolor": "rgb(36,36,36)",
              "ticks": "outside"
             }
            },
            "type": "scatterpolar"
           }
          ],
          "scatterpolargl": [
           {
            "marker": {
             "colorbar": {
              "outlinewidth": 1,
              "tickcolor": "rgb(36,36,36)",
              "ticks": "outside"
             }
            },
            "type": "scatterpolargl"
           }
          ],
          "scatterternary": [
           {
            "marker": {
             "colorbar": {
              "outlinewidth": 1,
              "tickcolor": "rgb(36,36,36)",
              "ticks": "outside"
             }
            },
            "type": "scatterternary"
           }
          ],
          "surface": [
           {
            "colorbar": {
             "outlinewidth": 1,
             "tickcolor": "rgb(36,36,36)",
             "ticks": "outside"
            },
            "colorscale": [
             [
              0,
              "#440154"
             ],
             [
              0.1111111111111111,
              "#482878"
             ],
             [
              0.2222222222222222,
              "#3e4989"
             ],
             [
              0.3333333333333333,
              "#31688e"
             ],
             [
              0.4444444444444444,
              "#26828e"
             ],
             [
              0.5555555555555556,
              "#1f9e89"
             ],
             [
              0.6666666666666666,
              "#35b779"
             ],
             [
              0.7777777777777778,
              "#6ece58"
             ],
             [
              0.8888888888888888,
              "#b5de2b"
             ],
             [
              1,
              "#fde725"
             ]
            ],
            "type": "surface"
           }
          ],
          "table": [
           {
            "cells": {
             "fill": {
              "color": "rgb(237,237,237)"
             },
             "line": {
              "color": "white"
             }
            },
            "header": {
             "fill": {
              "color": "rgb(217,217,217)"
             },
             "line": {
              "color": "white"
             }
            },
            "type": "table"
           }
          ]
         },
         "layout": {
          "annotationdefaults": {
           "arrowhead": 0,
           "arrowwidth": 1
          },
          "autotypenumbers": "strict",
          "coloraxis": {
           "colorbar": {
            "outlinewidth": 1,
            "tickcolor": "rgb(36,36,36)",
            "ticks": "outside"
           }
          },
          "colorscale": {
           "diverging": [
            [
             0,
             "rgb(103,0,31)"
            ],
            [
             0.1,
             "rgb(178,24,43)"
            ],
            [
             0.2,
             "rgb(214,96,77)"
            ],
            [
             0.3,
             "rgb(244,165,130)"
            ],
            [
             0.4,
             "rgb(253,219,199)"
            ],
            [
             0.5,
             "rgb(247,247,247)"
            ],
            [
             0.6,
             "rgb(209,229,240)"
            ],
            [
             0.7,
             "rgb(146,197,222)"
            ],
            [
             0.8,
             "rgb(67,147,195)"
            ],
            [
             0.9,
             "rgb(33,102,172)"
            ],
            [
             1,
             "rgb(5,48,97)"
            ]
           ],
           "sequential": [
            [
             0,
             "#440154"
            ],
            [
             0.1111111111111111,
             "#482878"
            ],
            [
             0.2222222222222222,
             "#3e4989"
            ],
            [
             0.3333333333333333,
             "#31688e"
            ],
            [
             0.4444444444444444,
             "#26828e"
            ],
            [
             0.5555555555555556,
             "#1f9e89"
            ],
            [
             0.6666666666666666,
             "#35b779"
            ],
            [
             0.7777777777777778,
             "#6ece58"
            ],
            [
             0.8888888888888888,
             "#b5de2b"
            ],
            [
             1,
             "#fde725"
            ]
           ],
           "sequentialminus": [
            [
             0,
             "#440154"
            ],
            [
             0.1111111111111111,
             "#482878"
            ],
            [
             0.2222222222222222,
             "#3e4989"
            ],
            [
             0.3333333333333333,
             "#31688e"
            ],
            [
             0.4444444444444444,
             "#26828e"
            ],
            [
             0.5555555555555556,
             "#1f9e89"
            ],
            [
             0.6666666666666666,
             "#35b779"
            ],
            [
             0.7777777777777778,
             "#6ece58"
            ],
            [
             0.8888888888888888,
             "#b5de2b"
            ],
            [
             1,
             "#fde725"
            ]
           ]
          },
          "colorway": [
           "#1F77B4",
           "#FF7F0E",
           "#2CA02C",
           "#D62728",
           "#9467BD",
           "#8C564B",
           "#E377C2",
           "#7F7F7F",
           "#BCBD22",
           "#17BECF"
          ],
          "font": {
           "color": "rgb(36,36,36)"
          },
          "geo": {
           "bgcolor": "white",
           "lakecolor": "white",
           "landcolor": "white",
           "showlakes": true,
           "showland": true,
           "subunitcolor": "white"
          },
          "hoverlabel": {
           "align": "left"
          },
          "hovermode": "closest",
          "mapbox": {
           "style": "light"
          },
          "paper_bgcolor": "white",
          "plot_bgcolor": "white",
          "polar": {
           "angularaxis": {
            "gridcolor": "rgb(232,232,232)",
            "linecolor": "rgb(36,36,36)",
            "showgrid": false,
            "showline": true,
            "ticks": "outside"
           },
           "bgcolor": "white",
           "radialaxis": {
            "gridcolor": "rgb(232,232,232)",
            "linecolor": "rgb(36,36,36)",
            "showgrid": false,
            "showline": true,
            "ticks": "outside"
           }
          },
          "scene": {
           "xaxis": {
            "backgroundcolor": "white",
            "gridcolor": "rgb(232,232,232)",
            "gridwidth": 2,
            "linecolor": "rgb(36,36,36)",
            "showbackground": true,
            "showgrid": false,
            "showline": true,
            "ticks": "outside",
            "zeroline": false,
            "zerolinecolor": "rgb(36,36,36)"
           },
           "yaxis": {
            "backgroundcolor": "white",
            "gridcolor": "rgb(232,232,232)",
            "gridwidth": 2,
            "linecolor": "rgb(36,36,36)",
            "showbackground": true,
            "showgrid": false,
            "showline": true,
            "ticks": "outside",
            "zeroline": false,
            "zerolinecolor": "rgb(36,36,36)"
           },
           "zaxis": {
            "backgroundcolor": "white",
            "gridcolor": "rgb(232,232,232)",
            "gridwidth": 2,
            "linecolor": "rgb(36,36,36)",
            "showbackground": true,
            "showgrid": false,
            "showline": true,
            "ticks": "outside",
            "zeroline": false,
            "zerolinecolor": "rgb(36,36,36)"
           }
          },
          "shapedefaults": {
           "fillcolor": "black",
           "line": {
            "width": 0
           },
           "opacity": 0.3
          },
          "ternary": {
           "aaxis": {
            "gridcolor": "rgb(232,232,232)",
            "linecolor": "rgb(36,36,36)",
            "showgrid": false,
            "showline": true,
            "ticks": "outside"
           },
           "baxis": {
            "gridcolor": "rgb(232,232,232)",
            "linecolor": "rgb(36,36,36)",
            "showgrid": false,
            "showline": true,
            "ticks": "outside"
           },
           "bgcolor": "white",
           "caxis": {
            "gridcolor": "rgb(232,232,232)",
            "linecolor": "rgb(36,36,36)",
            "showgrid": false,
            "showline": true,
            "ticks": "outside"
           }
          },
          "title": {
           "x": 0.05
          },
          "xaxis": {
           "automargin": true,
           "gridcolor": "rgb(232,232,232)",
           "linecolor": "rgb(36,36,36)",
           "showgrid": false,
           "showline": true,
           "ticks": "outside",
           "title": {
            "standoff": 15
           },
           "zeroline": false,
           "zerolinecolor": "rgb(36,36,36)"
          },
          "yaxis": {
           "automargin": true,
           "gridcolor": "rgb(232,232,232)",
           "linecolor": "rgb(36,36,36)",
           "showgrid": false,
           "showline": true,
           "ticks": "outside",
           "title": {
            "standoff": 15
           },
           "zeroline": false,
           "zerolinecolor": "rgb(36,36,36)"
          }
         }
        },
        "title": {
         "text": "Воронка группы B"
        },
        "width": 900
       }
      },
      "text/html": [
       "<div>                            <div id=\"26897355-3976-4f61-99ed-dd213e0889cf\" class=\"plotly-graph-div\" style=\"height:500px; width:900px;\"></div>            <script type=\"text/javascript\">                require([\"plotly\"], function(Plotly) {                    window.PLOTLYENV=window.PLOTLYENV || {};                                    if (document.getElementById(\"26897355-3976-4f61-99ed-dd213e0889cf\")) {                    Plotly.newPlot(                        \"26897355-3976-4f61-99ed-dd213e0889cf\",                        [{\"marker\":{\"color\":\"#3274a1\"},\"textinfo\":\"value+percent initial\",\"x\":[654,367,184,191],\"y\":[\"login\",\"product_page\",\"product_cart\",\"purchase\"],\"type\":\"funnel\"}],                        {\"template\":{\"data\":{\"barpolar\":[{\"marker\":{\"line\":{\"color\":\"white\",\"width\":0.5},\"pattern\":{\"fillmode\":\"overlay\",\"size\":10,\"solidity\":0.2}},\"type\":\"barpolar\"}],\"bar\":[{\"error_x\":{\"color\":\"rgb(36,36,36)\"},\"error_y\":{\"color\":\"rgb(36,36,36)\"},\"marker\":{\"line\":{\"color\":\"white\",\"width\":0.5},\"pattern\":{\"fillmode\":\"overlay\",\"size\":10,\"solidity\":0.2}},\"type\":\"bar\"}],\"carpet\":[{\"aaxis\":{\"endlinecolor\":\"rgb(36,36,36)\",\"gridcolor\":\"white\",\"linecolor\":\"white\",\"minorgridcolor\":\"white\",\"startlinecolor\":\"rgb(36,36,36)\"},\"baxis\":{\"endlinecolor\":\"rgb(36,36,36)\",\"gridcolor\":\"white\",\"linecolor\":\"white\",\"minorgridcolor\":\"white\",\"startlinecolor\":\"rgb(36,36,36)\"},\"type\":\"carpet\"}],\"choropleth\":[{\"colorbar\":{\"outlinewidth\":1,\"tickcolor\":\"rgb(36,36,36)\",\"ticks\":\"outside\"},\"type\":\"choropleth\"}],\"contourcarpet\":[{\"colorbar\":{\"outlinewidth\":1,\"tickcolor\":\"rgb(36,36,36)\",\"ticks\":\"outside\"},\"type\":\"contourcarpet\"}],\"contour\":[{\"colorbar\":{\"outlinewidth\":1,\"tickcolor\":\"rgb(36,36,36)\",\"ticks\":\"outside\"},\"colorscale\":[[0.0,\"#440154\"],[0.1111111111111111,\"#482878\"],[0.2222222222222222,\"#3e4989\"],[0.3333333333333333,\"#31688e\"],[0.4444444444444444,\"#26828e\"],[0.5555555555555556,\"#1f9e89\"],[0.6666666666666666,\"#35b779\"],[0.7777777777777778,\"#6ece58\"],[0.8888888888888888,\"#b5de2b\"],[1.0,\"#fde725\"]],\"type\":\"contour\"}],\"heatmapgl\":[{\"colorbar\":{\"outlinewidth\":1,\"tickcolor\":\"rgb(36,36,36)\",\"ticks\":\"outside\"},\"colorscale\":[[0.0,\"#440154\"],[0.1111111111111111,\"#482878\"],[0.2222222222222222,\"#3e4989\"],[0.3333333333333333,\"#31688e\"],[0.4444444444444444,\"#26828e\"],[0.5555555555555556,\"#1f9e89\"],[0.6666666666666666,\"#35b779\"],[0.7777777777777778,\"#6ece58\"],[0.8888888888888888,\"#b5de2b\"],[1.0,\"#fde725\"]],\"type\":\"heatmapgl\"}],\"heatmap\":[{\"colorbar\":{\"outlinewidth\":1,\"tickcolor\":\"rgb(36,36,36)\",\"ticks\":\"outside\"},\"colorscale\":[[0.0,\"#440154\"],[0.1111111111111111,\"#482878\"],[0.2222222222222222,\"#3e4989\"],[0.3333333333333333,\"#31688e\"],[0.4444444444444444,\"#26828e\"],[0.5555555555555556,\"#1f9e89\"],[0.6666666666666666,\"#35b779\"],[0.7777777777777778,\"#6ece58\"],[0.8888888888888888,\"#b5de2b\"],[1.0,\"#fde725\"]],\"type\":\"heatmap\"}],\"histogram2dcontour\":[{\"colorbar\":{\"outlinewidth\":1,\"tickcolor\":\"rgb(36,36,36)\",\"ticks\":\"outside\"},\"colorscale\":[[0.0,\"#440154\"],[0.1111111111111111,\"#482878\"],[0.2222222222222222,\"#3e4989\"],[0.3333333333333333,\"#31688e\"],[0.4444444444444444,\"#26828e\"],[0.5555555555555556,\"#1f9e89\"],[0.6666666666666666,\"#35b779\"],[0.7777777777777778,\"#6ece58\"],[0.8888888888888888,\"#b5de2b\"],[1.0,\"#fde725\"]],\"type\":\"histogram2dcontour\"}],\"histogram2d\":[{\"colorbar\":{\"outlinewidth\":1,\"tickcolor\":\"rgb(36,36,36)\",\"ticks\":\"outside\"},\"colorscale\":[[0.0,\"#440154\"],[0.1111111111111111,\"#482878\"],[0.2222222222222222,\"#3e4989\"],[0.3333333333333333,\"#31688e\"],[0.4444444444444444,\"#26828e\"],[0.5555555555555556,\"#1f9e89\"],[0.6666666666666666,\"#35b779\"],[0.7777777777777778,\"#6ece58\"],[0.8888888888888888,\"#b5de2b\"],[1.0,\"#fde725\"]],\"type\":\"histogram2d\"}],\"histogram\":[{\"marker\":{\"line\":{\"color\":\"white\",\"width\":0.6}},\"type\":\"histogram\"}],\"mesh3d\":[{\"colorbar\":{\"outlinewidth\":1,\"tickcolor\":\"rgb(36,36,36)\",\"ticks\":\"outside\"},\"type\":\"mesh3d\"}],\"parcoords\":[{\"line\":{\"colorbar\":{\"outlinewidth\":1,\"tickcolor\":\"rgb(36,36,36)\",\"ticks\":\"outside\"}},\"type\":\"parcoords\"}],\"pie\":[{\"automargin\":true,\"type\":\"pie\"}],\"scatter3d\":[{\"line\":{\"colorbar\":{\"outlinewidth\":1,\"tickcolor\":\"rgb(36,36,36)\",\"ticks\":\"outside\"}},\"marker\":{\"colorbar\":{\"outlinewidth\":1,\"tickcolor\":\"rgb(36,36,36)\",\"ticks\":\"outside\"}},\"type\":\"scatter3d\"}],\"scattercarpet\":[{\"marker\":{\"colorbar\":{\"outlinewidth\":1,\"tickcolor\":\"rgb(36,36,36)\",\"ticks\":\"outside\"}},\"type\":\"scattercarpet\"}],\"scattergeo\":[{\"marker\":{\"colorbar\":{\"outlinewidth\":1,\"tickcolor\":\"rgb(36,36,36)\",\"ticks\":\"outside\"}},\"type\":\"scattergeo\"}],\"scattergl\":[{\"marker\":{\"colorbar\":{\"outlinewidth\":1,\"tickcolor\":\"rgb(36,36,36)\",\"ticks\":\"outside\"}},\"type\":\"scattergl\"}],\"scattermapbox\":[{\"marker\":{\"colorbar\":{\"outlinewidth\":1,\"tickcolor\":\"rgb(36,36,36)\",\"ticks\":\"outside\"}},\"type\":\"scattermapbox\"}],\"scatterpolargl\":[{\"marker\":{\"colorbar\":{\"outlinewidth\":1,\"tickcolor\":\"rgb(36,36,36)\",\"ticks\":\"outside\"}},\"type\":\"scatterpolargl\"}],\"scatterpolar\":[{\"marker\":{\"colorbar\":{\"outlinewidth\":1,\"tickcolor\":\"rgb(36,36,36)\",\"ticks\":\"outside\"}},\"type\":\"scatterpolar\"}],\"scatter\":[{\"marker\":{\"colorbar\":{\"outlinewidth\":1,\"tickcolor\":\"rgb(36,36,36)\",\"ticks\":\"outside\"}},\"type\":\"scatter\"}],\"scatterternary\":[{\"marker\":{\"colorbar\":{\"outlinewidth\":1,\"tickcolor\":\"rgb(36,36,36)\",\"ticks\":\"outside\"}},\"type\":\"scatterternary\"}],\"surface\":[{\"colorbar\":{\"outlinewidth\":1,\"tickcolor\":\"rgb(36,36,36)\",\"ticks\":\"outside\"},\"colorscale\":[[0.0,\"#440154\"],[0.1111111111111111,\"#482878\"],[0.2222222222222222,\"#3e4989\"],[0.3333333333333333,\"#31688e\"],[0.4444444444444444,\"#26828e\"],[0.5555555555555556,\"#1f9e89\"],[0.6666666666666666,\"#35b779\"],[0.7777777777777778,\"#6ece58\"],[0.8888888888888888,\"#b5de2b\"],[1.0,\"#fde725\"]],\"type\":\"surface\"}],\"table\":[{\"cells\":{\"fill\":{\"color\":\"rgb(237,237,237)\"},\"line\":{\"color\":\"white\"}},\"header\":{\"fill\":{\"color\":\"rgb(217,217,217)\"},\"line\":{\"color\":\"white\"}},\"type\":\"table\"}]},\"layout\":{\"annotationdefaults\":{\"arrowhead\":0,\"arrowwidth\":1},\"autotypenumbers\":\"strict\",\"coloraxis\":{\"colorbar\":{\"outlinewidth\":1,\"tickcolor\":\"rgb(36,36,36)\",\"ticks\":\"outside\"}},\"colorscale\":{\"diverging\":[[0.0,\"rgb(103,0,31)\"],[0.1,\"rgb(178,24,43)\"],[0.2,\"rgb(214,96,77)\"],[0.3,\"rgb(244,165,130)\"],[0.4,\"rgb(253,219,199)\"],[0.5,\"rgb(247,247,247)\"],[0.6,\"rgb(209,229,240)\"],[0.7,\"rgb(146,197,222)\"],[0.8,\"rgb(67,147,195)\"],[0.9,\"rgb(33,102,172)\"],[1.0,\"rgb(5,48,97)\"]],\"sequential\":[[0.0,\"#440154\"],[0.1111111111111111,\"#482878\"],[0.2222222222222222,\"#3e4989\"],[0.3333333333333333,\"#31688e\"],[0.4444444444444444,\"#26828e\"],[0.5555555555555556,\"#1f9e89\"],[0.6666666666666666,\"#35b779\"],[0.7777777777777778,\"#6ece58\"],[0.8888888888888888,\"#b5de2b\"],[1.0,\"#fde725\"]],\"sequentialminus\":[[0.0,\"#440154\"],[0.1111111111111111,\"#482878\"],[0.2222222222222222,\"#3e4989\"],[0.3333333333333333,\"#31688e\"],[0.4444444444444444,\"#26828e\"],[0.5555555555555556,\"#1f9e89\"],[0.6666666666666666,\"#35b779\"],[0.7777777777777778,\"#6ece58\"],[0.8888888888888888,\"#b5de2b\"],[1.0,\"#fde725\"]]},\"colorway\":[\"#1F77B4\",\"#FF7F0E\",\"#2CA02C\",\"#D62728\",\"#9467BD\",\"#8C564B\",\"#E377C2\",\"#7F7F7F\",\"#BCBD22\",\"#17BECF\"],\"font\":{\"color\":\"rgb(36,36,36)\"},\"geo\":{\"bgcolor\":\"white\",\"lakecolor\":\"white\",\"landcolor\":\"white\",\"showlakes\":true,\"showland\":true,\"subunitcolor\":\"white\"},\"hoverlabel\":{\"align\":\"left\"},\"hovermode\":\"closest\",\"mapbox\":{\"style\":\"light\"},\"paper_bgcolor\":\"white\",\"plot_bgcolor\":\"white\",\"polar\":{\"angularaxis\":{\"gridcolor\":\"rgb(232,232,232)\",\"linecolor\":\"rgb(36,36,36)\",\"showgrid\":false,\"showline\":true,\"ticks\":\"outside\"},\"bgcolor\":\"white\",\"radialaxis\":{\"gridcolor\":\"rgb(232,232,232)\",\"linecolor\":\"rgb(36,36,36)\",\"showgrid\":false,\"showline\":true,\"ticks\":\"outside\"}},\"scene\":{\"xaxis\":{\"backgroundcolor\":\"white\",\"gridcolor\":\"rgb(232,232,232)\",\"gridwidth\":2,\"linecolor\":\"rgb(36,36,36)\",\"showbackground\":true,\"showgrid\":false,\"showline\":true,\"ticks\":\"outside\",\"zeroline\":false,\"zerolinecolor\":\"rgb(36,36,36)\"},\"yaxis\":{\"backgroundcolor\":\"white\",\"gridcolor\":\"rgb(232,232,232)\",\"gridwidth\":2,\"linecolor\":\"rgb(36,36,36)\",\"showbackground\":true,\"showgrid\":false,\"showline\":true,\"ticks\":\"outside\",\"zeroline\":false,\"zerolinecolor\":\"rgb(36,36,36)\"},\"zaxis\":{\"backgroundcolor\":\"white\",\"gridcolor\":\"rgb(232,232,232)\",\"gridwidth\":2,\"linecolor\":\"rgb(36,36,36)\",\"showbackground\":true,\"showgrid\":false,\"showline\":true,\"ticks\":\"outside\",\"zeroline\":false,\"zerolinecolor\":\"rgb(36,36,36)\"}},\"shapedefaults\":{\"fillcolor\":\"black\",\"line\":{\"width\":0},\"opacity\":0.3},\"ternary\":{\"aaxis\":{\"gridcolor\":\"rgb(232,232,232)\",\"linecolor\":\"rgb(36,36,36)\",\"showgrid\":false,\"showline\":true,\"ticks\":\"outside\"},\"baxis\":{\"gridcolor\":\"rgb(232,232,232)\",\"linecolor\":\"rgb(36,36,36)\",\"showgrid\":false,\"showline\":true,\"ticks\":\"outside\"},\"bgcolor\":\"white\",\"caxis\":{\"gridcolor\":\"rgb(232,232,232)\",\"linecolor\":\"rgb(36,36,36)\",\"showgrid\":false,\"showline\":true,\"ticks\":\"outside\"}},\"title\":{\"x\":0.05},\"xaxis\":{\"automargin\":true,\"gridcolor\":\"rgb(232,232,232)\",\"linecolor\":\"rgb(36,36,36)\",\"showgrid\":false,\"showline\":true,\"ticks\":\"outside\",\"title\":{\"standoff\":15},\"zeroline\":false,\"zerolinecolor\":\"rgb(36,36,36)\"},\"yaxis\":{\"automargin\":true,\"gridcolor\":\"rgb(232,232,232)\",\"linecolor\":\"rgb(36,36,36)\",\"showgrid\":false,\"showline\":true,\"ticks\":\"outside\",\"title\":{\"standoff\":15},\"zeroline\":false,\"zerolinecolor\":\"rgb(36,36,36)\"}}},\"title\":{\"text\":\"\\u0412\\u043e\\u0440\\u043e\\u043d\\u043a\\u0430 \\u0433\\u0440\\u0443\\u043f\\u043f\\u044b B\"},\"width\":900,\"height\":500},                        {\"responsive\": true}                    ).then(function(){\n",
       "                            \n",
       "var gd = document.getElementById('26897355-3976-4f61-99ed-dd213e0889cf');\n",
       "var x = new MutationObserver(function (mutations, observer) {{\n",
       "        var display = window.getComputedStyle(gd).display;\n",
       "        if (!display || display === 'none') {{\n",
       "            console.log([gd, 'removed!']);\n",
       "            Plotly.purge(gd);\n",
       "            observer.disconnect();\n",
       "        }}\n",
       "}});\n",
       "\n",
       "// Listen for the removal of the full notebook cells\n",
       "var notebookContainer = gd.closest('#notebook-container');\n",
       "if (notebookContainer) {{\n",
       "    x.observe(notebookContainer, {childList: true});\n",
       "}}\n",
       "\n",
       "// Listen for the clearing of the current output cell\n",
       "var outputEl = gd.closest('.output');\n",
       "if (outputEl) {{\n",
       "    x.observe(outputEl, {childList: true});\n",
       "}}\n",
       "\n",
       "                        })                };                });            </script>        </div>"
      ]
     },
     "metadata": {},
     "output_type": "display_data"
    }
   ],
   "source": [
    "data_user_eu_trace_b = data_user_eu[data_user_eu['group'] == 'B'].\\\n",
    "    pivot_table(index='event_name', values='user_id', aggfunc='nunique').reset_index()\n",
    "data_user_eu_trace_b['order'] = data_user_eu_trace_b['event_name'].apply(order)\n",
    "data_user_eu_trace_b = data_user_eu_trace_b.sort_values(by='order')\n",
    "\n",
    "fig = go.Figure()\n",
    "fig.add_trace(go.Funnel(\n",
    "    \n",
    "    y = data_user_eu_trace_b['event_name'],\n",
    "    x = data_user_eu_trace_b['user_id'],\n",
    "    marker = {\"color\": \"#3274a1\"},\n",
    "    textinfo = \"value+percent initial\"))\n",
    "fig.update_layout(\n",
    "    template = \"simple_white\",\n",
    "    title={'text': \"Воронка группы B\"},\n",
    "    width=900,\n",
    "    height=500\n",
    ")\n",
    "\n",
    "fig.show()"
   ]
  },
  {
   "cell_type": "markdown",
   "id": "e8b9cd37",
   "metadata": {},
   "source": [
    "Сравнивая воронки двух групп, можем сделать вывод о том, что группа *B* **отстаёт** от группы *A* по всем этапам:\n",
    "\n",
    "1) 65% группы *А* доходит до страницы продукта против 56% группы *B*;\\\n",
    "2) И в группе *А* и в группе *В* некоторые пользователи доходили до стадии покупки обходя продуктовую корзину;\\\n",
    "3) 32% пользователей *А* дошли до стадии *покупки* против 29% группы *В*.\n",
    "\n",
    "В целом, можно сделать промежуточный вывод о том, что новая система *не эффективна* в формате анализа продуктовой воронки. "
   ]
  },
  {
   "cell_type": "markdown",
   "id": "ca89176d",
   "metadata": {},
   "source": [
    "Координально картина не поменялась, группа *B* всё так же показывает **хуже результат**, чем группа *А* с каждым шагом конверсии, тем самым это указывает на неэффективность новой системы и не соответсвие одного из пунктов ТЗ."
   ]
  },
  {
   "cell_type": "markdown",
   "id": "2087d4b0",
   "metadata": {},
   "source": [
    "Таким образом, можно сказать, что данные для анализа клиентов имеют большое число недочётов и несоответствий ТЗ.\\\n",
    "При фильтрации данных согласно условиям мы получаем:\n",
    "\n",
    "1) Аудитория: 15% новых пользователей из региона EU - **не выполнена**;\\\n",
    "2) Ожидаемое количество участников теста: 6000 - **не выполнена**;\\\n",
    "3) За 14 дней с момента регистрации пользователи покажут улучшение каждой метрики не менее, чем на 10% - **не выполнена**;\\\n",
    "4) Время проведения теста не совпадает с маркетинговыми и другими активностями - **не выполнена**;\\\n",
    "5) Нет пересечений с конкурирующим тестом и нет пользователей, участвующих в двух группах теста одновременно - **не выполненно**;\\\n",
    "6) Количество событий на пользователя одинаково распределены в выборках - **не выполнено**;\\\n",
    "7) Количество действий распределено по дням **не равномерно**;\\\n",
    "8) Конверсия в воронке в выборках на разных этапах **не показала улучшение у новой группы**.\n",
    "\n",
    "На данном этапе можно говорить о некорректной подготовке данных для анализа A/B теста и не эффективности новой системы. В следующем пункте мы проведем A/B тест с пользователями, удовлетворяющих ТЗ и проведем тест о равенстве долей между группой А и B. "
   ]
  },
  {
   "cell_type": "markdown",
   "id": "f4af62dc",
   "metadata": {},
   "source": [
    "<a id=\"abtest\"></a>  \n",
    "## Оценка результатов A/B-тестирования"
   ]
  },
  {
   "cell_type": "markdown",
   "id": "79249099",
   "metadata": {},
   "source": [
    "Прежде, чем провести анализ A/B тестирования, проверим равенство долей между группами по очищенным данным с помощью z-теста. "
   ]
  },
  {
   "cell_type": "code",
   "execution_count": 89,
   "id": "74530460",
   "metadata": {},
   "outputs": [
    {
     "data": {
      "text/plain": [
       "(107.00948894893696, 0.0)"
      ]
     },
     "execution_count": 89,
     "metadata": {},
     "output_type": "execute_result"
    }
   ],
   "source": [
    "#определим размер выборки группы А\n",
    "len_a = data_user_eu[data_user_eu['group'] == 'A'].shape[0]    \n",
    "#определим размер выборки группы B\n",
    "len_b = data_user_eu[data_user_eu['group'] == 'B'].shape[0]\n",
    "#общая длина массива\n",
    "total = len_a + len_b\n",
    "#вызовем Z тест\n",
    "proportions_ztest([len_a, len_b], [total, total])"
   ]
  },
  {
   "cell_type": "markdown",
   "id": "84a40f75",
   "metadata": {},
   "source": [
    "Как мы видим, *среднее отличие пропорций* между группами довольно большое, а p_value не удовлетворяет минимальной границе проверки (0.05). Тем самым можем сказать, что **статистическая разница долей присутсвует**. При условии уже выявленных недочетов проведения теста, проверим равенство долей на каждом из этапов."
   ]
  },
  {
   "cell_type": "code",
   "execution_count": 90,
   "id": "5a7ee288",
   "metadata": {},
   "outputs": [],
   "source": [
    "#Создадим функцию, которая бы фильтровала датасет по группе сравнения, группировала по названию действия и считала число уникальных\n",
    "#пользователей, совершивших это действие. \n",
    "def groupping(row):\n",
    "    data_1 = data_user_eu[data_user_eu['group'] == row]\\\n",
    "            .groupby('event_name')\\\n",
    "            .agg({'user_id':'nunique'})\\\n",
    "            .reset_index()\\\n",
    "            .sort_values(by='user_id', ascending=False)\n",
    "    #добавляем столбец с общим числом пользователей в фильтруемой группе\n",
    "    data_1['total'] = len(data_user_eu[data_user_eu['group'] == row]['user_id'].unique())\n",
    "    #Считаем долю пользователей, совершивших действие от общего числа пользователей\n",
    "    data_1['share'] = round(\n",
    "        (data_1['user_id'] / data_1['total'])*100,2) \n",
    "    #считаем изменение доли пользователей по сравнению с прошлым шагом\n",
    "    data_1['share_change'] = round((data_1['user_id']/data_1['user_id'].shift())*100, 2)\n",
    "    #заполним самую первую итарацию изменения доли первого шага на 100% , так как до этого шага не было других шагов\n",
    "    data_1['share_change'] = data_1['share_change'].fillna(100)\n",
    "    return data_1   "
   ]
  },
  {
   "cell_type": "code",
   "execution_count": 91,
   "id": "8a90e3fe",
   "metadata": {},
   "outputs": [],
   "source": [
    "#Формируем таблицу с группой A\n",
    "data_a = groupping('A')\n",
    "#Формируем таблицу с группой B\n",
    "data_b = groupping('B')"
   ]
  },
  {
   "cell_type": "code",
   "execution_count": 92,
   "id": "6560cda6",
   "metadata": {},
   "outputs": [],
   "source": [
    "#Отсортируем по порядку событий\n",
    "data_a['order'] = data_a['event_name'].apply(order)    \n",
    "data_a = data_a.sort_values(by='order').reset_index()\n",
    "data_b['order'] = data_b['event_name'].apply(order)    \n",
    "data_b = data_b.sort_values(by='order').reset_index()"
   ]
  },
  {
   "cell_type": "markdown",
   "id": "d0a297d8",
   "metadata": {},
   "source": [
    "Проведем A/B тест."
   ]
  },
  {
   "cell_type": "markdown",
   "id": "62faef20",
   "metadata": {},
   "source": [
    "Сформулируем гипотезы:\n",
    "\n",
    "**Н0**: между долями в событиях в группах нет разницы\\\n",
    "**Н1**: между долями в событиях в группах есть разница"
   ]
  },
  {
   "cell_type": "code",
   "execution_count": 93,
   "id": "6629ea00",
   "metadata": {},
   "outputs": [],
   "source": [
    "#Для удобства проведения теста создадим функцию.\n",
    "#Передадим переменной events_unique уникальные значения событий, по которым требуется провести тест. Нас интересуют три.\n",
    "\n",
    "events_unique =    data_a['event_name'].unique().tolist()\n",
    "#Фкнции передадим 4 переменные:\n",
    "#1)данные с первой группой\n",
    "#2)данные со второй группы\n",
    "#3)критический уровень статитистической значимости. Принято выбирать значения в 0.05 или в 0.01. Для более обширного теста возьмем значение 0.05\n",
    "#4)коэфициент поправки на кол-во пар сравений. Данный показатель будет учавстсовать в проверке p_value и alpha, деленное на это кол-во.\n",
    "def stattest_groups(df_1, df2, alpha, adjustment):\n",
    "    \n",
    "    for value in range(len(events_unique)):\n",
    "        count = [df_1['user_id'][value], df2['user_id'][value]]\n",
    "        nobs = [df_1['total'][0], df2['total'][0]]\n",
    "        stat, pval = proportions_ztest(count, nobs)\n",
    "        print()\n",
    "        print(f'P_value на стадии {events_unique[value]} равен:')\n",
    "        print(round(pval, 4))\n",
    "        if pval < alpha/adjustment:\n",
    "            print('Отвергаем нулевую гипотезу, между долями есть разница.')\n",
    "        else:\n",
    "            print('Не отвергаем нулевую гипотезу, между долями нет разницы.')"
   ]
  },
  {
   "cell_type": "code",
   "execution_count": 94,
   "id": "e84abe36",
   "metadata": {},
   "outputs": [
    {
     "name": "stdout",
     "output_type": "stream",
     "text": [
      "\n",
      "P_value на стадии login равен:\n",
      "0.0853\n",
      "Не отвергаем нулевую гипотезу, между долями нет разницы.\n",
      "\n",
      "P_value на стадии product_page равен:\n",
      "0.0\n",
      "Отвергаем нулевую гипотезу, между долями есть разница.\n",
      "\n",
      "P_value на стадии product_cart равен:\n",
      "0.269\n",
      "Не отвергаем нулевую гипотезу, между долями нет разницы.\n",
      "\n",
      "P_value на стадии purchase равен:\n",
      "0.2404\n",
      "Не отвергаем нулевую гипотезу, между долями нет разницы.\n"
     ]
    }
   ],
   "source": [
    "#Выведем результат теста сравнения групп A и B без учёта поправки на кол-во пар сравнения\n",
    "stattest_groups(data_a, data_b, 0.05, 4)"
   ]
  },
  {
   "cell_type": "markdown",
   "id": "ce4ac912",
   "metadata": {},
   "source": [
    "На основании результата тестов можем сделать вывод о том, что тест *требует повторного проведения или доработок*. На всех стадиях мы видим, что группы не отличаются, кроме стадии *страницы продукта*. Тест показал сильное отличие долей, плюс ранее мы изучили воронку событий и убедились, что сильнейшая разница между долями присутствует именно на этом этапе : количество пользователей на стадии перехода на страницу с продуктом из группы *B* ушло **больше**, чем из группы *А*. Это и показал z-тест. Однако все последующие этапы показали **отсутствие** разницы между группами."
   ]
  },
  {
   "cell_type": "markdown",
   "id": "4be812d4",
   "metadata": {},
   "source": [
    "Таким образом, можем говорить о том, что A/B тест можно признать **не удачным**. Разница между группами была замечена только на стадии изучения изменения конверсии пользователей при переходе на страницу с товаром. Этого недостаточно для полноценного вывода о том, что новая система только ухудшила состояние.  Требуется совершить следующие шаги:\n",
    "\n",
    "1) Более чётко сформулировать принцип деления пользователей на группы;\\\n",
    "2) Следить за тем, чтобы на действия пользователей не влияли внешние факторы : технические перебои работы альтернативной системы, маркетинговые мероприятия, акции и прочее;\\\n",
    "3) Следить за тем, чтобы группы *не пересекались*;\\\n",
    "4) Следить за тем, чтобы пользователи *не были участниками* сразу нескольких тестовых групп;\\\n",
    "5) Следить за тем, чтобы статистического различия долей *не было*;\\\n",
    "6) Увеличить число пользователей в тестовых группах или увеличить период тестирования. \n",
    "\n",
    "Этот минимальный набор требований необходим для успешного проведения A/B теста. На данном этапе A/B тест *можно считать не удачным*. Требуется повторное проведение теста.\\\n",
    "При прочих равных условиях можем сделать **предположение**, что новая система не эффективна и потеря клиентов на стадии перехода на страницу с товаром не случайна. Это может быть причиной не только прямой неудачной интеграции новой системы, но внешние факторы : так как тест попал на рождественскую и новогоднюю акцию, пользователи уходили с ресурса на стадии страницы товара из-за высокой цены (конкуренты давали новогодние акции, скидки, которых не было у исследуемой компании). Зачастую даже минимальная скидка уже более сильно располагает клиента к покупке, особенно когда он этого ожидает (праздники). Другим внешним фактором может быть неудачный выбор периода теста. Конец года не лучший вариант для изменений : предновогодняя рабочая суета, отпуска и так далее. В качестве рекомендаций благоприятным временем для тестов является пост-новогодний период - начало Февраля. Так же стоит рассмотреть более детально причины отсутствия активности уже 30 декабря, хотя тест проводился до 4 января. Скорее всего, новых клиентов набралось недостаточное количество и их приход был слишком неравномерным, что все действия они совершали до 30 декабря. В таком случае, нужно проверить техническое  состояние сайта в эти дни : новые пользователи под конец года не могли зарегистрироваться и так далее. Либо причина в том, что 14 дней в качестве выбора жизненного цикла слишком мал для анализа. Возможно из-за особенностей товара клиенту требуется больше времени на обдумывание и принятие решения. Возможно, стоит увеличить lifetime до 3-4 недель. "
   ]
  },
  {
   "cell_type": "markdown",
   "id": "18762125",
   "metadata": {},
   "source": [
    "<a id=\"conclusion\"></a>  \n",
    "## Вывод"
   ]
  },
  {
   "cell_type": "markdown",
   "id": "77fc2f1b",
   "metadata": {},
   "source": [
    "При выгрузке данных была проведена предварительная подготовка данных к анализу: \n",
    "1) Были выявлены пропуски. Было решено их оставить, так как их наличие не влияло на результат анализа;\\\n",
    "2) Некоторые колонки с данными были приведены к нужному формату данных для дальнейшего анализа. \n",
    "\n",
    "Данные для анализа клиентов имеют большое число недочётов и несоответствий ТЗ.\\\n",
    "При фильтрации данных согласно условиям мы получили:\n",
    "\n",
    "1) Аудитория: 15% новых пользователей из региона EU - **выполнена**;\\\n",
    "2) Ожидаемое количество участников теста: 6000 - **не выполнена**;\\\n",
    "3) За 14 дней с момента регистрации пользователи покажут улучшение каждой метрики не менее, чем на 10% - **не выполнена**. Новая группа показала результат хуже;\\\n",
    "4) Время проведения теста не совпадает с маркетинговыми и другими активностями - **не выполнена**. Пересечения присутствуют;\\\n",
    "5) Нет пересечений с конкурирующим тестом и нет пользователей, участвующих в двух группах теста одновременно - **не выполненно**. Пересечения присутствуют;\\\n",
    "6) Количество событий на пользователя одинаково распределены в выборках - **не выполнено**;\\\n",
    "7) Количество действий распределено по дням **не равномерно**;\\\n",
    "8) Конверсия в воронке в выборках на разных этапах **не показала улучшение у новой группы**.\n",
    "\n",
    "На данном этапе можно говорить о некорректной подготовке данных для анализа A/B теста и сделать предположение об неэффективности новой системы. \n",
    "\n",
    "A/B тест можно признать **не удачным**. Разница между группами была замечена только на стадии изучения изменения конверсии пользователей при переходе на страницу с товаром. Этого недостаточно для полноценного вывода о том, что новая система только ухудшила состояние.  Требуется совершить следующие шаги:\n",
    "\n",
    "1) Более чётко сформулировать принцип деления пользователей на группы;\\\n",
    "2) Следить за тем, чтобы на действия пользователей не влияли внешние факторы : технические перебои работы альтернативной системы, маркетинговые мероприятия, акции и прочее;\\\n",
    "3) Следить за тем, чтобы группы *не пересекались*;\\\n",
    "4) Следить за тем, чтобы пользователи *не были участниками* сразу нескольких тестовых групп;\\\n",
    "5) Следить за тем, чтобы статистического различия долей *не было*;\\\n",
    "6) Увеличить число пользователей в тестовых группах или увеличить период тестирования. \n",
    "\n",
    "Этот минимальный набор требований необходим для успешного проведения A/B теста. На данном этапе A/B тест *можно считать не удачным*. Требуется повторное проведение теста.\\\n",
    "При прочих равных условиях можем сделать **предположение**, что новая система не эффективна и потеря клиентов на стадии перехода на страницу с товаром не случайна. Это может быть причиной не только прямой неудачной интеграции новой системы, но внешние факторы : так как тест попал на рождественскую и новогоднюю акцию, пользователи уходили с ресурса на стадии страницы товара из-за высокой цены (конкуренты давали новогодние акции, скидки, которых не было у исследуемой компании). Зачастую даже минимальная скидка уже более сильно располагает клиента к покупке, особенно когда он этого ожидает (праздники). Другим внешним фактором может быть неудачный выбор периода теста. Конец года не лучший вариант для изменений : предновогодняя рабочая суета, отпуска и так далее. В качестве рекомендаций благоприятным временем для тестов является пост-новогодний период - начало Февраля. Так же стоит рассмотреть более детально причины отсутствия активности уже 30 декабря, хотя тест проводился до 4 января. Скорее всего, новых клиентов набралось недостаточное количество и их приход был слишком неравномерным, что все действия они совершали до 30 декабря. В таком случае, нужно проверить техническое  состояние сайта в эти дни : новые пользователи под конец года не могли зарегистрироваться и так далее. Либо причина в том, что 14 дней в качестве выбора жизненного цикла слишком мал для анализа. Возможно из-за особенностей товара клиенту требуется больше времени на обдумывание и принятие решения. Возможно, стоит увеличить lifetime до 3-4 недель. "
   ]
  }
 ],
 "metadata": {
  "ExecuteTimeLog": [
   {
    "duration": 1329,
    "start_time": "2022-12-18T16:17:55.703Z"
   },
   {
    "duration": 3736,
    "start_time": "2022-12-18T16:17:57.045Z"
   },
   {
    "duration": 4,
    "start_time": "2022-12-18T16:18:00.783Z"
   },
   {
    "duration": 53,
    "start_time": "2022-12-18T16:18:00.790Z"
   },
   {
    "duration": 15,
    "start_time": "2022-12-18T16:18:00.845Z"
   },
   {
    "duration": 25,
    "start_time": "2022-12-18T16:18:00.862Z"
   },
   {
    "duration": 26,
    "start_time": "2022-12-18T16:18:00.889Z"
   },
   {
    "duration": 9,
    "start_time": "2022-12-18T16:18:00.917Z"
   },
   {
    "duration": 65,
    "start_time": "2022-12-18T16:18:00.928Z"
   },
   {
    "duration": 7,
    "start_time": "2022-12-18T16:18:00.997Z"
   },
   {
    "duration": 22,
    "start_time": "2022-12-18T16:18:01.005Z"
   },
   {
    "duration": 120,
    "start_time": "2022-12-18T16:18:01.029Z"
   },
   {
    "duration": 11,
    "start_time": "2022-12-18T16:18:01.150Z"
   },
   {
    "duration": 36,
    "start_time": "2022-12-18T16:18:01.162Z"
   },
   {
    "duration": 607,
    "start_time": "2022-12-18T16:18:01.200Z"
   },
   {
    "duration": 25,
    "start_time": "2022-12-18T16:18:01.809Z"
   },
   {
    "duration": 266,
    "start_time": "2022-12-18T16:18:01.836Z"
   },
   {
    "duration": 22,
    "start_time": "2022-12-18T16:18:02.104Z"
   },
   {
    "duration": 22,
    "start_time": "2022-12-18T16:18:02.127Z"
   },
   {
    "duration": 56,
    "start_time": "2022-12-18T16:18:02.150Z"
   },
   {
    "duration": 238,
    "start_time": "2022-12-18T16:18:02.208Z"
   },
   {
    "duration": 30,
    "start_time": "2022-12-18T16:18:02.448Z"
   },
   {
    "duration": 11,
    "start_time": "2022-12-18T16:18:02.479Z"
   },
   {
    "duration": 14,
    "start_time": "2022-12-18T16:18:02.492Z"
   },
   {
    "duration": 437,
    "start_time": "2022-12-18T16:18:02.508Z"
   },
   {
    "duration": 20,
    "start_time": "2022-12-18T16:18:02.947Z"
   },
   {
    "duration": 19,
    "start_time": "2022-12-18T16:18:02.968Z"
   },
   {
    "duration": 15,
    "start_time": "2022-12-18T16:18:02.991Z"
   },
   {
    "duration": 11,
    "start_time": "2022-12-18T16:18:03.007Z"
   },
   {
    "duration": 64,
    "start_time": "2022-12-18T16:18:03.020Z"
   },
   {
    "duration": 47,
    "start_time": "2022-12-18T16:18:03.086Z"
   },
   {
    "duration": 387,
    "start_time": "2022-12-18T16:18:03.134Z"
   },
   {
    "duration": 12,
    "start_time": "2022-12-18T16:18:03.522Z"
   },
   {
    "duration": 577,
    "start_time": "2022-12-18T16:18:03.536Z"
   },
   {
    "duration": 159,
    "start_time": "2022-12-18T16:18:04.115Z"
   },
   {
    "duration": 36,
    "start_time": "2022-12-18T16:18:04.276Z"
   },
   {
    "duration": 31,
    "start_time": "2022-12-18T16:18:04.313Z"
   },
   {
    "duration": 13,
    "start_time": "2022-12-18T16:18:04.345Z"
   },
   {
    "duration": 10,
    "start_time": "2022-12-18T16:18:04.378Z"
   },
   {
    "duration": 41,
    "start_time": "2022-12-18T16:18:04.389Z"
   },
   {
    "duration": 49,
    "start_time": "2022-12-18T16:18:04.432Z"
   },
   {
    "duration": 10,
    "start_time": "2022-12-18T16:18:04.483Z"
   },
   {
    "duration": 4,
    "start_time": "2022-12-18T16:18:04.494Z"
   },
   {
    "duration": 35,
    "start_time": "2022-12-18T16:18:04.500Z"
   },
   {
    "duration": 6,
    "start_time": "2022-12-18T16:18:04.537Z"
   },
   {
    "duration": 12,
    "start_time": "2022-12-18T16:18:04.545Z"
   },
   {
    "duration": 1395,
    "start_time": "2022-12-18T16:53:23.334Z"
   },
   {
    "duration": 1246,
    "start_time": "2022-12-18T16:53:24.731Z"
   },
   {
    "duration": 4,
    "start_time": "2022-12-18T16:53:25.979Z"
   },
   {
    "duration": 16,
    "start_time": "2022-12-18T16:53:25.985Z"
   },
   {
    "duration": 8,
    "start_time": "2022-12-18T16:53:26.003Z"
   },
   {
    "duration": 11,
    "start_time": "2022-12-18T16:53:26.013Z"
   },
   {
    "duration": 8,
    "start_time": "2022-12-18T16:53:26.026Z"
   },
   {
    "duration": 7,
    "start_time": "2022-12-18T16:53:26.036Z"
   },
   {
    "duration": 41,
    "start_time": "2022-12-18T16:53:26.044Z"
   },
   {
    "duration": 5,
    "start_time": "2022-12-18T16:53:26.087Z"
   },
   {
    "duration": 7,
    "start_time": "2022-12-18T16:53:26.111Z"
   },
   {
    "duration": 111,
    "start_time": "2022-12-18T16:53:26.119Z"
   },
   {
    "duration": 11,
    "start_time": "2022-12-18T16:53:26.232Z"
   },
   {
    "duration": 19,
    "start_time": "2022-12-18T16:53:26.245Z"
   },
   {
    "duration": 693,
    "start_time": "2022-12-18T16:53:26.266Z"
   },
   {
    "duration": 26,
    "start_time": "2022-12-18T16:53:26.960Z"
   },
   {
    "duration": 275,
    "start_time": "2022-12-18T16:53:26.988Z"
   },
   {
    "duration": 20,
    "start_time": "2022-12-18T16:53:27.265Z"
   },
   {
    "duration": 35,
    "start_time": "2022-12-18T16:53:27.287Z"
   },
   {
    "duration": 36,
    "start_time": "2022-12-18T16:53:27.324Z"
   },
   {
    "duration": 271,
    "start_time": "2022-12-18T16:53:27.362Z"
   },
   {
    "duration": 22,
    "start_time": "2022-12-18T16:53:27.635Z"
   },
   {
    "duration": 10,
    "start_time": "2022-12-18T16:53:27.659Z"
   },
   {
    "duration": 17,
    "start_time": "2022-12-18T16:53:27.671Z"
   },
   {
    "duration": 398,
    "start_time": "2022-12-18T16:53:27.689Z"
   },
   {
    "duration": 28,
    "start_time": "2022-12-18T16:53:28.088Z"
   },
   {
    "duration": 16,
    "start_time": "2022-12-18T16:53:28.117Z"
   },
   {
    "duration": 18,
    "start_time": "2022-12-18T16:53:28.136Z"
   },
   {
    "duration": 63,
    "start_time": "2022-12-18T16:53:28.156Z"
   },
   {
    "duration": 11,
    "start_time": "2022-12-18T16:53:28.220Z"
   },
   {
    "duration": 82,
    "start_time": "2022-12-18T16:53:28.233Z"
   },
   {
    "duration": 413,
    "start_time": "2022-12-18T16:53:28.317Z"
   },
   {
    "duration": 14,
    "start_time": "2022-12-18T16:53:28.732Z"
   },
   {
    "duration": 618,
    "start_time": "2022-12-18T16:53:28.747Z"
   },
   {
    "duration": 77,
    "start_time": "2022-12-18T16:53:29.366Z"
   },
   {
    "duration": 50,
    "start_time": "2022-12-18T16:53:29.445Z"
   },
   {
    "duration": 54,
    "start_time": "2022-12-18T16:53:29.497Z"
   },
   {
    "duration": 17,
    "start_time": "2022-12-18T16:53:29.553Z"
   },
   {
    "duration": 8,
    "start_time": "2022-12-18T16:53:29.572Z"
   },
   {
    "duration": 68,
    "start_time": "2022-12-18T16:53:29.582Z"
   },
   {
    "duration": 61,
    "start_time": "2022-12-18T16:53:29.652Z"
   },
   {
    "duration": 12,
    "start_time": "2022-12-18T16:53:29.714Z"
   },
   {
    "duration": 18,
    "start_time": "2022-12-18T16:53:29.728Z"
   },
   {
    "duration": 52,
    "start_time": "2022-12-18T16:53:29.748Z"
   },
   {
    "duration": 6,
    "start_time": "2022-12-18T16:53:29.801Z"
   },
   {
    "duration": 17,
    "start_time": "2022-12-18T16:53:29.808Z"
   },
   {
    "duration": 10,
    "start_time": "2022-12-18T18:31:14.301Z"
   },
   {
    "duration": 44,
    "start_time": "2022-12-18T18:31:28.656Z"
   },
   {
    "duration": 10,
    "start_time": "2022-12-18T18:32:23.682Z"
   },
   {
    "duration": 50,
    "start_time": "2022-12-18T18:32:24.922Z"
   },
   {
    "duration": 1199,
    "start_time": "2022-12-18T18:32:44.935Z"
   },
   {
    "duration": 1106,
    "start_time": "2022-12-18T18:32:46.135Z"
   },
   {
    "duration": 4,
    "start_time": "2022-12-18T18:32:47.243Z"
   },
   {
    "duration": 28,
    "start_time": "2022-12-18T18:32:47.249Z"
   },
   {
    "duration": 10,
    "start_time": "2022-12-18T18:32:47.280Z"
   },
   {
    "duration": 10,
    "start_time": "2022-12-18T18:32:47.292Z"
   },
   {
    "duration": 10,
    "start_time": "2022-12-18T18:32:47.303Z"
   },
   {
    "duration": 13,
    "start_time": "2022-12-18T18:32:47.315Z"
   },
   {
    "duration": 33,
    "start_time": "2022-12-18T18:32:47.329Z"
   },
   {
    "duration": 5,
    "start_time": "2022-12-18T18:32:47.364Z"
   },
   {
    "duration": 8,
    "start_time": "2022-12-18T18:32:47.371Z"
   },
   {
    "duration": 115,
    "start_time": "2022-12-18T18:32:47.382Z"
   },
   {
    "duration": 18,
    "start_time": "2022-12-18T18:32:47.499Z"
   },
   {
    "duration": 16,
    "start_time": "2022-12-18T18:32:47.520Z"
   },
   {
    "duration": 626,
    "start_time": "2022-12-18T18:32:47.538Z"
   },
   {
    "duration": 47,
    "start_time": "2022-12-18T18:32:48.166Z"
   },
   {
    "duration": 310,
    "start_time": "2022-12-18T18:32:48.215Z"
   },
   {
    "duration": 25,
    "start_time": "2022-12-18T18:32:48.527Z"
   },
   {
    "duration": 24,
    "start_time": "2022-12-18T18:32:48.554Z"
   },
   {
    "duration": 64,
    "start_time": "2022-12-18T18:32:48.580Z"
   },
   {
    "duration": 262,
    "start_time": "2022-12-18T18:32:48.646Z"
   },
   {
    "duration": 22,
    "start_time": "2022-12-18T18:32:48.912Z"
   },
   {
    "duration": 13,
    "start_time": "2022-12-18T18:32:48.936Z"
   },
   {
    "duration": 17,
    "start_time": "2022-12-18T18:32:48.951Z"
   },
   {
    "duration": 43,
    "start_time": "2022-12-18T18:32:48.970Z"
   },
   {
    "duration": 413,
    "start_time": "2022-12-18T18:32:49.015Z"
   },
   {
    "duration": 23,
    "start_time": "2022-12-18T18:32:49.429Z"
   },
   {
    "duration": 60,
    "start_time": "2022-12-18T18:32:49.454Z"
   },
   {
    "duration": 18,
    "start_time": "2022-12-18T18:32:49.515Z"
   },
   {
    "duration": 11,
    "start_time": "2022-12-18T18:32:49.535Z"
   },
   {
    "duration": 64,
    "start_time": "2022-12-18T18:32:49.548Z"
   },
   {
    "duration": 55,
    "start_time": "2022-12-18T18:32:49.614Z"
   },
   {
    "duration": 374,
    "start_time": "2022-12-18T18:32:49.671Z"
   },
   {
    "duration": 15,
    "start_time": "2022-12-18T18:32:50.048Z"
   },
   {
    "duration": 586,
    "start_time": "2022-12-18T18:32:50.065Z"
   },
   {
    "duration": 61,
    "start_time": "2022-12-18T18:32:50.653Z"
   },
   {
    "duration": 38,
    "start_time": "2022-12-18T18:32:50.716Z"
   },
   {
    "duration": 34,
    "start_time": "2022-12-18T18:32:50.756Z"
   },
   {
    "duration": 30,
    "start_time": "2022-12-18T18:32:50.792Z"
   },
   {
    "duration": 9,
    "start_time": "2022-12-18T18:32:50.824Z"
   },
   {
    "duration": 37,
    "start_time": "2022-12-18T18:32:50.836Z"
   },
   {
    "duration": 63,
    "start_time": "2022-12-18T18:32:50.874Z"
   },
   {
    "duration": 9,
    "start_time": "2022-12-18T18:32:50.939Z"
   },
   {
    "duration": 5,
    "start_time": "2022-12-18T18:32:50.950Z"
   },
   {
    "duration": 37,
    "start_time": "2022-12-18T18:32:50.956Z"
   },
   {
    "duration": 5,
    "start_time": "2022-12-18T18:32:50.994Z"
   },
   {
    "duration": 15,
    "start_time": "2022-12-18T18:32:51.001Z"
   },
   {
    "duration": 12,
    "start_time": "2022-12-18T18:34:43.667Z"
   },
   {
    "duration": 17,
    "start_time": "2022-12-18T18:36:21.304Z"
   },
   {
    "duration": 15,
    "start_time": "2022-12-18T18:36:33.457Z"
   },
   {
    "duration": 25,
    "start_time": "2022-12-18T18:36:48.464Z"
   },
   {
    "duration": 117,
    "start_time": "2022-12-18T18:43:26.188Z"
   },
   {
    "duration": 132,
    "start_time": "2022-12-18T18:44:00.340Z"
   },
   {
    "duration": 134,
    "start_time": "2022-12-18T18:44:54.787Z"
   },
   {
    "duration": 138,
    "start_time": "2022-12-18T18:45:04.738Z"
   },
   {
    "duration": 23,
    "start_time": "2022-12-18T18:49:53.127Z"
   },
   {
    "duration": 50,
    "start_time": "2022-12-18T18:57:38.209Z"
   },
   {
    "duration": 37,
    "start_time": "2022-12-18T18:57:42.328Z"
   },
   {
    "duration": 50,
    "start_time": "2022-12-18T18:58:31.841Z"
   },
   {
    "duration": 47,
    "start_time": "2022-12-18T18:58:36.508Z"
   },
   {
    "duration": 43,
    "start_time": "2022-12-18T18:58:48.472Z"
   },
   {
    "duration": 19,
    "start_time": "2022-12-18T19:04:26.001Z"
   },
   {
    "duration": 197,
    "start_time": "2022-12-18T19:05:24.819Z"
   },
   {
    "duration": 964,
    "start_time": "2022-12-18T19:05:34.611Z"
   },
   {
    "duration": 15,
    "start_time": "2022-12-18T19:12:44.809Z"
   },
   {
    "duration": 602,
    "start_time": "2022-12-18T19:12:54.230Z"
   },
   {
    "duration": 8,
    "start_time": "2022-12-18T19:15:10.285Z"
   },
   {
    "duration": 20,
    "start_time": "2022-12-18T19:16:42.747Z"
   },
   {
    "duration": 19,
    "start_time": "2022-12-18T19:17:10.988Z"
   },
   {
    "duration": 16,
    "start_time": "2022-12-18T19:17:59.492Z"
   },
   {
    "duration": 13,
    "start_time": "2022-12-18T19:18:18.499Z"
   },
   {
    "duration": 13,
    "start_time": "2022-12-18T19:19:26.626Z"
   },
   {
    "duration": 27,
    "start_time": "2022-12-18T19:19:57.985Z"
   },
   {
    "duration": 27,
    "start_time": "2022-12-18T19:20:04.689Z"
   },
   {
    "duration": 34,
    "start_time": "2022-12-18T19:20:25.802Z"
   },
   {
    "duration": 6,
    "start_time": "2022-12-18T19:20:50.747Z"
   },
   {
    "duration": 23,
    "start_time": "2022-12-18T19:20:57.680Z"
   },
   {
    "duration": 29,
    "start_time": "2022-12-18T19:21:13.113Z"
   },
   {
    "duration": 7,
    "start_time": "2022-12-18T19:21:20.160Z"
   },
   {
    "duration": 335,
    "start_time": "2022-12-18T19:21:47.712Z"
   },
   {
    "duration": 6,
    "start_time": "2022-12-18T19:21:52.647Z"
   },
   {
    "duration": 1324,
    "start_time": "2022-12-18T19:22:25.985Z"
   },
   {
    "duration": 1018,
    "start_time": "2022-12-18T19:22:27.312Z"
   },
   {
    "duration": 3,
    "start_time": "2022-12-18T19:22:28.332Z"
   },
   {
    "duration": 19,
    "start_time": "2022-12-18T19:22:28.336Z"
   },
   {
    "duration": 8,
    "start_time": "2022-12-18T19:22:28.357Z"
   },
   {
    "duration": 11,
    "start_time": "2022-12-18T19:22:28.367Z"
   },
   {
    "duration": 8,
    "start_time": "2022-12-18T19:22:28.380Z"
   },
   {
    "duration": 24,
    "start_time": "2022-12-18T19:22:28.390Z"
   },
   {
    "duration": 38,
    "start_time": "2022-12-18T19:22:28.416Z"
   },
   {
    "duration": 5,
    "start_time": "2022-12-18T19:22:28.456Z"
   },
   {
    "duration": 9,
    "start_time": "2022-12-18T19:22:28.463Z"
   },
   {
    "duration": 111,
    "start_time": "2022-12-18T19:22:28.473Z"
   },
   {
    "duration": 10,
    "start_time": "2022-12-18T19:22:28.586Z"
   },
   {
    "duration": 16,
    "start_time": "2022-12-18T19:22:28.615Z"
   },
   {
    "duration": 705,
    "start_time": "2022-12-18T19:22:28.633Z"
   },
   {
    "duration": 33,
    "start_time": "2022-12-18T19:22:29.339Z"
   },
   {
    "duration": 334,
    "start_time": "2022-12-18T19:22:29.373Z"
   },
   {
    "duration": 24,
    "start_time": "2022-12-18T19:22:29.708Z"
   },
   {
    "duration": 26,
    "start_time": "2022-12-18T19:22:29.733Z"
   },
   {
    "duration": 62,
    "start_time": "2022-12-18T19:22:29.761Z"
   },
   {
    "duration": 293,
    "start_time": "2022-12-18T19:22:29.825Z"
   },
   {
    "duration": 23,
    "start_time": "2022-12-18T19:22:30.120Z"
   },
   {
    "duration": 13,
    "start_time": "2022-12-18T19:22:30.145Z"
   },
   {
    "duration": 27,
    "start_time": "2022-12-18T19:22:30.160Z"
   },
   {
    "duration": 33,
    "start_time": "2022-12-18T19:22:30.189Z"
   },
   {
    "duration": 153,
    "start_time": "2022-12-18T19:22:30.224Z"
   },
   {
    "duration": 34,
    "start_time": "2022-12-18T19:22:30.379Z"
   },
   {
    "duration": 16,
    "start_time": "2022-12-18T19:22:30.415Z"
   },
   {
    "duration": 21,
    "start_time": "2022-12-18T19:22:30.432Z"
   },
   {
    "duration": 13,
    "start_time": "2022-12-18T19:22:30.454Z"
   },
   {
    "duration": 16,
    "start_time": "2022-12-18T19:22:30.469Z"
   },
   {
    "duration": 402,
    "start_time": "2022-12-18T19:22:30.487Z"
   },
   {
    "duration": 15,
    "start_time": "2022-12-18T19:22:30.891Z"
   },
   {
    "duration": 651,
    "start_time": "2022-12-18T19:22:30.908Z"
   },
   {
    "duration": 13,
    "start_time": "2022-12-18T19:22:31.561Z"
   },
   {
    "duration": 6,
    "start_time": "2022-12-18T19:22:31.576Z"
   },
   {
    "duration": 369,
    "start_time": "2022-12-18T19:22:31.583Z"
   },
   {
    "duration": 64,
    "start_time": "2022-12-18T19:22:31.954Z"
   },
   {
    "duration": 40,
    "start_time": "2022-12-18T19:22:32.020Z"
   },
   {
    "duration": 55,
    "start_time": "2022-12-18T19:22:32.062Z"
   },
   {
    "duration": 164,
    "start_time": "2022-12-18T19:22:32.120Z"
   },
   {
    "duration": 0,
    "start_time": "2022-12-18T19:22:32.285Z"
   },
   {
    "duration": 0,
    "start_time": "2022-12-18T19:22:32.286Z"
   },
   {
    "duration": 0,
    "start_time": "2022-12-18T19:22:32.287Z"
   },
   {
    "duration": 0,
    "start_time": "2022-12-18T19:22:32.289Z"
   },
   {
    "duration": 0,
    "start_time": "2022-12-18T19:22:32.290Z"
   },
   {
    "duration": 0,
    "start_time": "2022-12-18T19:22:32.291Z"
   },
   {
    "duration": 4475,
    "start_time": "2022-12-18T19:31:09.361Z"
   },
   {
    "duration": 12,
    "start_time": "2022-12-18T19:31:47.400Z"
   },
   {
    "duration": 6155,
    "start_time": "2022-12-18T19:31:55.640Z"
   },
   {
    "duration": 1243,
    "start_time": "2022-12-18T19:32:06.148Z"
   },
   {
    "duration": 1104,
    "start_time": "2022-12-18T19:32:07.393Z"
   },
   {
    "duration": 3,
    "start_time": "2022-12-18T19:32:08.499Z"
   },
   {
    "duration": 15,
    "start_time": "2022-12-18T19:32:08.504Z"
   },
   {
    "duration": 9,
    "start_time": "2022-12-18T19:32:08.521Z"
   },
   {
    "duration": 28,
    "start_time": "2022-12-18T19:32:08.532Z"
   },
   {
    "duration": 12,
    "start_time": "2022-12-18T19:32:08.562Z"
   },
   {
    "duration": 5,
    "start_time": "2022-12-18T19:32:08.575Z"
   },
   {
    "duration": 35,
    "start_time": "2022-12-18T19:32:08.581Z"
   },
   {
    "duration": 4,
    "start_time": "2022-12-18T19:32:08.618Z"
   },
   {
    "duration": 19,
    "start_time": "2022-12-18T19:32:08.624Z"
   },
   {
    "duration": 89,
    "start_time": "2022-12-18T19:32:08.644Z"
   },
   {
    "duration": 8,
    "start_time": "2022-12-18T19:32:08.735Z"
   },
   {
    "duration": 18,
    "start_time": "2022-12-18T19:32:08.745Z"
   },
   {
    "duration": 657,
    "start_time": "2022-12-18T19:32:08.765Z"
   },
   {
    "duration": 25,
    "start_time": "2022-12-18T19:32:09.424Z"
   },
   {
    "duration": 274,
    "start_time": "2022-12-18T19:32:09.451Z"
   },
   {
    "duration": 21,
    "start_time": "2022-12-18T19:32:09.727Z"
   },
   {
    "duration": 24,
    "start_time": "2022-12-18T19:32:09.750Z"
   },
   {
    "duration": 58,
    "start_time": "2022-12-18T19:32:09.776Z"
   },
   {
    "duration": 263,
    "start_time": "2022-12-18T19:32:09.836Z"
   },
   {
    "duration": 31,
    "start_time": "2022-12-18T19:32:10.102Z"
   },
   {
    "duration": 14,
    "start_time": "2022-12-18T19:32:10.134Z"
   },
   {
    "duration": 16,
    "start_time": "2022-12-18T19:32:10.150Z"
   },
   {
    "duration": 12,
    "start_time": "2022-12-18T19:32:10.168Z"
   },
   {
    "duration": 168,
    "start_time": "2022-12-18T19:32:10.182Z"
   },
   {
    "duration": 20,
    "start_time": "2022-12-18T19:32:10.352Z"
   },
   {
    "duration": 39,
    "start_time": "2022-12-18T19:32:10.375Z"
   },
   {
    "duration": 17,
    "start_time": "2022-12-18T19:32:10.415Z"
   },
   {
    "duration": 9,
    "start_time": "2022-12-18T19:32:10.434Z"
   },
   {
    "duration": 9,
    "start_time": "2022-12-18T19:32:10.445Z"
   },
   {
    "duration": 394,
    "start_time": "2022-12-18T19:32:10.456Z"
   },
   {
    "duration": 14,
    "start_time": "2022-12-18T19:32:10.852Z"
   },
   {
    "duration": 661,
    "start_time": "2022-12-18T19:32:10.868Z"
   },
   {
    "duration": 13,
    "start_time": "2022-12-18T19:32:11.531Z"
   },
   {
    "duration": 5,
    "start_time": "2022-12-18T19:32:11.546Z"
   },
   {
    "duration": 373,
    "start_time": "2022-12-18T19:32:11.553Z"
   },
   {
    "duration": 6222,
    "start_time": "2022-12-18T19:32:11.928Z"
   },
   {
    "duration": 63,
    "start_time": "2022-12-18T19:32:18.152Z"
   },
   {
    "duration": 37,
    "start_time": "2022-12-18T19:32:18.217Z"
   },
   {
    "duration": 32,
    "start_time": "2022-12-18T19:32:18.256Z"
   },
   {
    "duration": 175,
    "start_time": "2022-12-18T19:32:18.289Z"
   },
   {
    "duration": 0,
    "start_time": "2022-12-18T19:32:18.466Z"
   },
   {
    "duration": 0,
    "start_time": "2022-12-18T19:32:18.467Z"
   },
   {
    "duration": 0,
    "start_time": "2022-12-18T19:32:18.468Z"
   },
   {
    "duration": 0,
    "start_time": "2022-12-18T19:32:18.468Z"
   },
   {
    "duration": 0,
    "start_time": "2022-12-18T19:32:18.469Z"
   },
   {
    "duration": 0,
    "start_time": "2022-12-18T19:32:18.470Z"
   },
   {
    "duration": 12,
    "start_time": "2022-12-18T19:32:49.144Z"
   },
   {
    "duration": 22981,
    "start_time": "2022-12-18T19:34:23.878Z"
   },
   {
    "duration": 8,
    "start_time": "2022-12-18T19:35:19.846Z"
   },
   {
    "duration": 21,
    "start_time": "2022-12-18T19:36:20.469Z"
   },
   {
    "duration": 20,
    "start_time": "2022-12-18T19:36:35.902Z"
   },
   {
    "duration": 19,
    "start_time": "2022-12-18T19:37:20.613Z"
   },
   {
    "duration": 6425,
    "start_time": "2022-12-18T19:37:53.285Z"
   },
   {
    "duration": 326,
    "start_time": "2022-12-18T19:38:27.800Z"
   },
   {
    "duration": 4,
    "start_time": "2022-12-18T19:39:11.388Z"
   },
   {
    "duration": 16,
    "start_time": "2022-12-18T19:39:42.440Z"
   },
   {
    "duration": 1432,
    "start_time": "2022-12-18T19:39:56.127Z"
   },
   {
    "duration": 1169,
    "start_time": "2022-12-18T19:39:57.562Z"
   },
   {
    "duration": 4,
    "start_time": "2022-12-18T19:39:58.734Z"
   },
   {
    "duration": 28,
    "start_time": "2022-12-18T19:39:58.740Z"
   },
   {
    "duration": 11,
    "start_time": "2022-12-18T19:39:58.771Z"
   },
   {
    "duration": 10,
    "start_time": "2022-12-18T19:39:58.784Z"
   },
   {
    "duration": 11,
    "start_time": "2022-12-18T19:39:58.811Z"
   },
   {
    "duration": 8,
    "start_time": "2022-12-18T19:39:58.825Z"
   },
   {
    "duration": 51,
    "start_time": "2022-12-18T19:39:58.836Z"
   },
   {
    "duration": 30,
    "start_time": "2022-12-18T19:39:58.889Z"
   },
   {
    "duration": 15,
    "start_time": "2022-12-18T19:39:58.921Z"
   },
   {
    "duration": 136,
    "start_time": "2022-12-18T19:39:58.937Z"
   },
   {
    "duration": 10,
    "start_time": "2022-12-18T19:39:59.075Z"
   },
   {
    "duration": 19,
    "start_time": "2022-12-18T19:39:59.111Z"
   },
   {
    "duration": 792,
    "start_time": "2022-12-18T19:39:59.132Z"
   },
   {
    "duration": 28,
    "start_time": "2022-12-18T19:39:59.926Z"
   },
   {
    "duration": 331,
    "start_time": "2022-12-18T19:39:59.956Z"
   },
   {
    "duration": 36,
    "start_time": "2022-12-18T19:40:00.289Z"
   },
   {
    "duration": 36,
    "start_time": "2022-12-18T19:40:00.328Z"
   },
   {
    "duration": 63,
    "start_time": "2022-12-18T19:40:00.366Z"
   },
   {
    "duration": 410,
    "start_time": "2022-12-18T19:40:00.431Z"
   },
   {
    "duration": 27,
    "start_time": "2022-12-18T19:40:00.843Z"
   },
   {
    "duration": 15,
    "start_time": "2022-12-18T19:40:00.873Z"
   },
   {
    "duration": 58,
    "start_time": "2022-12-18T19:40:00.890Z"
   },
   {
    "duration": 14,
    "start_time": "2022-12-18T19:40:00.951Z"
   },
   {
    "duration": 158,
    "start_time": "2022-12-18T19:40:00.967Z"
   },
   {
    "duration": 28,
    "start_time": "2022-12-18T19:40:01.126Z"
   },
   {
    "duration": 31,
    "start_time": "2022-12-18T19:40:01.156Z"
   },
   {
    "duration": 46,
    "start_time": "2022-12-18T19:40:01.189Z"
   },
   {
    "duration": 37,
    "start_time": "2022-12-18T19:40:01.237Z"
   },
   {
    "duration": 35,
    "start_time": "2022-12-18T19:40:01.276Z"
   },
   {
    "duration": 396,
    "start_time": "2022-12-18T19:40:01.313Z"
   },
   {
    "duration": 42,
    "start_time": "2022-12-18T19:40:01.711Z"
   },
   {
    "duration": 717,
    "start_time": "2022-12-18T19:40:01.755Z"
   },
   {
    "duration": 17,
    "start_time": "2022-12-18T19:40:02.474Z"
   },
   {
    "duration": 23,
    "start_time": "2022-12-18T19:40:02.493Z"
   },
   {
    "duration": 341,
    "start_time": "2022-12-18T19:40:02.518Z"
   },
   {
    "duration": 12,
    "start_time": "2022-12-18T19:40:02.861Z"
   },
   {
    "duration": 17,
    "start_time": "2022-12-18T19:40:02.875Z"
   },
   {
    "duration": 91,
    "start_time": "2022-12-18T19:40:02.893Z"
   },
   {
    "duration": 67,
    "start_time": "2022-12-18T19:40:02.989Z"
   },
   {
    "duration": 39,
    "start_time": "2022-12-18T19:40:03.058Z"
   },
   {
    "duration": 178,
    "start_time": "2022-12-18T19:40:03.113Z"
   },
   {
    "duration": 0,
    "start_time": "2022-12-18T19:40:03.293Z"
   },
   {
    "duration": 0,
    "start_time": "2022-12-18T19:40:03.294Z"
   },
   {
    "duration": 0,
    "start_time": "2022-12-18T19:40:03.296Z"
   },
   {
    "duration": 0,
    "start_time": "2022-12-18T19:40:03.297Z"
   },
   {
    "duration": 0,
    "start_time": "2022-12-18T19:40:03.313Z"
   },
   {
    "duration": 0,
    "start_time": "2022-12-18T19:40:03.314Z"
   },
   {
    "duration": 21,
    "start_time": "2022-12-18T19:40:36.915Z"
   },
   {
    "duration": 22,
    "start_time": "2022-12-18T19:41:14.843Z"
   },
   {
    "duration": 40,
    "start_time": "2022-12-18T19:43:24.600Z"
   },
   {
    "duration": 28,
    "start_time": "2022-12-18T19:43:41.593Z"
   },
   {
    "duration": 59,
    "start_time": "2022-12-18T19:52:20.120Z"
   },
   {
    "duration": 68,
    "start_time": "2022-12-18T19:54:34.909Z"
   },
   {
    "duration": 47,
    "start_time": "2022-12-18T19:54:56.044Z"
   },
   {
    "duration": 15,
    "start_time": "2022-12-18T19:55:08.242Z"
   },
   {
    "duration": 24,
    "start_time": "2022-12-18T19:55:24.303Z"
   },
   {
    "duration": 24,
    "start_time": "2022-12-18T19:57:26.324Z"
   },
   {
    "duration": 39,
    "start_time": "2022-12-18T19:57:51.395Z"
   },
   {
    "duration": 749,
    "start_time": "2022-12-18T19:58:06.713Z"
   },
   {
    "duration": 15,
    "start_time": "2022-12-18T19:58:26.286Z"
   },
   {
    "duration": 21,
    "start_time": "2022-12-18T19:58:29.754Z"
   },
   {
    "duration": 17,
    "start_time": "2022-12-18T20:00:28.338Z"
   },
   {
    "duration": 20,
    "start_time": "2022-12-18T20:00:32.421Z"
   },
   {
    "duration": 18,
    "start_time": "2022-12-18T20:00:39.465Z"
   },
   {
    "duration": 26,
    "start_time": "2022-12-18T20:00:40.938Z"
   },
   {
    "duration": 42,
    "start_time": "2022-12-18T20:01:09.857Z"
   },
   {
    "duration": 37,
    "start_time": "2022-12-18T20:01:50.741Z"
   },
   {
    "duration": 50,
    "start_time": "2022-12-18T20:02:36.563Z"
   },
   {
    "duration": 58,
    "start_time": "2022-12-18T20:02:53.368Z"
   },
   {
    "duration": 61,
    "start_time": "2022-12-18T20:02:55.783Z"
   },
   {
    "duration": 41,
    "start_time": "2022-12-18T20:03:02.712Z"
   },
   {
    "duration": 55,
    "start_time": "2022-12-18T20:03:32.503Z"
   },
   {
    "duration": 49,
    "start_time": "2022-12-18T20:03:38.533Z"
   },
   {
    "duration": 12,
    "start_time": "2022-12-18T20:05:09.061Z"
   },
   {
    "duration": 1226,
    "start_time": "2022-12-18T20:05:12.516Z"
   },
   {
    "duration": 1409,
    "start_time": "2022-12-18T20:05:13.744Z"
   },
   {
    "duration": 3,
    "start_time": "2022-12-18T20:05:15.155Z"
   },
   {
    "duration": 25,
    "start_time": "2022-12-18T20:05:15.160Z"
   },
   {
    "duration": 9,
    "start_time": "2022-12-18T20:05:15.186Z"
   },
   {
    "duration": 12,
    "start_time": "2022-12-18T20:05:15.197Z"
   },
   {
    "duration": 14,
    "start_time": "2022-12-18T20:05:15.211Z"
   },
   {
    "duration": 6,
    "start_time": "2022-12-18T20:05:15.226Z"
   },
   {
    "duration": 36,
    "start_time": "2022-12-18T20:05:15.233Z"
   },
   {
    "duration": 5,
    "start_time": "2022-12-18T20:05:15.272Z"
   },
   {
    "duration": 9,
    "start_time": "2022-12-18T20:05:15.279Z"
   },
   {
    "duration": 108,
    "start_time": "2022-12-18T20:05:15.290Z"
   },
   {
    "duration": 23,
    "start_time": "2022-12-18T20:05:15.400Z"
   },
   {
    "duration": 22,
    "start_time": "2022-12-18T20:05:15.425Z"
   },
   {
    "duration": 688,
    "start_time": "2022-12-18T20:05:15.450Z"
   },
   {
    "duration": 27,
    "start_time": "2022-12-18T20:05:16.139Z"
   },
   {
    "duration": 384,
    "start_time": "2022-12-18T20:05:16.169Z"
   },
   {
    "duration": 31,
    "start_time": "2022-12-18T20:05:16.555Z"
   },
   {
    "duration": 48,
    "start_time": "2022-12-18T20:05:16.588Z"
   },
   {
    "duration": 47,
    "start_time": "2022-12-18T20:05:16.638Z"
   },
   {
    "duration": 296,
    "start_time": "2022-12-18T20:05:16.687Z"
   },
   {
    "duration": 34,
    "start_time": "2022-12-18T20:05:16.985Z"
   },
   {
    "duration": 12,
    "start_time": "2022-12-18T20:05:17.021Z"
   },
   {
    "duration": 24,
    "start_time": "2022-12-18T20:05:17.035Z"
   },
   {
    "duration": 14,
    "start_time": "2022-12-18T20:05:17.061Z"
   },
   {
    "duration": 175,
    "start_time": "2022-12-18T20:05:17.076Z"
   },
   {
    "duration": 24,
    "start_time": "2022-12-18T20:05:17.253Z"
   },
   {
    "duration": 43,
    "start_time": "2022-12-18T20:05:17.280Z"
   },
   {
    "duration": 17,
    "start_time": "2022-12-18T20:05:17.325Z"
   },
   {
    "duration": 13,
    "start_time": "2022-12-18T20:05:17.344Z"
   },
   {
    "duration": 10,
    "start_time": "2022-12-18T20:05:17.359Z"
   },
   {
    "duration": 420,
    "start_time": "2022-12-18T20:05:17.371Z"
   },
   {
    "duration": 15,
    "start_time": "2022-12-18T20:05:17.795Z"
   },
   {
    "duration": 714,
    "start_time": "2022-12-18T20:05:17.812Z"
   },
   {
    "duration": 13,
    "start_time": "2022-12-18T20:05:18.528Z"
   },
   {
    "duration": 6,
    "start_time": "2022-12-18T20:05:18.542Z"
   },
   {
    "duration": 388,
    "start_time": "2022-12-18T20:05:18.550Z"
   },
   {
    "duration": 21,
    "start_time": "2022-12-18T20:05:18.940Z"
   },
   {
    "duration": 18,
    "start_time": "2022-12-18T20:05:18.963Z"
   },
   {
    "duration": 80,
    "start_time": "2022-12-18T20:05:18.983Z"
   },
   {
    "duration": 58,
    "start_time": "2022-12-18T20:05:19.065Z"
   },
   {
    "duration": 47,
    "start_time": "2022-12-18T20:05:19.126Z"
   },
   {
    "duration": 205,
    "start_time": "2022-12-18T20:05:19.183Z"
   },
   {
    "duration": 0,
    "start_time": "2022-12-18T20:05:19.390Z"
   },
   {
    "duration": 0,
    "start_time": "2022-12-18T20:05:19.391Z"
   },
   {
    "duration": 0,
    "start_time": "2022-12-18T20:05:19.393Z"
   },
   {
    "duration": 0,
    "start_time": "2022-12-18T20:05:19.394Z"
   },
   {
    "duration": 12,
    "start_time": "2022-12-18T20:05:36.989Z"
   },
   {
    "duration": 1400,
    "start_time": "2022-12-18T20:05:41.413Z"
   },
   {
    "duration": 1501,
    "start_time": "2022-12-18T20:05:42.815Z"
   },
   {
    "duration": 4,
    "start_time": "2022-12-18T20:05:44.318Z"
   },
   {
    "duration": 24,
    "start_time": "2022-12-18T20:05:44.324Z"
   },
   {
    "duration": 9,
    "start_time": "2022-12-18T20:05:44.350Z"
   },
   {
    "duration": 19,
    "start_time": "2022-12-18T20:05:44.361Z"
   },
   {
    "duration": 15,
    "start_time": "2022-12-18T20:05:44.383Z"
   },
   {
    "duration": 16,
    "start_time": "2022-12-18T20:05:44.400Z"
   },
   {
    "duration": 39,
    "start_time": "2022-12-18T20:05:44.418Z"
   },
   {
    "duration": 7,
    "start_time": "2022-12-18T20:05:44.460Z"
   },
   {
    "duration": 10,
    "start_time": "2022-12-18T20:05:44.468Z"
   },
   {
    "duration": 137,
    "start_time": "2022-12-18T20:05:44.479Z"
   },
   {
    "duration": 9,
    "start_time": "2022-12-18T20:05:44.618Z"
   },
   {
    "duration": 34,
    "start_time": "2022-12-18T20:05:44.629Z"
   },
   {
    "duration": 731,
    "start_time": "2022-12-18T20:05:44.665Z"
   },
   {
    "duration": 30,
    "start_time": "2022-12-18T20:05:45.397Z"
   },
   {
    "duration": 413,
    "start_time": "2022-12-18T20:05:45.428Z"
   },
   {
    "duration": 37,
    "start_time": "2022-12-18T20:05:45.843Z"
   },
   {
    "duration": 46,
    "start_time": "2022-12-18T20:05:45.882Z"
   },
   {
    "duration": 41,
    "start_time": "2022-12-18T20:05:45.932Z"
   },
   {
    "duration": 368,
    "start_time": "2022-12-18T20:05:45.975Z"
   },
   {
    "duration": 27,
    "start_time": "2022-12-18T20:05:46.345Z"
   },
   {
    "duration": 24,
    "start_time": "2022-12-18T20:05:46.374Z"
   },
   {
    "duration": 40,
    "start_time": "2022-12-18T20:05:46.400Z"
   },
   {
    "duration": 35,
    "start_time": "2022-12-18T20:05:46.442Z"
   },
   {
    "duration": 212,
    "start_time": "2022-12-18T20:05:46.479Z"
   },
   {
    "duration": 39,
    "start_time": "2022-12-18T20:05:46.693Z"
   },
   {
    "duration": 62,
    "start_time": "2022-12-18T20:05:46.740Z"
   },
   {
    "duration": 23,
    "start_time": "2022-12-18T20:05:46.804Z"
   },
   {
    "duration": 16,
    "start_time": "2022-12-18T20:05:46.830Z"
   },
   {
    "duration": 11,
    "start_time": "2022-12-18T20:05:46.848Z"
   },
   {
    "duration": 443,
    "start_time": "2022-12-18T20:05:46.861Z"
   },
   {
    "duration": 20,
    "start_time": "2022-12-18T20:05:47.306Z"
   },
   {
    "duration": 749,
    "start_time": "2022-12-18T20:05:47.328Z"
   },
   {
    "duration": 19,
    "start_time": "2022-12-18T20:05:48.079Z"
   },
   {
    "duration": 8,
    "start_time": "2022-12-18T20:05:48.112Z"
   },
   {
    "duration": 410,
    "start_time": "2022-12-18T20:05:48.122Z"
   },
   {
    "duration": 29,
    "start_time": "2022-12-18T20:05:48.535Z"
   },
   {
    "duration": 21,
    "start_time": "2022-12-18T20:05:48.566Z"
   },
   {
    "duration": 48,
    "start_time": "2022-12-18T20:05:48.612Z"
   },
   {
    "duration": 81,
    "start_time": "2022-12-18T20:05:48.663Z"
   },
   {
    "duration": 41,
    "start_time": "2022-12-18T20:05:48.747Z"
   },
   {
    "duration": 16,
    "start_time": "2022-12-18T20:05:48.812Z"
   },
   {
    "duration": 9,
    "start_time": "2022-12-18T20:05:48.831Z"
   },
   {
    "duration": 250,
    "start_time": "2022-12-18T20:05:48.843Z"
   },
   {
    "duration": 0,
    "start_time": "2022-12-18T20:05:49.095Z"
   },
   {
    "duration": 0,
    "start_time": "2022-12-18T20:05:49.097Z"
   },
   {
    "duration": 1408,
    "start_time": "2022-12-18T20:06:29.587Z"
   },
   {
    "duration": 1093,
    "start_time": "2022-12-18T20:06:30.997Z"
   },
   {
    "duration": 7,
    "start_time": "2022-12-18T20:06:32.093Z"
   },
   {
    "duration": 15,
    "start_time": "2022-12-18T20:06:32.103Z"
   },
   {
    "duration": 22,
    "start_time": "2022-12-18T20:06:32.120Z"
   },
   {
    "duration": 22,
    "start_time": "2022-12-18T20:06:32.144Z"
   },
   {
    "duration": 34,
    "start_time": "2022-12-18T20:06:32.168Z"
   },
   {
    "duration": 9,
    "start_time": "2022-12-18T20:06:32.205Z"
   },
   {
    "duration": 48,
    "start_time": "2022-12-18T20:06:32.216Z"
   },
   {
    "duration": 5,
    "start_time": "2022-12-18T20:06:32.268Z"
   },
   {
    "duration": 12,
    "start_time": "2022-12-18T20:06:32.275Z"
   },
   {
    "duration": 109,
    "start_time": "2022-12-18T20:06:32.289Z"
   },
   {
    "duration": 9,
    "start_time": "2022-12-18T20:06:32.411Z"
   },
   {
    "duration": 21,
    "start_time": "2022-12-18T20:06:32.422Z"
   },
   {
    "duration": 741,
    "start_time": "2022-12-18T20:06:32.445Z"
   },
   {
    "duration": 32,
    "start_time": "2022-12-18T20:06:33.188Z"
   },
   {
    "duration": 291,
    "start_time": "2022-12-18T20:06:33.222Z"
   },
   {
    "duration": 24,
    "start_time": "2022-12-18T20:06:33.516Z"
   },
   {
    "duration": 34,
    "start_time": "2022-12-18T20:06:33.542Z"
   },
   {
    "duration": 70,
    "start_time": "2022-12-18T20:06:33.578Z"
   },
   {
    "duration": 314,
    "start_time": "2022-12-18T20:06:33.650Z"
   },
   {
    "duration": 24,
    "start_time": "2022-12-18T20:06:33.968Z"
   },
   {
    "duration": 23,
    "start_time": "2022-12-18T20:06:33.994Z"
   },
   {
    "duration": 35,
    "start_time": "2022-12-18T20:06:34.019Z"
   },
   {
    "duration": 23,
    "start_time": "2022-12-18T20:06:34.056Z"
   },
   {
    "duration": 168,
    "start_time": "2022-12-18T20:06:34.081Z"
   },
   {
    "duration": 27,
    "start_time": "2022-12-18T20:06:34.251Z"
   },
   {
    "duration": 46,
    "start_time": "2022-12-18T20:06:34.285Z"
   },
   {
    "duration": 20,
    "start_time": "2022-12-18T20:06:34.333Z"
   },
   {
    "duration": 17,
    "start_time": "2022-12-18T20:06:34.356Z"
   },
   {
    "duration": 19,
    "start_time": "2022-12-18T20:06:34.375Z"
   },
   {
    "duration": 409,
    "start_time": "2022-12-18T20:06:34.412Z"
   },
   {
    "duration": 30,
    "start_time": "2022-12-18T20:06:34.823Z"
   },
   {
    "duration": 703,
    "start_time": "2022-12-18T20:06:34.855Z"
   },
   {
    "duration": 17,
    "start_time": "2022-12-18T20:06:35.561Z"
   },
   {
    "duration": 7,
    "start_time": "2022-12-18T20:06:35.580Z"
   },
   {
    "duration": 390,
    "start_time": "2022-12-18T20:06:35.589Z"
   },
   {
    "duration": 42,
    "start_time": "2022-12-18T20:06:35.982Z"
   },
   {
    "duration": 23,
    "start_time": "2022-12-18T20:06:36.026Z"
   },
   {
    "duration": 81,
    "start_time": "2022-12-18T20:06:36.051Z"
   },
   {
    "duration": 43,
    "start_time": "2022-12-18T20:06:36.134Z"
   },
   {
    "duration": 69,
    "start_time": "2022-12-18T20:06:36.179Z"
   },
   {
    "duration": 14,
    "start_time": "2022-12-18T20:06:36.250Z"
   },
   {
    "duration": 6,
    "start_time": "2022-12-18T20:06:36.266Z"
   },
   {
    "duration": 63,
    "start_time": "2022-12-18T20:06:36.274Z"
   },
   {
    "duration": 5,
    "start_time": "2022-12-18T20:06:36.339Z"
   },
   {
    "duration": 14,
    "start_time": "2022-12-18T20:06:36.345Z"
   },
   {
    "duration": 6,
    "start_time": "2022-12-18T20:07:52.690Z"
   },
   {
    "duration": 7,
    "start_time": "2022-12-18T20:07:54.012Z"
   },
   {
    "duration": 6,
    "start_time": "2022-12-18T20:08:29.036Z"
   },
   {
    "duration": 12,
    "start_time": "2022-12-18T20:18:53.376Z"
   },
   {
    "duration": 5,
    "start_time": "2022-12-18T20:19:14.985Z"
   },
   {
    "duration": 7,
    "start_time": "2022-12-18T20:19:15.458Z"
   },
   {
    "duration": 1271,
    "start_time": "2022-12-18T20:27:21.061Z"
   },
   {
    "duration": 1258,
    "start_time": "2022-12-18T20:27:22.334Z"
   },
   {
    "duration": 3,
    "start_time": "2022-12-18T20:27:23.594Z"
   },
   {
    "duration": 18,
    "start_time": "2022-12-18T20:27:23.599Z"
   },
   {
    "duration": 20,
    "start_time": "2022-12-18T20:27:23.620Z"
   },
   {
    "duration": 18,
    "start_time": "2022-12-18T20:27:23.642Z"
   },
   {
    "duration": 11,
    "start_time": "2022-12-18T20:27:23.662Z"
   },
   {
    "duration": 11,
    "start_time": "2022-12-18T20:27:23.675Z"
   },
   {
    "duration": 40,
    "start_time": "2022-12-18T20:27:23.688Z"
   },
   {
    "duration": 4,
    "start_time": "2022-12-18T20:27:23.730Z"
   },
   {
    "duration": 13,
    "start_time": "2022-12-18T20:27:23.736Z"
   },
   {
    "duration": 121,
    "start_time": "2022-12-18T20:27:23.751Z"
   },
   {
    "duration": 9,
    "start_time": "2022-12-18T20:27:23.874Z"
   },
   {
    "duration": 32,
    "start_time": "2022-12-18T20:27:23.887Z"
   },
   {
    "duration": 650,
    "start_time": "2022-12-18T20:27:23.921Z"
   },
   {
    "duration": 26,
    "start_time": "2022-12-18T20:27:24.573Z"
   },
   {
    "duration": 307,
    "start_time": "2022-12-18T20:27:24.611Z"
   },
   {
    "duration": 31,
    "start_time": "2022-12-18T20:27:24.919Z"
   },
   {
    "duration": 27,
    "start_time": "2022-12-18T20:27:24.952Z"
   },
   {
    "duration": 63,
    "start_time": "2022-12-18T20:27:24.981Z"
   },
   {
    "duration": 272,
    "start_time": "2022-12-18T20:27:25.046Z"
   },
   {
    "duration": 24,
    "start_time": "2022-12-18T20:27:25.320Z"
   },
   {
    "duration": 13,
    "start_time": "2022-12-18T20:27:25.345Z"
   },
   {
    "duration": 25,
    "start_time": "2022-12-18T20:27:25.359Z"
   },
   {
    "duration": 31,
    "start_time": "2022-12-18T20:27:25.385Z"
   },
   {
    "duration": 156,
    "start_time": "2022-12-18T20:27:25.418Z"
   },
   {
    "duration": 36,
    "start_time": "2022-12-18T20:27:25.577Z"
   },
   {
    "duration": 22,
    "start_time": "2022-12-18T20:27:25.615Z"
   },
   {
    "duration": 19,
    "start_time": "2022-12-18T20:27:25.639Z"
   },
   {
    "duration": 11,
    "start_time": "2022-12-18T20:27:25.660Z"
   },
   {
    "duration": 40,
    "start_time": "2022-12-18T20:27:25.672Z"
   },
   {
    "duration": 384,
    "start_time": "2022-12-18T20:27:25.713Z"
   },
   {
    "duration": 18,
    "start_time": "2022-12-18T20:27:26.099Z"
   },
   {
    "duration": 733,
    "start_time": "2022-12-18T20:27:26.119Z"
   },
   {
    "duration": 19,
    "start_time": "2022-12-18T20:27:26.854Z"
   },
   {
    "duration": 8,
    "start_time": "2022-12-18T20:27:26.875Z"
   },
   {
    "duration": 420,
    "start_time": "2022-12-18T20:27:26.885Z"
   },
   {
    "duration": 24,
    "start_time": "2022-12-18T20:27:27.307Z"
   },
   {
    "duration": 21,
    "start_time": "2022-12-18T20:27:27.333Z"
   },
   {
    "duration": 78,
    "start_time": "2022-12-18T20:27:27.356Z"
   },
   {
    "duration": 39,
    "start_time": "2022-12-18T20:27:27.437Z"
   },
   {
    "duration": 68,
    "start_time": "2022-12-18T20:27:27.478Z"
   },
   {
    "duration": 10,
    "start_time": "2022-12-18T20:27:27.548Z"
   },
   {
    "duration": 6,
    "start_time": "2022-12-18T20:27:27.560Z"
   },
   {
    "duration": 48,
    "start_time": "2022-12-18T20:27:27.567Z"
   },
   {
    "duration": 5,
    "start_time": "2022-12-18T20:27:27.617Z"
   },
   {
    "duration": 16,
    "start_time": "2022-12-18T20:27:27.623Z"
   },
   {
    "duration": 1357,
    "start_time": "2022-12-19T17:40:35.735Z"
   },
   {
    "duration": 1355,
    "start_time": "2022-12-19T17:40:37.094Z"
   },
   {
    "duration": 3,
    "start_time": "2022-12-19T17:40:38.451Z"
   },
   {
    "duration": 18,
    "start_time": "2022-12-19T17:40:38.456Z"
   },
   {
    "duration": 8,
    "start_time": "2022-12-19T17:40:38.476Z"
   },
   {
    "duration": 10,
    "start_time": "2022-12-19T17:40:38.485Z"
   },
   {
    "duration": 10,
    "start_time": "2022-12-19T17:40:38.496Z"
   },
   {
    "duration": 4,
    "start_time": "2022-12-19T17:40:38.538Z"
   },
   {
    "duration": 39,
    "start_time": "2022-12-19T17:40:38.543Z"
   },
   {
    "duration": 4,
    "start_time": "2022-12-19T17:40:38.585Z"
   },
   {
    "duration": 12,
    "start_time": "2022-12-19T17:40:38.591Z"
   },
   {
    "duration": 123,
    "start_time": "2022-12-19T17:40:38.604Z"
   },
   {
    "duration": 10,
    "start_time": "2022-12-19T17:40:38.737Z"
   },
   {
    "duration": 23,
    "start_time": "2022-12-19T17:40:38.749Z"
   },
   {
    "duration": 759,
    "start_time": "2022-12-19T17:40:38.774Z"
   },
   {
    "duration": 27,
    "start_time": "2022-12-19T17:40:39.538Z"
   },
   {
    "duration": 299,
    "start_time": "2022-12-19T17:40:39.567Z"
   },
   {
    "duration": 25,
    "start_time": "2022-12-19T17:40:39.867Z"
   },
   {
    "duration": 45,
    "start_time": "2022-12-19T17:40:39.894Z"
   },
   {
    "duration": 37,
    "start_time": "2022-12-19T17:40:39.940Z"
   },
   {
    "duration": 291,
    "start_time": "2022-12-19T17:40:39.979Z"
   },
   {
    "duration": 22,
    "start_time": "2022-12-19T17:40:40.272Z"
   },
   {
    "duration": 12,
    "start_time": "2022-12-19T17:40:40.296Z"
   },
   {
    "duration": 38,
    "start_time": "2022-12-19T17:40:40.310Z"
   },
   {
    "duration": 12,
    "start_time": "2022-12-19T17:40:40.350Z"
   },
   {
    "duration": 156,
    "start_time": "2022-12-19T17:40:40.364Z"
   },
   {
    "duration": 31,
    "start_time": "2022-12-19T17:40:40.522Z"
   },
   {
    "duration": 18,
    "start_time": "2022-12-19T17:40:40.556Z"
   },
   {
    "duration": 17,
    "start_time": "2022-12-19T17:40:40.576Z"
   },
   {
    "duration": 48,
    "start_time": "2022-12-19T17:40:40.595Z"
   },
   {
    "duration": 20,
    "start_time": "2022-12-19T17:40:40.644Z"
   },
   {
    "duration": 439,
    "start_time": "2022-12-19T17:40:40.666Z"
   },
   {
    "duration": 14,
    "start_time": "2022-12-19T17:40:41.107Z"
   },
   {
    "duration": 657,
    "start_time": "2022-12-19T17:40:41.123Z"
   },
   {
    "duration": 13,
    "start_time": "2022-12-19T17:40:41.781Z"
   },
   {
    "duration": 5,
    "start_time": "2022-12-19T17:40:41.796Z"
   },
   {
    "duration": 377,
    "start_time": "2022-12-19T17:40:41.802Z"
   },
   {
    "duration": 23,
    "start_time": "2022-12-19T17:40:42.180Z"
   },
   {
    "duration": 50,
    "start_time": "2022-12-19T17:40:42.204Z"
   },
   {
    "duration": 47,
    "start_time": "2022-12-19T17:40:42.256Z"
   },
   {
    "duration": 48,
    "start_time": "2022-12-19T17:40:42.304Z"
   },
   {
    "duration": 39,
    "start_time": "2022-12-19T17:40:42.353Z"
   },
   {
    "duration": 11,
    "start_time": "2022-12-19T17:40:42.393Z"
   },
   {
    "duration": 5,
    "start_time": "2022-12-19T17:40:42.406Z"
   },
   {
    "duration": 29,
    "start_time": "2022-12-19T17:40:42.438Z"
   },
   {
    "duration": 5,
    "start_time": "2022-12-19T17:40:42.468Z"
   },
   {
    "duration": 14,
    "start_time": "2022-12-19T17:40:42.475Z"
   },
   {
    "duration": 45,
    "start_time": "2022-12-19T18:31:59.860Z"
   },
   {
    "duration": 1366,
    "start_time": "2022-12-19T18:32:04.097Z"
   },
   {
    "duration": 954,
    "start_time": "2022-12-19T18:32:05.465Z"
   },
   {
    "duration": 3,
    "start_time": "2022-12-19T18:32:06.422Z"
   },
   {
    "duration": 24,
    "start_time": "2022-12-19T18:32:06.427Z"
   },
   {
    "duration": 36,
    "start_time": "2022-12-19T18:32:06.453Z"
   },
   {
    "duration": 33,
    "start_time": "2022-12-19T18:32:06.491Z"
   },
   {
    "duration": 17,
    "start_time": "2022-12-19T18:32:06.526Z"
   },
   {
    "duration": 9,
    "start_time": "2022-12-19T18:32:06.545Z"
   },
   {
    "duration": 53,
    "start_time": "2022-12-19T18:32:06.556Z"
   },
   {
    "duration": 5,
    "start_time": "2022-12-19T18:32:06.610Z"
   },
   {
    "duration": 7,
    "start_time": "2022-12-19T18:32:06.616Z"
   },
   {
    "duration": 84,
    "start_time": "2022-12-19T18:32:06.624Z"
   },
   {
    "duration": 13,
    "start_time": "2022-12-19T18:32:06.709Z"
   },
   {
    "duration": 13,
    "start_time": "2022-12-19T18:32:06.725Z"
   },
   {
    "duration": 612,
    "start_time": "2022-12-19T18:32:06.739Z"
   },
   {
    "duration": 26,
    "start_time": "2022-12-19T18:32:07.353Z"
   },
   {
    "duration": 278,
    "start_time": "2022-12-19T18:32:07.381Z"
   },
   {
    "duration": 22,
    "start_time": "2022-12-19T18:32:07.661Z"
   },
   {
    "duration": 35,
    "start_time": "2022-12-19T18:32:07.685Z"
   },
   {
    "duration": 33,
    "start_time": "2022-12-19T18:32:07.722Z"
   },
   {
    "duration": 244,
    "start_time": "2022-12-19T18:32:07.757Z"
   },
   {
    "duration": 25,
    "start_time": "2022-12-19T18:32:08.003Z"
   },
   {
    "duration": 10,
    "start_time": "2022-12-19T18:32:08.030Z"
   },
   {
    "duration": 19,
    "start_time": "2022-12-19T18:32:08.041Z"
   },
   {
    "duration": 19,
    "start_time": "2022-12-19T18:32:08.062Z"
   },
   {
    "duration": 141,
    "start_time": "2022-12-19T18:32:08.083Z"
   },
   {
    "duration": 19,
    "start_time": "2022-12-19T18:32:08.225Z"
   },
   {
    "duration": 25,
    "start_time": "2022-12-19T18:32:08.246Z"
   },
   {
    "duration": 14,
    "start_time": "2022-12-19T18:32:08.273Z"
   },
   {
    "duration": 27,
    "start_time": "2022-12-19T18:32:08.289Z"
   },
   {
    "duration": 8,
    "start_time": "2022-12-19T18:32:08.318Z"
   },
   {
    "duration": 359,
    "start_time": "2022-12-19T18:32:08.327Z"
   },
   {
    "duration": 13,
    "start_time": "2022-12-19T18:32:08.688Z"
   },
   {
    "duration": 563,
    "start_time": "2022-12-19T18:32:08.702Z"
   },
   {
    "duration": 12,
    "start_time": "2022-12-19T18:32:09.267Z"
   },
   {
    "duration": 6,
    "start_time": "2022-12-19T18:32:09.281Z"
   },
   {
    "duration": 373,
    "start_time": "2022-12-19T18:32:09.288Z"
   },
   {
    "duration": 18,
    "start_time": "2022-12-19T18:32:09.662Z"
   },
   {
    "duration": 14,
    "start_time": "2022-12-19T18:32:09.681Z"
   },
   {
    "duration": 142,
    "start_time": "2022-12-19T18:32:09.696Z"
   },
   {
    "duration": 41,
    "start_time": "2022-12-19T18:32:09.841Z"
   },
   {
    "duration": 38,
    "start_time": "2022-12-19T18:32:09.884Z"
   },
   {
    "duration": 9,
    "start_time": "2022-12-19T18:32:09.924Z"
   },
   {
    "duration": 4,
    "start_time": "2022-12-19T18:32:09.934Z"
   },
   {
    "duration": 35,
    "start_time": "2022-12-19T18:32:09.939Z"
   },
   {
    "duration": 5,
    "start_time": "2022-12-19T18:32:09.975Z"
   },
   {
    "duration": 12,
    "start_time": "2022-12-19T18:32:09.981Z"
   },
   {
    "duration": 129,
    "start_time": "2022-12-19T18:37:00.710Z"
   },
   {
    "duration": 153,
    "start_time": "2022-12-19T18:46:51.646Z"
   },
   {
    "duration": 127,
    "start_time": "2022-12-19T18:47:11.162Z"
   },
   {
    "duration": 138,
    "start_time": "2022-12-19T18:47:45.211Z"
   },
   {
    "duration": 119,
    "start_time": "2022-12-19T18:49:08.268Z"
   },
   {
    "duration": 172,
    "start_time": "2022-12-19T18:50:07.503Z"
   },
   {
    "duration": 1150,
    "start_time": "2022-12-19T18:50:18.545Z"
   },
   {
    "duration": 1056,
    "start_time": "2022-12-19T18:50:19.697Z"
   },
   {
    "duration": 3,
    "start_time": "2022-12-19T18:50:20.755Z"
   },
   {
    "duration": 17,
    "start_time": "2022-12-19T18:50:20.759Z"
   },
   {
    "duration": 11,
    "start_time": "2022-12-19T18:50:20.778Z"
   },
   {
    "duration": 10,
    "start_time": "2022-12-19T18:50:20.790Z"
   },
   {
    "duration": 10,
    "start_time": "2022-12-19T18:50:20.801Z"
   },
   {
    "duration": 5,
    "start_time": "2022-12-19T18:50:20.812Z"
   },
   {
    "duration": 34,
    "start_time": "2022-12-19T18:50:20.818Z"
   },
   {
    "duration": 4,
    "start_time": "2022-12-19T18:50:20.855Z"
   },
   {
    "duration": 12,
    "start_time": "2022-12-19T18:50:20.861Z"
   },
   {
    "duration": 92,
    "start_time": "2022-12-19T18:50:20.875Z"
   },
   {
    "duration": 8,
    "start_time": "2022-12-19T18:50:20.969Z"
   },
   {
    "duration": 14,
    "start_time": "2022-12-19T18:50:20.979Z"
   },
   {
    "duration": 596,
    "start_time": "2022-12-19T18:50:20.995Z"
   },
   {
    "duration": 29,
    "start_time": "2022-12-19T18:50:21.592Z"
   },
   {
    "duration": 261,
    "start_time": "2022-12-19T18:50:21.622Z"
   },
   {
    "duration": 20,
    "start_time": "2022-12-19T18:50:21.885Z"
   },
   {
    "duration": 26,
    "start_time": "2022-12-19T18:50:21.907Z"
   },
   {
    "duration": 32,
    "start_time": "2022-12-19T18:50:21.935Z"
   },
   {
    "duration": 259,
    "start_time": "2022-12-19T18:50:21.969Z"
   },
   {
    "duration": 20,
    "start_time": "2022-12-19T18:50:22.230Z"
   },
   {
    "duration": 10,
    "start_time": "2022-12-19T18:50:22.252Z"
   },
   {
    "duration": 15,
    "start_time": "2022-12-19T18:50:22.263Z"
   },
   {
    "duration": 285,
    "start_time": "2022-12-19T18:50:22.280Z"
   },
   {
    "duration": 0,
    "start_time": "2022-12-19T18:50:22.567Z"
   },
   {
    "duration": 0,
    "start_time": "2022-12-19T18:50:22.568Z"
   },
   {
    "duration": 0,
    "start_time": "2022-12-19T18:50:22.570Z"
   },
   {
    "duration": 0,
    "start_time": "2022-12-19T18:50:22.571Z"
   },
   {
    "duration": 0,
    "start_time": "2022-12-19T18:50:22.573Z"
   },
   {
    "duration": 0,
    "start_time": "2022-12-19T18:50:22.574Z"
   },
   {
    "duration": 0,
    "start_time": "2022-12-19T18:50:22.576Z"
   },
   {
    "duration": 0,
    "start_time": "2022-12-19T18:50:22.577Z"
   },
   {
    "duration": 0,
    "start_time": "2022-12-19T18:50:22.579Z"
   },
   {
    "duration": 0,
    "start_time": "2022-12-19T18:50:22.580Z"
   },
   {
    "duration": 0,
    "start_time": "2022-12-19T18:50:22.581Z"
   },
   {
    "duration": 0,
    "start_time": "2022-12-19T18:50:22.583Z"
   },
   {
    "duration": 0,
    "start_time": "2022-12-19T18:50:22.616Z"
   },
   {
    "duration": 0,
    "start_time": "2022-12-19T18:50:22.618Z"
   },
   {
    "duration": 0,
    "start_time": "2022-12-19T18:50:22.619Z"
   },
   {
    "duration": 0,
    "start_time": "2022-12-19T18:50:22.620Z"
   },
   {
    "duration": 0,
    "start_time": "2022-12-19T18:50:22.622Z"
   },
   {
    "duration": 0,
    "start_time": "2022-12-19T18:50:22.624Z"
   },
   {
    "duration": 0,
    "start_time": "2022-12-19T18:50:22.625Z"
   },
   {
    "duration": 0,
    "start_time": "2022-12-19T18:50:22.626Z"
   },
   {
    "duration": 0,
    "start_time": "2022-12-19T18:50:22.628Z"
   },
   {
    "duration": 16,
    "start_time": "2022-12-19T18:50:41.505Z"
   },
   {
    "duration": 124,
    "start_time": "2022-12-19T18:51:08.354Z"
   },
   {
    "duration": 12,
    "start_time": "2022-12-19T18:51:28.953Z"
   },
   {
    "duration": 8,
    "start_time": "2022-12-19T18:51:41.296Z"
   },
   {
    "duration": 126,
    "start_time": "2022-12-19T18:51:57.446Z"
   },
   {
    "duration": 113,
    "start_time": "2022-12-19T18:53:01.802Z"
   },
   {
    "duration": 116,
    "start_time": "2022-12-19T18:53:17.698Z"
   },
   {
    "duration": 121,
    "start_time": "2022-12-19T18:53:30.103Z"
   },
   {
    "duration": 1187,
    "start_time": "2022-12-19T18:57:26.009Z"
   },
   {
    "duration": 1087,
    "start_time": "2022-12-19T18:57:27.198Z"
   },
   {
    "duration": 3,
    "start_time": "2022-12-19T18:57:28.286Z"
   },
   {
    "duration": 16,
    "start_time": "2022-12-19T18:57:28.291Z"
   },
   {
    "duration": 6,
    "start_time": "2022-12-19T18:57:28.308Z"
   },
   {
    "duration": 9,
    "start_time": "2022-12-19T18:57:28.316Z"
   },
   {
    "duration": 10,
    "start_time": "2022-12-19T18:57:28.327Z"
   },
   {
    "duration": 7,
    "start_time": "2022-12-19T18:57:28.338Z"
   },
   {
    "duration": 32,
    "start_time": "2022-12-19T18:57:28.346Z"
   },
   {
    "duration": 4,
    "start_time": "2022-12-19T18:57:28.380Z"
   },
   {
    "duration": 9,
    "start_time": "2022-12-19T18:57:28.386Z"
   },
   {
    "duration": 98,
    "start_time": "2022-12-19T18:57:28.397Z"
   },
   {
    "duration": 18,
    "start_time": "2022-12-19T18:57:28.497Z"
   },
   {
    "duration": 13,
    "start_time": "2022-12-19T18:57:28.517Z"
   },
   {
    "duration": 597,
    "start_time": "2022-12-19T18:57:28.532Z"
   },
   {
    "duration": 26,
    "start_time": "2022-12-19T18:57:29.130Z"
   },
   {
    "duration": 271,
    "start_time": "2022-12-19T18:57:29.157Z"
   },
   {
    "duration": 22,
    "start_time": "2022-12-19T18:57:29.430Z"
   },
   {
    "duration": 21,
    "start_time": "2022-12-19T18:57:29.453Z"
   },
   {
    "duration": 56,
    "start_time": "2022-12-19T18:57:29.476Z"
   },
   {
    "duration": 233,
    "start_time": "2022-12-19T18:57:29.534Z"
   },
   {
    "duration": 21,
    "start_time": "2022-12-19T18:57:29.768Z"
   },
   {
    "duration": 11,
    "start_time": "2022-12-19T18:57:29.790Z"
   },
   {
    "duration": 14,
    "start_time": "2022-12-19T18:57:29.815Z"
   },
   {
    "duration": 136,
    "start_time": "2022-12-19T18:57:29.830Z"
   },
   {
    "duration": 19,
    "start_time": "2022-12-19T18:57:29.968Z"
   },
   {
    "duration": 32,
    "start_time": "2022-12-19T18:57:29.989Z"
   },
   {
    "duration": 14,
    "start_time": "2022-12-19T18:57:30.024Z"
   },
   {
    "duration": 44,
    "start_time": "2022-12-19T18:57:30.039Z"
   },
   {
    "duration": 23,
    "start_time": "2022-12-19T18:57:30.085Z"
   },
   {
    "duration": 321,
    "start_time": "2022-12-19T18:57:30.110Z"
   },
   {
    "duration": 17,
    "start_time": "2022-12-19T18:57:30.433Z"
   },
   {
    "duration": 609,
    "start_time": "2022-12-19T18:57:30.452Z"
   },
   {
    "duration": 12,
    "start_time": "2022-12-19T18:57:31.063Z"
   },
   {
    "duration": 18,
    "start_time": "2022-12-19T18:57:31.076Z"
   },
   {
    "duration": 309,
    "start_time": "2022-12-19T18:57:31.095Z"
   },
   {
    "duration": 24,
    "start_time": "2022-12-19T18:57:31.406Z"
   },
   {
    "duration": 21,
    "start_time": "2022-12-19T18:57:31.432Z"
   },
   {
    "duration": 55,
    "start_time": "2022-12-19T18:57:31.454Z"
   },
   {
    "duration": 33,
    "start_time": "2022-12-19T18:57:31.515Z"
   },
   {
    "duration": 32,
    "start_time": "2022-12-19T18:57:31.550Z"
   },
   {
    "duration": 9,
    "start_time": "2022-12-19T18:57:31.583Z"
   },
   {
    "duration": 23,
    "start_time": "2022-12-19T18:57:31.593Z"
   },
   {
    "duration": 45,
    "start_time": "2022-12-19T18:57:31.617Z"
   },
   {
    "duration": 5,
    "start_time": "2022-12-19T18:57:31.663Z"
   },
   {
    "duration": 33,
    "start_time": "2022-12-19T18:57:31.669Z"
   },
   {
    "duration": 5,
    "start_time": "2022-12-19T18:58:34.696Z"
   },
   {
    "duration": 7,
    "start_time": "2022-12-19T18:58:37.576Z"
   },
   {
    "duration": 6,
    "start_time": "2022-12-19T18:58:39.841Z"
   },
   {
    "duration": 6,
    "start_time": "2022-12-19T18:58:43.587Z"
   },
   {
    "duration": 9,
    "start_time": "2022-12-19T18:59:42.496Z"
   },
   {
    "duration": 8,
    "start_time": "2022-12-19T18:59:48.091Z"
   },
   {
    "duration": 7,
    "start_time": "2022-12-19T19:01:31.924Z"
   },
   {
    "duration": 5,
    "start_time": "2022-12-19T19:01:38.430Z"
   },
   {
    "duration": 4,
    "start_time": "2022-12-19T19:01:46.047Z"
   },
   {
    "duration": 6,
    "start_time": "2022-12-19T19:01:47.425Z"
   },
   {
    "duration": 1161,
    "start_time": "2022-12-19T19:01:54.258Z"
   },
   {
    "duration": 1118,
    "start_time": "2022-12-19T19:01:55.421Z"
   },
   {
    "duration": 3,
    "start_time": "2022-12-19T19:01:56.540Z"
   },
   {
    "duration": 14,
    "start_time": "2022-12-19T19:01:56.545Z"
   },
   {
    "duration": 8,
    "start_time": "2022-12-19T19:01:56.560Z"
   },
   {
    "duration": 9,
    "start_time": "2022-12-19T19:01:56.569Z"
   },
   {
    "duration": 10,
    "start_time": "2022-12-19T19:01:56.580Z"
   },
   {
    "duration": 24,
    "start_time": "2022-12-19T19:01:56.591Z"
   },
   {
    "duration": 38,
    "start_time": "2022-12-19T19:01:56.617Z"
   },
   {
    "duration": 4,
    "start_time": "2022-12-19T19:01:56.657Z"
   },
   {
    "duration": 11,
    "start_time": "2022-12-19T19:01:56.663Z"
   },
   {
    "duration": 112,
    "start_time": "2022-12-19T19:01:56.675Z"
   },
   {
    "duration": 10,
    "start_time": "2022-12-19T19:01:56.789Z"
   },
   {
    "duration": 28,
    "start_time": "2022-12-19T19:01:56.800Z"
   },
   {
    "duration": 610,
    "start_time": "2022-12-19T19:01:56.829Z"
   },
   {
    "duration": 25,
    "start_time": "2022-12-19T19:01:57.440Z"
   },
   {
    "duration": 302,
    "start_time": "2022-12-19T19:01:57.467Z"
   },
   {
    "duration": 26,
    "start_time": "2022-12-19T19:01:57.771Z"
   },
   {
    "duration": 35,
    "start_time": "2022-12-19T19:01:57.799Z"
   },
   {
    "duration": 34,
    "start_time": "2022-12-19T19:01:57.836Z"
   },
   {
    "duration": 257,
    "start_time": "2022-12-19T19:01:57.872Z"
   },
   {
    "duration": 19,
    "start_time": "2022-12-19T19:01:58.131Z"
   },
   {
    "duration": 18,
    "start_time": "2022-12-19T19:01:58.152Z"
   },
   {
    "duration": 31,
    "start_time": "2022-12-19T19:01:58.172Z"
   },
   {
    "duration": 140,
    "start_time": "2022-12-19T19:01:58.205Z"
   },
   {
    "duration": 20,
    "start_time": "2022-12-19T19:01:58.347Z"
   },
   {
    "duration": 48,
    "start_time": "2022-12-19T19:01:58.369Z"
   },
   {
    "duration": 15,
    "start_time": "2022-12-19T19:01:58.422Z"
   },
   {
    "duration": 12,
    "start_time": "2022-12-19T19:01:58.439Z"
   },
   {
    "duration": 10,
    "start_time": "2022-12-19T19:01:58.453Z"
   },
   {
    "duration": 362,
    "start_time": "2022-12-19T19:01:58.465Z"
   },
   {
    "duration": 12,
    "start_time": "2022-12-19T19:01:58.829Z"
   },
   {
    "duration": 578,
    "start_time": "2022-12-19T19:01:58.843Z"
   },
   {
    "duration": 12,
    "start_time": "2022-12-19T19:01:59.422Z"
   },
   {
    "duration": 7,
    "start_time": "2022-12-19T19:01:59.435Z"
   },
   {
    "duration": 308,
    "start_time": "2022-12-19T19:01:59.444Z"
   },
   {
    "duration": 16,
    "start_time": "2022-12-19T19:01:59.754Z"
   },
   {
    "duration": 13,
    "start_time": "2022-12-19T19:01:59.772Z"
   },
   {
    "duration": 64,
    "start_time": "2022-12-19T19:01:59.786Z"
   },
   {
    "duration": 34,
    "start_time": "2022-12-19T19:01:59.852Z"
   },
   {
    "duration": 45,
    "start_time": "2022-12-19T19:01:59.888Z"
   },
   {
    "duration": 10,
    "start_time": "2022-12-19T19:01:59.935Z"
   },
   {
    "duration": 8,
    "start_time": "2022-12-19T19:01:59.946Z"
   },
   {
    "duration": 31,
    "start_time": "2022-12-19T19:01:59.955Z"
   },
   {
    "duration": 6,
    "start_time": "2022-12-19T19:01:59.987Z"
   },
   {
    "duration": 26,
    "start_time": "2022-12-19T19:01:59.994Z"
   },
   {
    "duration": 36,
    "start_time": "2022-12-19T19:02:00.022Z"
   },
   {
    "duration": 8,
    "start_time": "2022-12-19T19:03:03.308Z"
   },
   {
    "duration": 9,
    "start_time": "2022-12-19T19:03:10.302Z"
   },
   {
    "duration": 4,
    "start_time": "2022-12-19T19:04:07.619Z"
   },
   {
    "duration": 5,
    "start_time": "2022-12-19T19:04:09.968Z"
   },
   {
    "duration": 7,
    "start_time": "2022-12-19T19:04:18.773Z"
   },
   {
    "duration": 10,
    "start_time": "2022-12-19T19:13:15.477Z"
   },
   {
    "duration": 6,
    "start_time": "2022-12-19T19:15:17.972Z"
   },
   {
    "duration": 5,
    "start_time": "2022-12-19T19:22:55.433Z"
   },
   {
    "duration": 8,
    "start_time": "2022-12-19T19:22:56.780Z"
   },
   {
    "duration": 5,
    "start_time": "2022-12-19T19:24:13.974Z"
   },
   {
    "duration": 13,
    "start_time": "2022-12-19T19:24:13.980Z"
   },
   {
    "duration": 5,
    "start_time": "2022-12-19T19:25:08.062Z"
   },
   {
    "duration": 8,
    "start_time": "2022-12-19T19:25:08.589Z"
   },
   {
    "duration": 5,
    "start_time": "2022-12-19T19:25:26.947Z"
   },
   {
    "duration": 7,
    "start_time": "2022-12-19T19:25:27.346Z"
   },
   {
    "duration": 5,
    "start_time": "2022-12-19T19:38:22.844Z"
   },
   {
    "duration": 6,
    "start_time": "2022-12-19T19:38:23.254Z"
   },
   {
    "duration": 5,
    "start_time": "2022-12-19T19:38:31.863Z"
   },
   {
    "duration": 5,
    "start_time": "2022-12-19T19:38:32.911Z"
   },
   {
    "duration": 5,
    "start_time": "2022-12-19T19:39:45.560Z"
   },
   {
    "duration": 9,
    "start_time": "2022-12-19T19:39:46.101Z"
   },
   {
    "duration": 3,
    "start_time": "2022-12-19T19:49:30.797Z"
   },
   {
    "duration": 3,
    "start_time": "2022-12-19T19:49:36.002Z"
   },
   {
    "duration": 3,
    "start_time": "2022-12-19T19:49:40.549Z"
   },
   {
    "duration": 4,
    "start_time": "2022-12-19T19:49:42.384Z"
   },
   {
    "duration": 5,
    "start_time": "2022-12-19T19:50:16.478Z"
   },
   {
    "duration": 11,
    "start_time": "2022-12-19T19:50:19.060Z"
   },
   {
    "duration": 157,
    "start_time": "2022-12-19T19:50:49.521Z"
   },
   {
    "duration": 5,
    "start_time": "2022-12-19T19:51:04.212Z"
   },
   {
    "duration": 16,
    "start_time": "2022-12-19T19:51:13.986Z"
   },
   {
    "duration": 1190,
    "start_time": "2022-12-19T19:51:46.210Z"
   },
   {
    "duration": 974,
    "start_time": "2022-12-19T19:51:47.402Z"
   },
   {
    "duration": 3,
    "start_time": "2022-12-19T19:51:48.377Z"
   },
   {
    "duration": 15,
    "start_time": "2022-12-19T19:51:48.382Z"
   },
   {
    "duration": 9,
    "start_time": "2022-12-19T19:51:48.398Z"
   },
   {
    "duration": 11,
    "start_time": "2022-12-19T19:51:48.408Z"
   },
   {
    "duration": 9,
    "start_time": "2022-12-19T19:51:48.420Z"
   },
   {
    "duration": 5,
    "start_time": "2022-12-19T19:51:48.431Z"
   },
   {
    "duration": 28,
    "start_time": "2022-12-19T19:51:48.438Z"
   },
   {
    "duration": 5,
    "start_time": "2022-12-19T19:51:48.469Z"
   },
   {
    "duration": 21,
    "start_time": "2022-12-19T19:51:48.475Z"
   },
   {
    "duration": 89,
    "start_time": "2022-12-19T19:51:48.498Z"
   },
   {
    "duration": 9,
    "start_time": "2022-12-19T19:51:48.589Z"
   },
   {
    "duration": 29,
    "start_time": "2022-12-19T19:51:48.600Z"
   },
   {
    "duration": 626,
    "start_time": "2022-12-19T19:51:48.631Z"
   },
   {
    "duration": 24,
    "start_time": "2022-12-19T19:51:49.258Z"
   },
   {
    "duration": 263,
    "start_time": "2022-12-19T19:51:49.283Z"
   },
   {
    "duration": 23,
    "start_time": "2022-12-19T19:51:49.548Z"
   },
   {
    "duration": 20,
    "start_time": "2022-12-19T19:51:49.572Z"
   },
   {
    "duration": 55,
    "start_time": "2022-12-19T19:51:49.593Z"
   },
   {
    "duration": 253,
    "start_time": "2022-12-19T19:51:49.649Z"
   },
   {
    "duration": 28,
    "start_time": "2022-12-19T19:51:49.903Z"
   },
   {
    "duration": 12,
    "start_time": "2022-12-19T19:51:49.933Z"
   },
   {
    "duration": 22,
    "start_time": "2022-12-19T19:51:49.947Z"
   },
   {
    "duration": 147,
    "start_time": "2022-12-19T19:51:49.970Z"
   },
   {
    "duration": 18,
    "start_time": "2022-12-19T19:51:50.119Z"
   },
   {
    "duration": 25,
    "start_time": "2022-12-19T19:51:50.139Z"
   },
   {
    "duration": 15,
    "start_time": "2022-12-19T19:51:50.168Z"
   },
   {
    "duration": 38,
    "start_time": "2022-12-19T19:51:50.185Z"
   },
   {
    "duration": 20,
    "start_time": "2022-12-19T19:51:50.225Z"
   },
   {
    "duration": 337,
    "start_time": "2022-12-19T19:51:50.247Z"
   },
   {
    "duration": 12,
    "start_time": "2022-12-19T19:51:50.586Z"
   },
   {
    "duration": 593,
    "start_time": "2022-12-19T19:51:50.600Z"
   },
   {
    "duration": 11,
    "start_time": "2022-12-19T19:51:51.195Z"
   },
   {
    "duration": 5,
    "start_time": "2022-12-19T19:51:51.215Z"
   },
   {
    "duration": 307,
    "start_time": "2022-12-19T19:51:51.221Z"
   },
   {
    "duration": 19,
    "start_time": "2022-12-19T19:51:51.529Z"
   },
   {
    "duration": 14,
    "start_time": "2022-12-19T19:51:51.549Z"
   },
   {
    "duration": 60,
    "start_time": "2022-12-19T19:51:51.564Z"
   },
   {
    "duration": 34,
    "start_time": "2022-12-19T19:51:51.626Z"
   },
   {
    "duration": 32,
    "start_time": "2022-12-19T19:51:51.662Z"
   },
   {
    "duration": 27,
    "start_time": "2022-12-19T19:51:51.695Z"
   },
   {
    "duration": 5,
    "start_time": "2022-12-19T19:51:51.723Z"
   },
   {
    "duration": 28,
    "start_time": "2022-12-19T19:51:51.730Z"
   },
   {
    "duration": 7,
    "start_time": "2022-12-19T19:51:51.760Z"
   },
   {
    "duration": 9,
    "start_time": "2022-12-19T19:51:51.768Z"
   },
   {
    "duration": 15,
    "start_time": "2022-12-19T19:51:51.778Z"
   },
   {
    "duration": 25,
    "start_time": "2022-12-19T19:51:51.794Z"
   },
   {
    "duration": 6,
    "start_time": "2022-12-19T19:54:02.731Z"
   },
   {
    "duration": 5,
    "start_time": "2022-12-19T19:54:05.384Z"
   },
   {
    "duration": 4,
    "start_time": "2022-12-19T19:54:05.689Z"
   },
   {
    "duration": 4,
    "start_time": "2022-12-19T20:05:18.808Z"
   },
   {
    "duration": 4,
    "start_time": "2022-12-19T20:05:19.649Z"
   },
   {
    "duration": 6,
    "start_time": "2022-12-19T20:05:21.831Z"
   },
   {
    "duration": 1132,
    "start_time": "2022-12-19T20:06:06.676Z"
   },
   {
    "duration": 1316,
    "start_time": "2022-12-19T20:06:07.811Z"
   },
   {
    "duration": 3,
    "start_time": "2022-12-19T20:06:09.131Z"
   },
   {
    "duration": 19,
    "start_time": "2022-12-19T20:06:09.136Z"
   },
   {
    "duration": 8,
    "start_time": "2022-12-19T20:06:09.156Z"
   },
   {
    "duration": 12,
    "start_time": "2022-12-19T20:06:09.165Z"
   },
   {
    "duration": 31,
    "start_time": "2022-12-19T20:06:09.178Z"
   },
   {
    "duration": 13,
    "start_time": "2022-12-19T20:06:09.210Z"
   },
   {
    "duration": 35,
    "start_time": "2022-12-19T20:06:09.224Z"
   },
   {
    "duration": 5,
    "start_time": "2022-12-19T20:06:09.260Z"
   },
   {
    "duration": 12,
    "start_time": "2022-12-19T20:06:09.266Z"
   },
   {
    "duration": 86,
    "start_time": "2022-12-19T20:06:09.279Z"
   },
   {
    "duration": 8,
    "start_time": "2022-12-19T20:06:09.368Z"
   },
   {
    "duration": 19,
    "start_time": "2022-12-19T20:06:09.377Z"
   },
   {
    "duration": 589,
    "start_time": "2022-12-19T20:06:09.398Z"
   },
   {
    "duration": 34,
    "start_time": "2022-12-19T20:06:09.989Z"
   },
   {
    "duration": 260,
    "start_time": "2022-12-19T20:06:10.024Z"
   },
   {
    "duration": 30,
    "start_time": "2022-12-19T20:06:10.286Z"
   },
   {
    "duration": 24,
    "start_time": "2022-12-19T20:06:10.317Z"
   },
   {
    "duration": 35,
    "start_time": "2022-12-19T20:06:10.342Z"
   },
   {
    "duration": 237,
    "start_time": "2022-12-19T20:06:10.379Z"
   },
   {
    "duration": 19,
    "start_time": "2022-12-19T20:06:10.618Z"
   },
   {
    "duration": 9,
    "start_time": "2022-12-19T20:06:10.639Z"
   },
   {
    "duration": 14,
    "start_time": "2022-12-19T20:06:10.649Z"
   },
   {
    "duration": 148,
    "start_time": "2022-12-19T20:06:10.664Z"
   },
   {
    "duration": 18,
    "start_time": "2022-12-19T20:06:10.813Z"
   },
   {
    "duration": 18,
    "start_time": "2022-12-19T20:06:10.833Z"
   },
   {
    "duration": 14,
    "start_time": "2022-12-19T20:06:10.852Z"
   },
   {
    "duration": 8,
    "start_time": "2022-12-19T20:06:10.867Z"
   },
   {
    "duration": 38,
    "start_time": "2022-12-19T20:06:10.877Z"
   },
   {
    "duration": 318,
    "start_time": "2022-12-19T20:06:10.917Z"
   },
   {
    "duration": 17,
    "start_time": "2022-12-19T20:06:11.236Z"
   },
   {
    "duration": 571,
    "start_time": "2022-12-19T20:06:11.255Z"
   },
   {
    "duration": 13,
    "start_time": "2022-12-19T20:06:11.828Z"
   },
   {
    "duration": 7,
    "start_time": "2022-12-19T20:06:11.843Z"
   },
   {
    "duration": 391,
    "start_time": "2022-12-19T20:06:11.852Z"
   },
   {
    "duration": 19,
    "start_time": "2022-12-19T20:06:12.245Z"
   },
   {
    "duration": 13,
    "start_time": "2022-12-19T20:06:12.265Z"
   },
   {
    "duration": 62,
    "start_time": "2022-12-19T20:06:12.280Z"
   },
   {
    "duration": 35,
    "start_time": "2022-12-19T20:06:12.346Z"
   },
   {
    "duration": 54,
    "start_time": "2022-12-19T20:06:12.383Z"
   },
   {
    "duration": 9,
    "start_time": "2022-12-19T20:06:12.439Z"
   },
   {
    "duration": 5,
    "start_time": "2022-12-19T20:06:12.449Z"
   },
   {
    "duration": 33,
    "start_time": "2022-12-19T20:06:12.455Z"
   },
   {
    "duration": 25,
    "start_time": "2022-12-19T20:06:12.490Z"
   },
   {
    "duration": 4,
    "start_time": "2022-12-19T20:06:12.517Z"
   },
   {
    "duration": 12,
    "start_time": "2022-12-19T20:06:12.523Z"
   },
   {
    "duration": 1121,
    "start_time": "2022-12-19T20:06:37.278Z"
   },
   {
    "duration": 924,
    "start_time": "2022-12-19T20:06:38.401Z"
   },
   {
    "duration": 2,
    "start_time": "2022-12-19T20:06:39.327Z"
   },
   {
    "duration": 22,
    "start_time": "2022-12-19T20:06:39.332Z"
   },
   {
    "duration": 8,
    "start_time": "2022-12-19T20:06:39.356Z"
   },
   {
    "duration": 10,
    "start_time": "2022-12-19T20:06:39.365Z"
   },
   {
    "duration": 10,
    "start_time": "2022-12-19T20:06:39.377Z"
   },
   {
    "duration": 7,
    "start_time": "2022-12-19T20:06:39.388Z"
   },
   {
    "duration": 47,
    "start_time": "2022-12-19T20:06:39.397Z"
   },
   {
    "duration": 4,
    "start_time": "2022-12-19T20:06:39.448Z"
   },
   {
    "duration": 11,
    "start_time": "2022-12-19T20:06:39.454Z"
   },
   {
    "duration": 99,
    "start_time": "2022-12-19T20:06:39.467Z"
   },
   {
    "duration": 8,
    "start_time": "2022-12-19T20:06:39.568Z"
   },
   {
    "duration": 14,
    "start_time": "2022-12-19T20:06:39.577Z"
   },
   {
    "duration": 593,
    "start_time": "2022-12-19T20:06:39.592Z"
   },
   {
    "duration": 28,
    "start_time": "2022-12-19T20:06:40.187Z"
   },
   {
    "duration": 258,
    "start_time": "2022-12-19T20:06:40.216Z"
   },
   {
    "duration": 20,
    "start_time": "2022-12-19T20:06:40.476Z"
   },
   {
    "duration": 35,
    "start_time": "2022-12-19T20:06:40.498Z"
   },
   {
    "duration": 33,
    "start_time": "2022-12-19T20:06:40.535Z"
   },
   {
    "duration": 245,
    "start_time": "2022-12-19T20:06:40.570Z"
   },
   {
    "duration": 20,
    "start_time": "2022-12-19T20:06:40.817Z"
   },
   {
    "duration": 10,
    "start_time": "2022-12-19T20:06:40.838Z"
   },
   {
    "duration": 22,
    "start_time": "2022-12-19T20:06:40.850Z"
   },
   {
    "duration": 146,
    "start_time": "2022-12-19T20:06:40.873Z"
   },
   {
    "duration": 21,
    "start_time": "2022-12-19T20:06:41.020Z"
   },
   {
    "duration": 17,
    "start_time": "2022-12-19T20:06:41.042Z"
   },
   {
    "duration": 14,
    "start_time": "2022-12-19T20:06:41.063Z"
   },
   {
    "duration": 43,
    "start_time": "2022-12-19T20:06:41.079Z"
   },
   {
    "duration": 12,
    "start_time": "2022-12-19T20:06:41.124Z"
   },
   {
    "duration": 337,
    "start_time": "2022-12-19T20:06:41.138Z"
   },
   {
    "duration": 12,
    "start_time": "2022-12-19T20:06:41.477Z"
   },
   {
    "duration": 589,
    "start_time": "2022-12-19T20:06:41.490Z"
   },
   {
    "duration": 13,
    "start_time": "2022-12-19T20:06:42.081Z"
   },
   {
    "duration": 19,
    "start_time": "2022-12-19T20:06:42.096Z"
   },
   {
    "duration": 306,
    "start_time": "2022-12-19T20:06:42.117Z"
   },
   {
    "duration": 20,
    "start_time": "2022-12-19T20:06:42.425Z"
   },
   {
    "duration": 19,
    "start_time": "2022-12-19T20:06:42.447Z"
   },
   {
    "duration": 61,
    "start_time": "2022-12-19T20:06:42.468Z"
   },
   {
    "duration": 35,
    "start_time": "2022-12-19T20:06:42.531Z"
   },
   {
    "duration": 57,
    "start_time": "2022-12-19T20:06:42.567Z"
   },
   {
    "duration": 10,
    "start_time": "2022-12-19T20:06:42.625Z"
   },
   {
    "duration": 10,
    "start_time": "2022-12-19T20:06:42.637Z"
   },
   {
    "duration": 33,
    "start_time": "2022-12-19T20:06:42.649Z"
   },
   {
    "duration": 6,
    "start_time": "2022-12-19T20:06:42.684Z"
   },
   {
    "duration": 6,
    "start_time": "2022-12-19T20:06:42.691Z"
   },
   {
    "duration": 21,
    "start_time": "2022-12-19T20:06:42.698Z"
   },
   {
    "duration": 5,
    "start_time": "2022-12-19T20:11:18.428Z"
   },
   {
    "duration": 6,
    "start_time": "2022-12-19T20:11:20.779Z"
   },
   {
    "duration": 1175,
    "start_time": "2022-12-19T20:11:33.012Z"
   },
   {
    "duration": 964,
    "start_time": "2022-12-19T20:11:34.188Z"
   },
   {
    "duration": 3,
    "start_time": "2022-12-19T20:11:35.153Z"
   },
   {
    "duration": 14,
    "start_time": "2022-12-19T20:11:35.157Z"
   },
   {
    "duration": 7,
    "start_time": "2022-12-19T20:11:35.172Z"
   },
   {
    "duration": 9,
    "start_time": "2022-12-19T20:11:35.180Z"
   },
   {
    "duration": 8,
    "start_time": "2022-12-19T20:11:35.191Z"
   },
   {
    "duration": 4,
    "start_time": "2022-12-19T20:11:35.201Z"
   },
   {
    "duration": 39,
    "start_time": "2022-12-19T20:11:35.206Z"
   },
   {
    "duration": 4,
    "start_time": "2022-12-19T20:11:35.247Z"
   },
   {
    "duration": 14,
    "start_time": "2022-12-19T20:11:35.252Z"
   },
   {
    "duration": 83,
    "start_time": "2022-12-19T20:11:35.268Z"
   },
   {
    "duration": 9,
    "start_time": "2022-12-19T20:11:35.352Z"
   },
   {
    "duration": 18,
    "start_time": "2022-12-19T20:11:35.362Z"
   },
   {
    "duration": 563,
    "start_time": "2022-12-19T20:11:35.381Z"
   },
   {
    "duration": 27,
    "start_time": "2022-12-19T20:11:35.946Z"
   },
   {
    "duration": 269,
    "start_time": "2022-12-19T20:11:35.974Z"
   },
   {
    "duration": 22,
    "start_time": "2022-12-19T20:11:36.245Z"
   },
   {
    "duration": 19,
    "start_time": "2022-12-19T20:11:36.269Z"
   },
   {
    "duration": 59,
    "start_time": "2022-12-19T20:11:36.290Z"
   },
   {
    "duration": 265,
    "start_time": "2022-12-19T20:11:36.351Z"
   },
   {
    "duration": 20,
    "start_time": "2022-12-19T20:11:36.618Z"
   },
   {
    "duration": 10,
    "start_time": "2022-12-19T20:11:36.639Z"
   },
   {
    "duration": 15,
    "start_time": "2022-12-19T20:11:36.650Z"
   },
   {
    "duration": 149,
    "start_time": "2022-12-19T20:11:36.666Z"
   },
   {
    "duration": 19,
    "start_time": "2022-12-19T20:11:36.817Z"
   },
   {
    "duration": 17,
    "start_time": "2022-12-19T20:11:36.837Z"
   },
   {
    "duration": 14,
    "start_time": "2022-12-19T20:11:36.857Z"
   },
   {
    "duration": 16,
    "start_time": "2022-12-19T20:11:36.873Z"
   },
   {
    "duration": 30,
    "start_time": "2022-12-19T20:11:36.890Z"
   },
   {
    "duration": 335,
    "start_time": "2022-12-19T20:11:36.922Z"
   },
   {
    "duration": 13,
    "start_time": "2022-12-19T20:11:37.258Z"
   },
   {
    "duration": 576,
    "start_time": "2022-12-19T20:11:37.272Z"
   },
   {
    "duration": 12,
    "start_time": "2022-12-19T20:11:37.849Z"
   },
   {
    "duration": 5,
    "start_time": "2022-12-19T20:11:37.862Z"
   },
   {
    "duration": 366,
    "start_time": "2022-12-19T20:11:37.868Z"
   },
   {
    "duration": 18,
    "start_time": "2022-12-19T20:11:38.236Z"
   },
   {
    "duration": 14,
    "start_time": "2022-12-19T20:11:38.256Z"
   },
   {
    "duration": 62,
    "start_time": "2022-12-19T20:11:38.271Z"
   },
   {
    "duration": 34,
    "start_time": "2022-12-19T20:11:38.335Z"
   },
   {
    "duration": 49,
    "start_time": "2022-12-19T20:11:38.371Z"
   },
   {
    "duration": 9,
    "start_time": "2022-12-19T20:11:38.422Z"
   },
   {
    "duration": 4,
    "start_time": "2022-12-19T20:11:38.432Z"
   },
   {
    "duration": 29,
    "start_time": "2022-12-19T20:11:38.437Z"
   },
   {
    "duration": 6,
    "start_time": "2022-12-19T20:11:38.468Z"
   },
   {
    "duration": 4,
    "start_time": "2022-12-19T20:11:38.476Z"
   },
   {
    "duration": 10,
    "start_time": "2022-12-19T20:11:38.482Z"
   },
   {
    "duration": 4,
    "start_time": "2022-12-19T20:13:21.065Z"
   },
   {
    "duration": 7,
    "start_time": "2022-12-19T20:13:21.433Z"
   },
   {
    "duration": 1120,
    "start_time": "2022-12-19T20:36:23.383Z"
   },
   {
    "duration": 1028,
    "start_time": "2022-12-19T20:36:24.505Z"
   },
   {
    "duration": 2,
    "start_time": "2022-12-19T20:36:25.535Z"
   },
   {
    "duration": 14,
    "start_time": "2022-12-19T20:36:25.539Z"
   },
   {
    "duration": 6,
    "start_time": "2022-12-19T20:36:25.555Z"
   },
   {
    "duration": 9,
    "start_time": "2022-12-19T20:36:25.562Z"
   },
   {
    "duration": 7,
    "start_time": "2022-12-19T20:36:25.573Z"
   },
   {
    "duration": 6,
    "start_time": "2022-12-19T20:36:25.582Z"
   },
   {
    "duration": 48,
    "start_time": "2022-12-19T20:36:25.589Z"
   },
   {
    "duration": 4,
    "start_time": "2022-12-19T20:36:25.639Z"
   },
   {
    "duration": 10,
    "start_time": "2022-12-19T20:36:25.644Z"
   },
   {
    "duration": 92,
    "start_time": "2022-12-19T20:36:25.655Z"
   },
   {
    "duration": 8,
    "start_time": "2022-12-19T20:36:25.749Z"
   },
   {
    "duration": 15,
    "start_time": "2022-12-19T20:36:25.758Z"
   },
   {
    "duration": 578,
    "start_time": "2022-12-19T20:36:25.775Z"
   },
   {
    "duration": 23,
    "start_time": "2022-12-19T20:36:26.355Z"
   },
   {
    "duration": 304,
    "start_time": "2022-12-19T20:36:26.379Z"
   },
   {
    "duration": 36,
    "start_time": "2022-12-19T20:36:26.685Z"
   },
   {
    "duration": 22,
    "start_time": "2022-12-19T20:36:26.722Z"
   },
   {
    "duration": 33,
    "start_time": "2022-12-19T20:36:26.745Z"
   },
   {
    "duration": 232,
    "start_time": "2022-12-19T20:36:26.780Z"
   },
   {
    "duration": 19,
    "start_time": "2022-12-19T20:36:27.015Z"
   },
   {
    "duration": 14,
    "start_time": "2022-12-19T20:36:27.036Z"
   },
   {
    "duration": 27,
    "start_time": "2022-12-19T20:36:27.051Z"
   },
   {
    "duration": 137,
    "start_time": "2022-12-19T20:36:27.080Z"
   },
   {
    "duration": 19,
    "start_time": "2022-12-19T20:36:27.218Z"
   },
   {
    "duration": 19,
    "start_time": "2022-12-19T20:36:27.238Z"
   },
   {
    "duration": 15,
    "start_time": "2022-12-19T20:36:27.260Z"
   },
   {
    "duration": 8,
    "start_time": "2022-12-19T20:36:27.277Z"
   },
   {
    "duration": 9,
    "start_time": "2022-12-19T20:36:27.316Z"
   },
   {
    "duration": 335,
    "start_time": "2022-12-19T20:36:27.327Z"
   },
   {
    "duration": 12,
    "start_time": "2022-12-19T20:36:27.664Z"
   },
   {
    "duration": 590,
    "start_time": "2022-12-19T20:36:27.677Z"
   },
   {
    "duration": 11,
    "start_time": "2022-12-19T20:36:28.269Z"
   },
   {
    "duration": 8,
    "start_time": "2022-12-19T20:36:28.282Z"
   },
   {
    "duration": 341,
    "start_time": "2022-12-19T20:36:28.292Z"
   },
   {
    "duration": 17,
    "start_time": "2022-12-19T20:36:28.635Z"
   },
   {
    "duration": 13,
    "start_time": "2022-12-19T20:36:28.653Z"
   },
   {
    "duration": 58,
    "start_time": "2022-12-19T20:36:28.668Z"
   },
   {
    "duration": 34,
    "start_time": "2022-12-19T20:36:28.728Z"
   },
   {
    "duration": 51,
    "start_time": "2022-12-19T20:36:28.764Z"
   },
   {
    "duration": 8,
    "start_time": "2022-12-19T20:36:28.817Z"
   },
   {
    "duration": 4,
    "start_time": "2022-12-19T20:36:28.827Z"
   },
   {
    "duration": 37,
    "start_time": "2022-12-19T20:36:28.832Z"
   },
   {
    "duration": 6,
    "start_time": "2022-12-19T20:36:28.871Z"
   },
   {
    "duration": 6,
    "start_time": "2022-12-19T20:36:28.878Z"
   },
   {
    "duration": 10,
    "start_time": "2022-12-19T20:36:28.885Z"
   },
   {
    "duration": 3,
    "start_time": "2022-12-19T20:40:15.421Z"
   },
   {
    "duration": 1049,
    "start_time": "2022-12-19T20:40:15.426Z"
   },
   {
    "duration": 3,
    "start_time": "2022-12-19T20:40:16.477Z"
   },
   {
    "duration": 15,
    "start_time": "2022-12-19T20:40:16.481Z"
   },
   {
    "duration": 15,
    "start_time": "2022-12-19T20:40:16.497Z"
   },
   {
    "duration": 18,
    "start_time": "2022-12-19T20:40:16.514Z"
   },
   {
    "duration": 17,
    "start_time": "2022-12-19T20:40:16.533Z"
   },
   {
    "duration": 10,
    "start_time": "2022-12-19T20:40:16.552Z"
   },
   {
    "duration": 46,
    "start_time": "2022-12-19T20:40:16.564Z"
   },
   {
    "duration": 4,
    "start_time": "2022-12-19T20:40:16.612Z"
   },
   {
    "duration": 16,
    "start_time": "2022-12-19T20:40:16.618Z"
   },
   {
    "duration": 100,
    "start_time": "2022-12-19T20:40:16.636Z"
   },
   {
    "duration": 10,
    "start_time": "2022-12-19T20:40:16.737Z"
   },
   {
    "duration": 14,
    "start_time": "2022-12-19T20:40:16.748Z"
   },
   {
    "duration": 546,
    "start_time": "2022-12-19T20:40:16.764Z"
   },
   {
    "duration": 22,
    "start_time": "2022-12-19T20:40:17.315Z"
   },
   {
    "duration": 258,
    "start_time": "2022-12-19T20:40:17.339Z"
   },
   {
    "duration": 32,
    "start_time": "2022-12-19T20:40:17.599Z"
   },
   {
    "duration": 21,
    "start_time": "2022-12-19T20:40:17.633Z"
   },
   {
    "duration": 31,
    "start_time": "2022-12-19T20:40:17.655Z"
   },
   {
    "duration": 222,
    "start_time": "2022-12-19T20:40:17.687Z"
   },
   {
    "duration": 20,
    "start_time": "2022-12-19T20:40:17.915Z"
   },
   {
    "duration": 10,
    "start_time": "2022-12-19T20:40:17.937Z"
   },
   {
    "duration": 17,
    "start_time": "2022-12-19T20:40:17.948Z"
   },
   {
    "duration": 135,
    "start_time": "2022-12-19T20:40:17.967Z"
   },
   {
    "duration": 27,
    "start_time": "2022-12-19T20:40:18.103Z"
   },
   {
    "duration": 15,
    "start_time": "2022-12-19T20:40:18.131Z"
   },
   {
    "duration": 14,
    "start_time": "2022-12-19T20:40:18.147Z"
   },
   {
    "duration": 9,
    "start_time": "2022-12-19T20:40:18.162Z"
   },
   {
    "duration": 10,
    "start_time": "2022-12-19T20:40:18.172Z"
   },
   {
    "duration": 42,
    "start_time": "2022-12-19T20:40:18.215Z"
   },
   {
    "duration": 12,
    "start_time": "2022-12-19T20:40:18.259Z"
   },
   {
    "duration": 456,
    "start_time": "2022-12-19T20:40:18.273Z"
   },
   {
    "duration": 13,
    "start_time": "2022-12-19T20:40:18.735Z"
   },
   {
    "duration": 5,
    "start_time": "2022-12-19T20:40:18.749Z"
   },
   {
    "duration": 379,
    "start_time": "2022-12-19T20:40:18.756Z"
   },
   {
    "duration": 22,
    "start_time": "2022-12-19T20:40:19.137Z"
   },
   {
    "duration": 15,
    "start_time": "2022-12-19T20:40:19.161Z"
   },
   {
    "duration": 50,
    "start_time": "2022-12-19T20:40:19.178Z"
   },
   {
    "duration": 35,
    "start_time": "2022-12-19T20:40:19.230Z"
   },
   {
    "duration": 53,
    "start_time": "2022-12-19T20:40:19.267Z"
   },
   {
    "duration": 10,
    "start_time": "2022-12-19T20:40:19.322Z"
   },
   {
    "duration": 4,
    "start_time": "2022-12-19T20:40:19.333Z"
   },
   {
    "duration": 28,
    "start_time": "2022-12-19T20:40:19.339Z"
   },
   {
    "duration": 8,
    "start_time": "2022-12-19T20:40:19.368Z"
   },
   {
    "duration": 5,
    "start_time": "2022-12-19T20:40:19.378Z"
   },
   {
    "duration": 32,
    "start_time": "2022-12-19T20:40:19.385Z"
   }
  ],
  "kernelspec": {
   "display_name": "Python 3 (ipykernel)",
   "language": "python",
   "name": "python3"
  },
  "language_info": {
   "codemirror_mode": {
    "name": "ipython",
    "version": 3
   },
   "file_extension": ".py",
   "mimetype": "text/x-python",
   "name": "python",
   "nbconvert_exporter": "python",
   "pygments_lexer": "ipython3",
   "version": "3.9.12"
  },
  "toc": {
   "base_numbering": 1,
   "nav_menu": {},
   "number_sections": true,
   "sideBar": true,
   "skip_h1_title": true,
   "title_cell": "Table of Contents",
   "title_sidebar": "Contents",
   "toc_cell": false,
   "toc_position": {},
   "toc_section_display": true,
   "toc_window_display": false
  }
 },
 "nbformat": 4,
 "nbformat_minor": 5
}
